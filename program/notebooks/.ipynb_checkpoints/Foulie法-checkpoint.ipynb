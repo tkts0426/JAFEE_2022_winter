{
  "nbformat": 4,
  "nbformat_minor": 0,
  "metadata": {
    "colab": {
      "name": "Foulie法(t全て)",
      "provenance": [],
      "collapsed_sections": [],
      "toc_visible": true
    },
    "kernelspec": {
      "name": "python3",
      "display_name": "Python 3"
    },
    "language_info": {
      "name": "python"
    }
  },
  "cells": [
    {
      "cell_type": "markdown",
      "metadata": {
        "id": "XdTiHmqC_R-n"
      },
      "source": [
        ""
      ]
    },
    {
      "cell_type": "code",
      "metadata": {
        "id": "orxVsTyA-7uG"
      },
      "source": [
        "import numpy as np\n",
        "import matplotlib.pyplot as plt\n",
        "import pandas as pd\n",
        "import math\n",
        "\n",
        "%matplotlib inline\n",
        "%config InlineBackend.figure_format = 'retina'\n",
        "\n",
        "\n",
        "\n",
        "np.random.seed(1234)\n"
      ],
      "execution_count": null,
      "outputs": []
    },
    {
      "cell_type": "code",
      "metadata": {
        "id": "VFpvrakT_OPK"
      },
      "source": [
        "pd.set_option('display.max_rows', 1000)\n",
        "pd.set_option('display.max_columns', 1000)"
      ],
      "execution_count": null,
      "outputs": []
    },
    {
      "cell_type": "markdown",
      "metadata": {
        "id": "KgJf0QtJ_UOZ"
      },
      "source": [
        "# ブラウン運動の発生"
      ]
    },
    {
      "cell_type": "code",
      "metadata": {
        "id": "9NAbO0vo_b7c"
      },
      "source": [
        "def brownian_motion(n, T):\n",
        "    \"\"\"\n",
        "    Simulates a Brownian motion\n",
        "    :param int n : the number of discrete steps\n",
        "    :param int T: the number of continuous time steps\n",
        "    :param float h: the variance of the increments\n",
        "    \"\"\"\n",
        "    delta_t = 1. * T/n  # decide the increment of the time\n",
        "    partition = [i * delta_t for i in range(n + 1)] # make a partition\n",
        "    \n",
        "    # ブラウン運動の差分（平均：０，標準偏差：時間の差分）\n",
        "    random_increments = np.random.normal(loc = 0.0, scale = np.sqrt(delta_t), size = n)\n",
        "    '''\n",
        "    where loc = \"mean(average)\", scale = \"variance\", n = the number of increments.\n",
        "    (正規分布を発生させている)\n",
        "    '''\n",
        "    # making data like a Brownian motion\n",
        "    brownian_motion = np.cumsum(random_increments)  # calculate the brownian motion\n",
        "    # insert the initial condition\n",
        "    brownian_motion = np.insert(brownian_motion, 0, 0.0)\n",
        "    \n",
        "    return brownian_motion, random_increments, partition"
      ],
      "execution_count": null,
      "outputs": []
    },
    {
      "cell_type": "markdown",
      "metadata": {
        "id": "5ciHmwo-_eUn"
      },
      "source": [
        "# SABR_2モデル"
      ]
    },
    {
      "cell_type": "code",
      "metadata": {
        "id": "XD3chiTs_lQx"
      },
      "source": [
        "def SABR_vol(dB_1, dB_2, n, delta_t, a, rho, vol_0):\n",
        "    vols_root = [vol_0]\n",
        "    for i in range(1, n + 1):\n",
        "        pre_vol = vols_root[i-1]\n",
        "        vol_root = pre_vol * math.exp((1/2) * a * (rho * dB_1[i-1] + np.sqrt(1 - rho**2) * dB_2[i-1]) - (1/4) * (a**2) * delta_t)\n",
        "        vols_root.append(vol_root)\n",
        "    return vols_root\n",
        "\n",
        "def simulate_SABR_2(n = 100, T = 1, alpha = 0.3, beta = 1, rho = 0.5, X_0 = 0.1, vol_0 = 0.1, fig_mode = False):\n",
        "    '''\n",
        "    出力：\n",
        "        データテーブル（columns : timestamp, process, volatility**(1/2))\n",
        "    '''\n",
        "    \n",
        "    \n",
        "    \n",
        "    # BMの生成\n",
        "    BM_1, dB_1, partition = brownian_motion(n, T)\n",
        "    BM_2, dB_2, partition = brownian_motion(n, T)\n",
        "    dt = 1. * T / n\n",
        "    \n",
        "    partition = [dt * i for i in range(n + 1)]\n",
        "    \n",
        "    # SABR model に従う ”Process X”と ”volatility sig” を作成\n",
        "    X = np.zeros(n + 1)\n",
        "    X[0] = X_0\n",
        "    \n",
        "    SABR_vols = SABR_vol(dB_1 = dB_1, dB_2 = dB_2, n = n, delta_t = dt, a = alpha, rho = rho, vol_0 = vol_0)\n",
        "    \n",
        "    for i, dB_1_t, dB_2_t, t in zip(range(1, n+1), dB_1, dB_2, partition):\n",
        "        # 1つ前の X と sig の値\n",
        "        pre_vol = SABR_vols[i-1]\n",
        "        pre_X = X[i-1] \n",
        "        # X と sig の値を計算（SDEに従う）\n",
        "        X[i] = pre_X + pre_vol * pre_X**(beta) * dB_1_t\n",
        "        \n",
        "    #print('vol size : {}, X size : {}, partition size : {}'.format(len(SABR_vols), X.size, len(partition)))\n",
        "    \n",
        "    data_array = np.array([partition, X, SABR_vols]).T\n",
        "    df = pd.DataFrame(data_array, columns = ['timestamp', 'process', 'volatility'])\n",
        "    \n",
        "    if fig_mode:\n",
        "        fig, ax = plt.subplots()\n",
        "\n",
        "        # plot the process X and volatility sigma\n",
        "        ax.plot(partition, X, color = 'blue', label = 'process')\n",
        "        ax.plot(partition, SABR_vols, color = 'red', label = 'volatility')\n",
        "        ax.set_xlabel('time(s)')\n",
        "        ax.set_ylabel('process X and volatility sigma')\n",
        "\n",
        "        # 以下はそんなに関係ないから気にしなくていい．\n",
        "        plt.gca().spines['right'].set_visible(False)\n",
        "        plt.gca().spines['top'].set_visible(False)\n",
        "        plt.gca().yaxis.set_ticks_position('left')\n",
        "        plt.gca().xaxis.set_ticks_position('bottom')\n",
        "\n",
        "        plt.legend();\n",
        "\n",
        "    return df"
      ],
      "execution_count": null,
      "outputs": []
    },
    {
      "cell_type": "markdown",
      "metadata": {
        "id": "jbk-mou6_rtZ"
      },
      "source": [
        "# スポットボラティリティの推定"
      ]
    },
    {
      "cell_type": "code",
      "metadata": {
        "id": "Ypc0eySX_ukA"
      },
      "source": [
        "#フェイエ核\n",
        "def F(M,x):\n",
        "  return 1 / (M+1) * (np.sin(2 * np.pi* (M + 1) * x /2))**2 / (np.sin(2 * np.pi * x / 2))**2"
      ],
      "execution_count": null,
      "outputs": []
    },
    {
      "cell_type": "code",
      "metadata": {
        "id": "yazQfpI9_vOm"
      },
      "source": [
        "#ディレクレ核\n",
        "def D(N,x):\n",
        "  return 1/(2*N + 1) * (np.sin(2 * np.pi * (N + 1/2) * x)) / (np.sin(2 * np.pi * x / 2) )"
      ],
      "execution_count": null,
      "outputs": []
    },
    {
      "cell_type": "markdown",
      "metadata": {
        "id": "UUxBN2vi__Fx"
      },
      "source": [
        "## ハイパーパラメータの設定"
      ]
    },
    {
      "cell_type": "code",
      "metadata": {
        "id": "on56_Kg-_xi2"
      },
      "source": [
        "# ハイパーパラメータの設定\n",
        "T = 1\n",
        "n = 100\n",
        "N = n/2\n",
        "\n",
        "M = 1\n",
        "\n",
        "alpha = 0\n",
        "beta = 0\n",
        "rho = -0.2\n",
        "X_0 = 1000\n",
        "vol_0 = 6\n",
        "\n"
      ],
      "execution_count": null,
      "outputs": []
    },
    {
      "cell_type": "markdown",
      "metadata": {
        "id": "jnNNU8V1xvl_"
      },
      "source": [
        "# t全て"
      ]
    },
    {
      "cell_type": "code",
      "metadata": {
        "id": "vZkn_Q4OxtHG"
      },
      "source": [
        "def cal_spotVol(n, N, M, T, alpha, beta, rho, X_0, vol_0):\n",
        "  partition = [i/n for i in range(n)]\n",
        "  df_path = simulate_SABR_2(n = n, T = T, alpha = alpha, beta = beta, rho = rho, X_0 = X_0, vol_0 = vol_0)\n",
        "  X = df_path['process'].values\n",
        "  \n",
        "  vol_process = []\n",
        "#各時刻tに対して分割i,jに対するスポットボラティリティを計算する\n",
        "#nは分割数\n",
        "  for t in partition:\n",
        "    spot_vol = 0\n",
        "    for i in range(n):\n",
        "      for j in range(n):\n",
        "        if ((np.sin(2 * np.pi* (t - partition[j]) / 2))**2 == 0):\n",
        "          F_ = M + 1\n",
        "        else:\n",
        "          F_ = F(M, t - partition[j])\n",
        "        if (np.sin(2 * np.pi* (partition[j] - partition[i]) /2)  == 0):\n",
        "            D_ = 1\n",
        "        else:\n",
        "          D_ = D(N, partition[j] - partition[i])\n",
        "        \n",
        "        add = F_ * D_ * (X[j+1] - X[j]) * (X[i+1] - X[i])\n",
        "        spot_vol += add\n",
        "\n",
        "    vol_process.append(spot_vol)\n",
        "\n",
        "#個数を合わせる為\n",
        "  df_path = df_path[:-1]\n",
        "\n",
        "  #print(len(vol_process))\n",
        "  #print(df_path.shape)\n",
        "\n",
        "  df_path['spot volatility'] = vol_process\n",
        "  \n",
        "  df_path['abs_error_vol'] = np.abs( df_path['spot volatility'] - df_path['volatility']**2 )\n",
        "# error_vol =abs( spot_vol - (df_path['process'] * df_path['volatility']) ** 2 )\n",
        "  return df_path\n",
        "\n",
        "#L2誤差を吐き出す関数を定義\n",
        "def cal_error(df_path):\n",
        "  error = np.linalg.norm(df_path['volatility']**2 - df_path['spot volatility']) / np.sqrt(n)\n",
        "  \n",
        "  return error"
      ],
      "execution_count": null,
      "outputs": []
    },
    {
      "cell_type": "code",
      "metadata": {
        "id": "0n_8gX5Hx-Z7"
      },
      "source": [
        "df_path = cal_spotVol(n, N, M, T, alpha, beta, rho, X_0, vol_0)"
      ],
      "execution_count": null,
      "outputs": []
    },
    {
      "cell_type": "code",
      "metadata": {
        "colab": {
          "base_uri": "https://localhost:8080/",
          "height": 514
        },
        "id": "9o8BdbDox_SX",
        "outputId": "03e9ecc5-6f62-419b-9bc9-a5ec060eb14e"
      },
      "source": [
        "df_path.head(15)"
      ],
      "execution_count": null,
      "outputs": [
        {
          "output_type": "execute_result",
          "data": {
            "text/html": [
              "<div>\n",
              "<style scoped>\n",
              "    .dataframe tbody tr th:only-of-type {\n",
              "        vertical-align: middle;\n",
              "    }\n",
              "\n",
              "    .dataframe tbody tr th {\n",
              "        vertical-align: top;\n",
              "    }\n",
              "\n",
              "    .dataframe thead th {\n",
              "        text-align: right;\n",
              "    }\n",
              "</style>\n",
              "<table border=\"1\" class=\"dataframe\">\n",
              "  <thead>\n",
              "    <tr style=\"text-align: right;\">\n",
              "      <th></th>\n",
              "      <th>timestamp</th>\n",
              "      <th>process</th>\n",
              "      <th>volatility</th>\n",
              "      <th>spot volatility</th>\n",
              "      <th>abs_error_vol</th>\n",
              "    </tr>\n",
              "  </thead>\n",
              "  <tbody>\n",
              "    <tr>\n",
              "      <th>0</th>\n",
              "      <td>0.00</td>\n",
              "      <td>1000.000000</td>\n",
              "      <td>6.0</td>\n",
              "      <td>38.440078</td>\n",
              "      <td>2.440078</td>\n",
              "    </tr>\n",
              "    <tr>\n",
              "      <th>1</th>\n",
              "      <td>0.01</td>\n",
              "      <td>1000.282861</td>\n",
              "      <td>6.0</td>\n",
              "      <td>38.262201</td>\n",
              "      <td>2.262201</td>\n",
              "    </tr>\n",
              "    <tr>\n",
              "      <th>2</th>\n",
              "      <td>0.02</td>\n",
              "      <td>999.568276</td>\n",
              "      <td>6.0</td>\n",
              "      <td>38.082133</td>\n",
              "      <td>2.082133</td>\n",
              "    </tr>\n",
              "    <tr>\n",
              "      <th>3</th>\n",
              "      <td>0.03</td>\n",
              "      <td>1000.427900</td>\n",
              "      <td>6.0</td>\n",
              "      <td>37.900585</td>\n",
              "      <td>1.900585</td>\n",
              "    </tr>\n",
              "    <tr>\n",
              "      <th>4</th>\n",
              "      <td>0.04</td>\n",
              "      <td>1000.240309</td>\n",
              "      <td>6.0</td>\n",
              "      <td>37.718273</td>\n",
              "      <td>1.718273</td>\n",
              "    </tr>\n",
              "    <tr>\n",
              "      <th>5</th>\n",
              "      <td>0.05</td>\n",
              "      <td>999.807955</td>\n",
              "      <td>6.0</td>\n",
              "      <td>37.535917</td>\n",
              "      <td>1.535917</td>\n",
              "    </tr>\n",
              "    <tr>\n",
              "      <th>6</th>\n",
              "      <td>0.06</td>\n",
              "      <td>1000.340253</td>\n",
              "      <td>6.0</td>\n",
              "      <td>37.354236</td>\n",
              "      <td>1.354236</td>\n",
              "    </tr>\n",
              "    <tr>\n",
              "      <th>7</th>\n",
              "      <td>0.07</td>\n",
              "      <td>1000.856006</td>\n",
              "      <td>6.0</td>\n",
              "      <td>37.173948</td>\n",
              "      <td>1.173948</td>\n",
              "    </tr>\n",
              "    <tr>\n",
              "      <th>8</th>\n",
              "      <td>0.08</td>\n",
              "      <td>1000.474092</td>\n",
              "      <td>6.0</td>\n",
              "      <td>36.995764</td>\n",
              "      <td>0.995764</td>\n",
              "    </tr>\n",
              "    <tr>\n",
              "      <th>9</th>\n",
              "      <td>0.09</td>\n",
              "      <td>1000.483510</td>\n",
              "      <td>6.0</td>\n",
              "      <td>36.820387</td>\n",
              "      <td>0.820387</td>\n",
              "    </tr>\n",
              "    <tr>\n",
              "      <th>10</th>\n",
              "      <td>0.10</td>\n",
              "      <td>999.137899</td>\n",
              "      <td>6.0</td>\n",
              "      <td>36.648510</td>\n",
              "      <td>0.648510</td>\n",
              "    </tr>\n",
              "    <tr>\n",
              "      <th>11</th>\n",
              "      <td>0.11</td>\n",
              "      <td>999.827920</td>\n",
              "      <td>6.0</td>\n",
              "      <td>36.480811</td>\n",
              "      <td>0.480811</td>\n",
              "    </tr>\n",
              "    <tr>\n",
              "      <th>12</th>\n",
              "      <td>0.12</td>\n",
              "      <td>1000.423088</td>\n",
              "      <td>6.0</td>\n",
              "      <td>36.317951</td>\n",
              "      <td>0.317951</td>\n",
              "    </tr>\n",
              "    <tr>\n",
              "      <th>13</th>\n",
              "      <td>0.13</td>\n",
              "      <td>1000.995083</td>\n",
              "      <td>6.0</td>\n",
              "      <td>36.160573</td>\n",
              "      <td>0.160573</td>\n",
              "    </tr>\n",
              "    <tr>\n",
              "      <th>14</th>\n",
              "      <td>0.14</td>\n",
              "      <td>999.782330</td>\n",
              "      <td>6.0</td>\n",
              "      <td>36.009299</td>\n",
              "      <td>0.009299</td>\n",
              "    </tr>\n",
              "  </tbody>\n",
              "</table>\n",
              "</div>"
            ],
            "text/plain": [
              "    timestamp      process  volatility  spot volatility  abs_error_vol\n",
              "0        0.00  1000.000000         6.0        38.440078       2.440078\n",
              "1        0.01  1000.282861         6.0        38.262201       2.262201\n",
              "2        0.02   999.568276         6.0        38.082133       2.082133\n",
              "3        0.03  1000.427900         6.0        37.900585       1.900585\n",
              "4        0.04  1000.240309         6.0        37.718273       1.718273\n",
              "5        0.05   999.807955         6.0        37.535917       1.535917\n",
              "6        0.06  1000.340253         6.0        37.354236       1.354236\n",
              "7        0.07  1000.856006         6.0        37.173948       1.173948\n",
              "8        0.08  1000.474092         6.0        36.995764       0.995764\n",
              "9        0.09  1000.483510         6.0        36.820387       0.820387\n",
              "10       0.10   999.137899         6.0        36.648510       0.648510\n",
              "11       0.11   999.827920         6.0        36.480811       0.480811\n",
              "12       0.12  1000.423088         6.0        36.317951       0.317951\n",
              "13       0.13  1000.995083         6.0        36.160573       0.160573\n",
              "14       0.14   999.782330         6.0        36.009299       0.009299"
            ]
          },
          "metadata": {},
          "execution_count": 10
        }
      ]
    },
    {
      "cell_type": "code",
      "metadata": {
        "colab": {
          "base_uri": "https://localhost:8080/"
        },
        "id": "7N83lfjI37-D",
        "outputId": "4a42017d-3114-4bb4-a956-f3c9a188367d"
      },
      "source": [
        "print(\"L2-error is\",cal_error(df_path))"
      ],
      "execution_count": null,
      "outputs": [
        {
          "output_type": "stream",
          "name": "stdout",
          "text": [
            "L2-error is 2.6702755689855975\n"
          ]
        }
      ]
    },
    {
      "cell_type": "markdown",
      "metadata": {
        "id": "oH-z4AOayHyL"
      },
      "source": [
        "## Mを固定した場合のL2誤差の平均分散"
      ]
    },
    {
      "cell_type": "code",
      "metadata": {
        "colab": {
          "base_uri": "https://localhost:8080/"
        },
        "id": "uN8ESfnLyI0V",
        "outputId": "a3e6abec-bf97-4bef-df39-7850c31748e9"
      },
      "source": [
        "errors = []\n",
        "for _ in range(30):\n",
        "  df_path = cal_spotVol(n, N, M, T, alpha, beta, rho, X_0, vol_0)\n",
        "  error = cal_error(df_path)\n",
        "  print(error)\n",
        "  print('----' * 10)\n",
        "  errors.append(error)\n",
        "\n",
        "errors = np.array(errors)\n",
        "print(f'mean = {np.mean(errors)}', f'var = {np.var(errors)}')\n"
      ],
      "execution_count": null,
      "outputs": [
        {
          "output_type": "stream",
          "name": "stdout",
          "text": [
            "3.7015460323491154\n",
            "----------------------------------------\n",
            "6.820897561936194\n",
            "----------------------------------------\n",
            "6.155211102273615\n",
            "----------------------------------------\n",
            "4.8353901477486945\n",
            "----------------------------------------\n",
            "3.1854307765305974\n",
            "----------------------------------------\n",
            "4.5576117195230115\n",
            "----------------------------------------\n",
            "5.551770416954013\n",
            "----------------------------------------\n",
            "9.265050850231303\n",
            "----------------------------------------\n",
            "6.515154655054002\n",
            "----------------------------------------\n",
            "2.176734324410029\n",
            "----------------------------------------\n",
            "4.308549149210269\n",
            "----------------------------------------\n",
            "6.053701441300187\n",
            "----------------------------------------\n",
            "2.1243482594939462\n",
            "----------------------------------------\n",
            "2.1808243500959295\n",
            "----------------------------------------\n",
            "2.270313476800945\n",
            "----------------------------------------\n",
            "7.166292050538344\n",
            "----------------------------------------\n",
            "7.507471449188055\n",
            "----------------------------------------\n",
            "7.685906070324622\n",
            "----------------------------------------\n",
            "9.308141737071969\n",
            "----------------------------------------\n",
            "9.805431547877541\n",
            "----------------------------------------\n",
            "5.434532249472321\n",
            "----------------------------------------\n",
            "2.9681309046834627\n",
            "----------------------------------------\n",
            "3.629980334259635\n",
            "----------------------------------------\n",
            "7.733850032671197\n",
            "----------------------------------------\n",
            "9.472651510764646\n",
            "----------------------------------------\n",
            "1.9709577625503893\n",
            "----------------------------------------\n",
            "9.306956349445366\n",
            "----------------------------------------\n",
            "5.245709771492168\n",
            "----------------------------------------\n",
            "1.9733790467997927\n",
            "----------------------------------------\n",
            "2.9474060247472673\n",
            "----------------------------------------\n",
            "mean = 5.395311036859955 var = 6.462005153055022\n"
          ]
        }
      ]
    },
    {
      "cell_type": "markdown",
      "metadata": {
        "id": "PEO3g9FnRlCv"
      },
      "source": [
        "# 可視化"
      ]
    },
    {
      "cell_type": "code",
      "metadata": {
        "id": "xcuBv9qcRoB8"
      },
      "source": [
        "for _ in range(5):\n",
        "  df_path = cal_spotVol(n, N, M, T, alpha, beta, rho, X_0, vol_0)\n",
        "\n",
        "  t = df_path['timestamp']\n",
        "  X = (df_path['volatility'])**2\n",
        "  V = df_path['spot volatility']\n",
        "\n",
        "  fig, ax = plt.subplots()\n",
        "  ax.plot(t, X, 'o-r', t, V, 'x--b', linewidth = 5)\n",
        "\n",
        "  plt.show()"
      ],
      "execution_count": null,
      "outputs": []
    }
  ]
}