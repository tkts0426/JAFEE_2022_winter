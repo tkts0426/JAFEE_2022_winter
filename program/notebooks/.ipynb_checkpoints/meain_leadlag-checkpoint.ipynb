{
 "cells": [
  {
   "cell_type": "code",
   "execution_count": 1,
   "id": "ed7bd139-889b-4b41-8a22-d54bbf8773e5",
   "metadata": {},
   "outputs": [
    {
     "name": "stdout",
     "output_type": "stream",
     "text": [
      "/home/tkts0426/Rits_Conference/JAFEE_2022_winter/program\n"
     ]
    }
   ],
   "source": [
    "%cd .."
   ]
  },
  {
   "cell_type": "code",
   "execution_count": 2,
   "id": "22c46fb4-d071-4d9e-9868-692b5ff81c00",
   "metadata": {},
   "outputs": [],
   "source": [
    "import esig\n",
    "import esig.tosig as ts\n",
    "import numpy as np\n",
    "import pandas as pd\n",
    "import seaborn as sns\n",
    "import torch\n",
    "import matplotlib.pyplot as plt\n",
    "import math\n",
    "import warnings\n",
    "import matplotlib.patches as mpatches\n",
    "\n",
    "from sklearn.preprocessing import MinMaxScaler\n",
    "from torch import optim\n",
    "from tqdm import tqdm\n",
    "from sklearn import utils\n",
    "\n",
    "from src.generating_process import brownian_motion, simulate_SABR, simulate_SABR_2, cal_spotVol\n",
    "from src.cvae import CVAE\n",
    "from src.vae import VAE\n",
    "from src.create_dataset import MyDataset\n",
    "from src.custom_loss import CustomLoss\n",
    "from src.utils import tosig\n",
    "from src.utils.leadlag import leadlag\n",
    "from src import logsig_inversion\n",
    "from src import process_discriminator\n",
    "from src.sig_calculus_func import Lead, Lag\n",
    "\n",
    "pd.set_option('display.max_columns', 1000)\n",
    "pd.set_option('display.max_rows', 1000)\n",
    "\n",
    "warnings.simplefilter('ignore')"
   ]
  },
  {
   "cell_type": "code",
   "execution_count": 3,
   "id": "c9c80427-4e90-413d-8b23-42e972ca306c",
   "metadata": {},
   "outputs": [],
   "source": [
    "def generate(cond, input_dim, n_latent, n_samples = None):\n",
    "    if n_samples is not None:\n",
    "        randoms = []\n",
    "        for i in range(n_samples):\n",
    "            random = np.random.normal(0, 1, size=(1, n_latent))\n",
    "            randoms.append(random)\n",
    "    else:\n",
    "        randoms = np.random.normal(0, 1, size=(1, n_latent))\n",
    "        cond = torch.Tensor(cond)\n",
    "    \n",
    "    randoms = torch.Tensor(randoms).reshape(-1, n_latent)\n",
    "    cond = torch.Tensor(cond.float()).reshape(-1, input_dim)\n",
    "    \n",
    "    samples = generator.decoder(randoms, cond)\n",
    "    \n",
    "    return samples"
   ]
  },
  {
   "cell_type": "markdown",
   "id": "0bbe1a39-d3b4-4179-aeea-1cc2df93c345",
   "metadata": {},
   "source": [
    "# Download the data"
   ]
  },
  {
   "cell_type": "code",
   "execution_count": 4,
   "id": "a793af18-7e99-49bb-89bc-e14e3e10d830",
   "metadata": {},
   "outputs": [],
   "source": [
    "DATAs = np.load('Data/DATAs_1000.npy')"
   ]
  },
  {
   "cell_type": "markdown",
   "id": "8cbaa4bb-6270-45f1-8924-aef4f1d77d97",
   "metadata": {},
   "source": [
    "# Create the leadlag data"
   ]
  },
  {
   "cell_type": "code",
   "execution_count": 6,
   "id": "0b991a2f-33da-42df-8a9c-c2c6ffa8e88b",
   "metadata": {},
   "outputs": [],
   "source": [
    "leadlag_DATAs = []\n",
    "for i in range(DATAs.shape[0]):\n",
    "    timestamp = DATAs[i, :, 0]\n",
    "    price = DATAs[i, :, 1]\n",
    "    vol = DATAs[i, :, 2]\n",
    "    spot_vol = DATAs[i, :, 3]\n",
    "\n",
    "    leadlag_timestamp = leadlag(timestamp)\n",
    "    leadlag_price = leadlag(price)\n",
    "    leadlag_vol = leadlag(vol)\n",
    "    leadlag_spot_vol = leadlag(spot_vol)\n",
    "\n",
    "    leadlag_DATA = np.c_[leadlag_timestamp, leadlag_price, leadlag_vol, leadlag_spot_vol]\n",
    "    leadlag_DATAs.append(leadlag_DATA)\n",
    "\n",
    "leadlag_DATAs = np.array(leadlag_DATAs)"
   ]
  },
  {
   "cell_type": "markdown",
   "id": "097bfeda-65f3-407f-a498-510b4945cf3f",
   "metadata": {},
   "source": [
    "# Make the explanatory variable"
   ]
  },
  {
   "cell_type": "code",
   "execution_count": 14,
   "id": "f749ee39-9d6c-4f6d-b22a-b4145e627364",
   "metadata": {},
   "outputs": [
    {
     "data": {
      "text/plain": [
       "array([[0.00000000e+00, 0.00000000e+00, 1.00000000e+03, ...,\n",
       "        6.00000000e+00, 4.37545855e+01, 4.37545855e+01],\n",
       "       [0.00000000e+00, 1.00000000e-02, 1.00000000e+03, ...,\n",
       "        6.00084327e+00, 4.37545855e+01, 3.92921292e+01],\n",
       "       [1.00000000e-02, 1.00000000e-02, 1.00044469e+03, ...,\n",
       "        6.00084327e+00, 3.92921292e+01, 3.92921292e+01],\n",
       "       ...,\n",
       "       [9.80000000e-01, 9.80000000e-01, 9.92386076e+02, ...,\n",
       "        6.00004461e+00, 3.17073058e+01, 3.17073058e+01],\n",
       "       [9.80000000e-01, 9.90000000e-01, 9.92386076e+02, ...,\n",
       "        6.00279210e+00, 3.17073058e+01, 3.76350091e+01],\n",
       "       [9.90000000e-01, 9.90000000e-01, 9.91685773e+02, ...,\n",
       "        6.00279210e+00, 3.76350091e+01, 3.76350091e+01]])"
      ]
     },
     "execution_count": 14,
     "metadata": {},
     "output_type": "execute_result"
    }
   ],
   "source": [
    "leadlag_DATAs[0, :]"
   ]
  },
  {
   "cell_type": "code",
   "execution_count": 33,
   "id": "d1e84585-c31a-4d66-96b2-ae9945e9d154",
   "metadata": {},
   "outputs": [],
   "source": [
    "sig_order = 4\n",
    "exp_col = [2,3]"
   ]
  },
  {
   "cell_type": "code",
   "execution_count": 34,
   "id": "e1af26cb-311e-47e7-9c06-f9ab70419f35",
   "metadata": {},
   "outputs": [
    {
     "name": "stderr",
     "output_type": "stream",
     "text": [
      "Computing log-signatures: 100%|█████████████████████████████████| 1000/1000 [00:00<00:00, 5563.17it/s]\n"
     ]
    }
   ],
   "source": [
    "orig_logsig = []\n",
    "for i in tqdm(range(leadlag_DATAs.shape[0]), desc=\"Computing log-signatures\"):\n",
    "    path = leadlag_DATAs[i, :, :]\n",
    "    \n",
    "    orig_logsig.append(esig.stream2logsig(path[:, exp_col], sig_order))\n",
    "    \n",
    "orig_logsig = np.array(orig_logsig)\n",
    "\n",
    "scaler = MinMaxScaler(feature_range=(0.00001, 0.99999))\n",
    "logsig = scaler.fit_transform(orig_logsig)\n",
    "\n",
    "logsigs = logsig[1:]\n",
    "conditions = logsig[:-1]\n",
    "\n",
    "data = utils.as_float_array(logsigs)\n",
    "data_cond = utils.as_float_array(conditions)\n",
    "\n",
    "input_dim = data.shape[1]\n",
    "cond_dim = data_cond.shape[1]"
   ]
  },
  {
   "cell_type": "code",
   "execution_count": 35,
   "id": "defbfc14-3e8d-4d49-b916-b22a50d71717",
   "metadata": {},
   "outputs": [
    {
     "name": "stdout",
     "output_type": "stream",
     "text": [
      " 1 2 [1,2] [1,[1,2]] [2,[1,2]] [1,[1,[1,2]]] [2,[1,[1,2]]] [2,[2,[1,2]]]\n"
     ]
    }
   ],
   "source": [
    "log_sig_keys = esig.logsigkeys(len(exp_col), sig_order)\n",
    "print(log_sig_keys) "
   ]
  },
  {
   "cell_type": "markdown",
   "id": "8919c351-b80e-4e8c-be45-bb3c6ee08fae",
   "metadata": {},
   "source": [
    "# Make the target variable"
   ]
  },
  {
   "cell_type": "code",
   "execution_count": 36,
   "id": "8e024472-f9d4-46a7-ae6d-a35190949a5a",
   "metadata": {},
   "outputs": [],
   "source": [
    "target_col = [4, 5]"
   ]
  },
  {
   "cell_type": "code",
   "execution_count": 37,
   "id": "4dd837d3-718c-4020-b4e5-4b5579b056ee",
   "metadata": {},
   "outputs": [
    {
     "name": "stderr",
     "output_type": "stream",
     "text": [
      "Computing log-signatures: 100%|█████████████████████████████████| 1000/1000 [00:00<00:00, 5559.47it/s]\n"
     ]
    }
   ],
   "source": [
    "orig_logsig_target = []\n",
    "for i in tqdm(range(leadlag_DATAs.shape[0]), desc=\"Computing log-signatures\"):\n",
    "    path = leadlag_DATAs[i, :, :]\n",
    "    \n",
    "    orig_logsig_target.append(esig.stream2logsig(path[:, target_col], sig_order))\n",
    "    \n",
    "orig_logsig_target = np.array(orig_logsig_target)\n",
    "\n",
    "scaler = MinMaxScaler(feature_range=(0.00001, 0.99999))\n",
    "logsig_target = scaler.fit_transform(orig_logsig_target)\n",
    "\n",
    "target_data = utils.as_float_array(logsig_target)\n",
    "\n",
    "input_dim_target = target_data.shape[1]"
   ]
  },
  {
   "cell_type": "code",
   "execution_count": 38,
   "id": "4846fde2-10eb-4744-8514-49d76b2a9b52",
   "metadata": {},
   "outputs": [
    {
     "name": "stdout",
     "output_type": "stream",
     "text": [
      " 1 2 [1,2] [1,[1,2]] [2,[1,2]] [1,[1,[1,2]]] [2,[1,[1,2]]] [2,[2,[1,2]]]\n"
     ]
    }
   ],
   "source": [
    "log_sig_keys = esig.logsigkeys(len(target_col), sig_order)\n",
    "print(log_sig_keys) "
   ]
  },
  {
   "cell_type": "markdown",
   "id": "23f21260-4542-41a2-b6c9-45f07feea990",
   "metadata": {},
   "source": [
    "# Make the dataset"
   ]
  },
  {
   "cell_type": "code",
   "execution_count": 39,
   "id": "27160e7c-1ddb-43fa-8c3e-11f425de850b",
   "metadata": {},
   "outputs": [],
   "source": [
    "dataset = MyDataset(data, data_cond, target_data)\n",
    "dataloader = torch.utils.data.DataLoader(dataset, batch_size=25, shuffle=True)"
   ]
  },
  {
   "cell_type": "code",
   "execution_count": 40,
   "id": "57af6e0f-3381-491c-a93c-ae5f0b262453",
   "metadata": {},
   "outputs": [],
   "source": [
    "n_epochs = 1000\n",
    "learning_rate=0.005\n",
    "\n",
    "input_dim = input_dim\n",
    "input_dim_target = input_dim_target\n",
    "n_latent = 10"
   ]
  },
  {
   "cell_type": "code",
   "execution_count": 41,
   "id": "d929a50e-3670-4747-985a-7e08589b0ab3",
   "metadata": {},
   "outputs": [],
   "source": [
    "generator = CVAE(input_dim = input_dim, cond_dim = cond_dim, input_dim_target = input_dim_target, n_latent = n_latent, alpha=0.003)\n",
    "\n",
    "criterion = CustomLoss()\n",
    "optimizer = optim.SGD(generator.parameters(), lr=learning_rate, momentum=0.9, weight_decay=0.005)"
   ]
  },
  {
   "cell_type": "code",
   "execution_count": 42,
   "id": "bbefed4a-162e-4d82-976a-b8f39ffa1f5b",
   "metadata": {},
   "outputs": [
    {
     "name": "stdout",
     "output_type": "stream",
     "text": [
      "tensor(0.3128, dtype=torch.float64, grad_fn=<DivBackward0>)\n",
      "tensor(0.1298, dtype=torch.float64, grad_fn=<DivBackward0>)\n",
      "tensor(0.1285, dtype=torch.float64, grad_fn=<DivBackward0>)\n",
      "tensor(0.1280, dtype=torch.float64, grad_fn=<DivBackward0>)\n",
      "tensor(0.1279, dtype=torch.float64, grad_fn=<DivBackward0>)\n",
      "tensor(0.1276, dtype=torch.float64, grad_fn=<DivBackward0>)\n",
      "tensor(0.1277, dtype=torch.float64, grad_fn=<DivBackward0>)\n",
      "tensor(0.1277, dtype=torch.float64, grad_fn=<DivBackward0>)\n",
      "tensor(0.1274, dtype=torch.float64, grad_fn=<DivBackward0>)\n",
      "tensor(0.1276, dtype=torch.float64, grad_fn=<DivBackward0>)\n",
      "tensor(0.1278, dtype=torch.float64, grad_fn=<DivBackward0>)\n",
      "tensor(0.1275, dtype=torch.float64, grad_fn=<DivBackward0>)\n",
      "tensor(0.1276, dtype=torch.float64, grad_fn=<DivBackward0>)\n",
      "tensor(0.1277, dtype=torch.float64, grad_fn=<DivBackward0>)\n",
      "tensor(0.1277, dtype=torch.float64, grad_fn=<DivBackward0>)\n",
      "tensor(0.1277, dtype=torch.float64, grad_fn=<DivBackward0>)\n",
      "tensor(0.1278, dtype=torch.float64, grad_fn=<DivBackward0>)\n",
      "tensor(0.1278, dtype=torch.float64, grad_fn=<DivBackward0>)\n",
      "tensor(0.1279, dtype=torch.float64, grad_fn=<DivBackward0>)\n",
      "tensor(0.1279, dtype=torch.float64, grad_fn=<DivBackward0>)\n",
      "tensor(0.1277, dtype=torch.float64, grad_fn=<DivBackward0>)\n",
      "tensor(0.1278, dtype=torch.float64, grad_fn=<DivBackward0>)\n",
      "tensor(0.1278, dtype=torch.float64, grad_fn=<DivBackward0>)\n",
      "tensor(0.1280, dtype=torch.float64, grad_fn=<DivBackward0>)\n",
      "tensor(0.1279, dtype=torch.float64, grad_fn=<DivBackward0>)\n",
      "tensor(0.1279, dtype=torch.float64, grad_fn=<DivBackward0>)\n",
      "tensor(0.1280, dtype=torch.float64, grad_fn=<DivBackward0>)\n",
      "tensor(0.1278, dtype=torch.float64, grad_fn=<DivBackward0>)\n",
      "tensor(0.1280, dtype=torch.float64, grad_fn=<DivBackward0>)\n",
      "tensor(0.1280, dtype=torch.float64, grad_fn=<DivBackward0>)\n",
      "tensor(0.1279, dtype=torch.float64, grad_fn=<DivBackward0>)\n",
      "tensor(0.1280, dtype=torch.float64, grad_fn=<DivBackward0>)\n",
      "tensor(0.1281, dtype=torch.float64, grad_fn=<DivBackward0>)\n",
      "tensor(0.1280, dtype=torch.float64, grad_fn=<DivBackward0>)\n",
      "tensor(0.1280, dtype=torch.float64, grad_fn=<DivBackward0>)\n",
      "tensor(0.1283, dtype=torch.float64, grad_fn=<DivBackward0>)\n",
      "tensor(0.1279, dtype=torch.float64, grad_fn=<DivBackward0>)\n",
      "tensor(0.1280, dtype=torch.float64, grad_fn=<DivBackward0>)\n",
      "tensor(0.1280, dtype=torch.float64, grad_fn=<DivBackward0>)\n",
      "tensor(0.1280, dtype=torch.float64, grad_fn=<DivBackward0>)\n",
      "tensor(0.1280, dtype=torch.float64, grad_fn=<DivBackward0>)\n",
      "tensor(0.1280, dtype=torch.float64, grad_fn=<DivBackward0>)\n",
      "tensor(0.1281, dtype=torch.float64, grad_fn=<DivBackward0>)\n",
      "tensor(0.1282, dtype=torch.float64, grad_fn=<DivBackward0>)\n",
      "tensor(0.1282, dtype=torch.float64, grad_fn=<DivBackward0>)\n",
      "tensor(0.1282, dtype=torch.float64, grad_fn=<DivBackward0>)\n",
      "tensor(0.1281, dtype=torch.float64, grad_fn=<DivBackward0>)\n",
      "tensor(0.1282, dtype=torch.float64, grad_fn=<DivBackward0>)\n",
      "tensor(0.1282, dtype=torch.float64, grad_fn=<DivBackward0>)\n",
      "tensor(0.1280, dtype=torch.float64, grad_fn=<DivBackward0>)\n",
      "tensor(0.1283, dtype=torch.float64, grad_fn=<DivBackward0>)\n",
      "tensor(0.1282, dtype=torch.float64, grad_fn=<DivBackward0>)\n",
      "tensor(0.1281, dtype=torch.float64, grad_fn=<DivBackward0>)\n",
      "tensor(0.1280, dtype=torch.float64, grad_fn=<DivBackward0>)\n",
      "tensor(0.1282, dtype=torch.float64, grad_fn=<DivBackward0>)\n",
      "tensor(0.1281, dtype=torch.float64, grad_fn=<DivBackward0>)\n",
      "tensor(0.1283, dtype=torch.float64, grad_fn=<DivBackward0>)\n",
      "tensor(0.1281, dtype=torch.float64, grad_fn=<DivBackward0>)\n",
      "tensor(0.1280, dtype=torch.float64, grad_fn=<DivBackward0>)\n",
      "tensor(0.1281, dtype=torch.float64, grad_fn=<DivBackward0>)\n",
      "tensor(0.1282, dtype=torch.float64, grad_fn=<DivBackward0>)\n",
      "tensor(0.1281, dtype=torch.float64, grad_fn=<DivBackward0>)\n",
      "tensor(0.1282, dtype=torch.float64, grad_fn=<DivBackward0>)\n",
      "tensor(0.1281, dtype=torch.float64, grad_fn=<DivBackward0>)\n",
      "tensor(0.1281, dtype=torch.float64, grad_fn=<DivBackward0>)\n",
      "tensor(0.1281, dtype=torch.float64, grad_fn=<DivBackward0>)\n",
      "tensor(0.1281, dtype=torch.float64, grad_fn=<DivBackward0>)\n",
      "tensor(0.1283, dtype=torch.float64, grad_fn=<DivBackward0>)\n",
      "tensor(0.1281, dtype=torch.float64, grad_fn=<DivBackward0>)\n",
      "tensor(0.1282, dtype=torch.float64, grad_fn=<DivBackward0>)\n",
      "tensor(0.1282, dtype=torch.float64, grad_fn=<DivBackward0>)\n",
      "tensor(0.1282, dtype=torch.float64, grad_fn=<DivBackward0>)\n",
      "tensor(0.1282, dtype=torch.float64, grad_fn=<DivBackward0>)\n",
      "tensor(0.1281, dtype=torch.float64, grad_fn=<DivBackward0>)\n",
      "tensor(0.1281, dtype=torch.float64, grad_fn=<DivBackward0>)\n",
      "tensor(0.1281, dtype=torch.float64, grad_fn=<DivBackward0>)\n",
      "tensor(0.1282, dtype=torch.float64, grad_fn=<DivBackward0>)\n",
      "tensor(0.1282, dtype=torch.float64, grad_fn=<DivBackward0>)\n",
      "tensor(0.1281, dtype=torch.float64, grad_fn=<DivBackward0>)\n",
      "tensor(0.1282, dtype=torch.float64, grad_fn=<DivBackward0>)\n",
      "tensor(0.1283, dtype=torch.float64, grad_fn=<DivBackward0>)\n",
      "tensor(0.1282, dtype=torch.float64, grad_fn=<DivBackward0>)\n",
      "tensor(0.1281, dtype=torch.float64, grad_fn=<DivBackward0>)\n",
      "tensor(0.1281, dtype=torch.float64, grad_fn=<DivBackward0>)\n",
      "tensor(0.1283, dtype=torch.float64, grad_fn=<DivBackward0>)\n",
      "tensor(0.1282, dtype=torch.float64, grad_fn=<DivBackward0>)\n",
      "tensor(0.1281, dtype=torch.float64, grad_fn=<DivBackward0>)\n",
      "tensor(0.1283, dtype=torch.float64, grad_fn=<DivBackward0>)\n",
      "tensor(0.1281, dtype=torch.float64, grad_fn=<DivBackward0>)\n",
      "tensor(0.1282, dtype=torch.float64, grad_fn=<DivBackward0>)\n",
      "tensor(0.1282, dtype=torch.float64, grad_fn=<DivBackward0>)\n",
      "tensor(0.1282, dtype=torch.float64, grad_fn=<DivBackward0>)\n",
      "tensor(0.1281, dtype=torch.float64, grad_fn=<DivBackward0>)\n",
      "tensor(0.1281, dtype=torch.float64, grad_fn=<DivBackward0>)\n",
      "tensor(0.1282, dtype=torch.float64, grad_fn=<DivBackward0>)\n",
      "tensor(0.1285, dtype=torch.float64, grad_fn=<DivBackward0>)\n",
      "tensor(0.1282, dtype=torch.float64, grad_fn=<DivBackward0>)\n",
      "tensor(0.1282, dtype=torch.float64, grad_fn=<DivBackward0>)\n",
      "tensor(0.1281, dtype=torch.float64, grad_fn=<DivBackward0>)\n",
      "tensor(0.1282, dtype=torch.float64, grad_fn=<DivBackward0>)\n"
     ]
    }
   ],
   "source": [
    "for i in range(n_epochs):\n",
    "    loss_sum = 0\n",
    "    for _, (inputs, target) in enumerate(dataloader):\n",
    "        data = inputs[0]\n",
    "        cond = inputs[1]\n",
    "        \n",
    "        optimizer.zero_grad()\n",
    "        \n",
    "        mn, sd, sample_z, output = generator(data, cond)\n",
    "        \n",
    "        loss = criterion(mn = mn, sd = sd, outputs = output, targets = target, alpha = 0.003)\n",
    "        loss.backward()\n",
    "        \n",
    "        optimizer.step()\n",
    "        \n",
    "        loss_sum += loss\n",
    "    \n",
    "    if i % 10 == 0:\n",
    "        print(loss_sum / len(dataloader))"
   ]
  },
  {
   "cell_type": "markdown",
   "id": "607da625-aa06-4da2-a8ae-63f95675dea2",
   "metadata": {},
   "source": [
    "# Generate the process"
   ]
  },
  {
   "cell_type": "code",
   "execution_count": 43,
   "id": "de1b1c87-39b6-4843-9c4b-b054fc932e0d",
   "metadata": {},
   "outputs": [],
   "source": [
    "# pip = 0.000075\n",
    "pip = 0.00006\n",
    "n_pips = 200\n",
    "n_points = 100\n",
    "\n",
    "n_iterations = 50\n",
    "n_organisms = 100"
   ]
  },
  {
   "cell_type": "code",
   "execution_count": 44,
   "id": "f9b224cc-ccfe-44fa-9941-c4ba4d388c42",
   "metadata": {},
   "outputs": [
    {
     "data": {
      "application/vnd.jupyter.widget-view+json": {
       "model_id": "0efb62cb24754c33b3a813a1b0737452",
       "version_major": 2,
       "version_minor": 0
      },
      "text/plain": [
       "HBox(children=(FloatProgress(value=0.0, max=50.0), HTML(value='')))"
      ]
     },
     "metadata": {},
     "output_type": "display_data"
    },
    {
     "name": "stdout",
     "output_type": "stream",
     "text": [
      "\n"
     ]
    },
    {
     "data": {
      "application/vnd.jupyter.widget-view+json": {
       "model_id": "ebdba5352aa042ae94f602b8f43f2cc5",
       "version_major": 2,
       "version_minor": 0
      },
      "text/plain": [
       "HBox(children=(FloatProgress(value=0.0, max=50.0), HTML(value='')))"
      ]
     },
     "metadata": {},
     "output_type": "display_data"
    },
    {
     "name": "stdout",
     "output_type": "stream",
     "text": [
      "\n"
     ]
    },
    {
     "data": {
      "application/vnd.jupyter.widget-view+json": {
       "model_id": "b36c02e080864aac9a1b7fbfb28408fe",
       "version_major": 2,
       "version_minor": 0
      },
      "text/plain": [
       "HBox(children=(FloatProgress(value=0.0, max=50.0), HTML(value='')))"
      ]
     },
     "metadata": {},
     "output_type": "display_data"
    },
    {
     "name": "stdout",
     "output_type": "stream",
     "text": [
      "\n"
     ]
    },
    {
     "data": {
      "application/vnd.jupyter.widget-view+json": {
       "model_id": "53d6c9d08daf4649b78d53333f3622da",
       "version_major": 2,
       "version_minor": 0
      },
      "text/plain": [
       "HBox(children=(FloatProgress(value=0.0, max=50.0), HTML(value='')))"
      ]
     },
     "metadata": {},
     "output_type": "display_data"
    },
    {
     "name": "stdout",
     "output_type": "stream",
     "text": [
      "\n"
     ]
    },
    {
     "data": {
      "application/vnd.jupyter.widget-view+json": {
       "model_id": "1f71134d3c394a40869e88d9605b146e",
       "version_major": 2,
       "version_minor": 0
      },
      "text/plain": [
       "HBox(children=(FloatProgress(value=0.0, max=50.0), HTML(value='')))"
      ]
     },
     "metadata": {},
     "output_type": "display_data"
    },
    {
     "name": "stdout",
     "output_type": "stream",
     "text": [
      "\n"
     ]
    },
    {
     "data": {
      "application/vnd.jupyter.widget-view+json": {
       "model_id": "772016c71e03446db0f71abc539f99bd",
       "version_major": 2,
       "version_minor": 0
      },
      "text/plain": [
       "HBox(children=(FloatProgress(value=0.0, max=50.0), HTML(value='')))"
      ]
     },
     "metadata": {},
     "output_type": "display_data"
    },
    {
     "name": "stdout",
     "output_type": "stream",
     "text": [
      "\n"
     ]
    },
    {
     "data": {
      "application/vnd.jupyter.widget-view+json": {
       "model_id": "07b11d136ef04e1392211f039d4a9917",
       "version_major": 2,
       "version_minor": 0
      },
      "text/plain": [
       "HBox(children=(FloatProgress(value=0.0, max=50.0), HTML(value='')))"
      ]
     },
     "metadata": {},
     "output_type": "display_data"
    },
    {
     "name": "stdout",
     "output_type": "stream",
     "text": [
      "\n"
     ]
    },
    {
     "data": {
      "application/vnd.jupyter.widget-view+json": {
       "model_id": "7910277f14664e11a395905deba344cf",
       "version_major": 2,
       "version_minor": 0
      },
      "text/plain": [
       "HBox(children=(FloatProgress(value=0.0, max=50.0), HTML(value='')))"
      ]
     },
     "metadata": {},
     "output_type": "display_data"
    },
    {
     "name": "stdout",
     "output_type": "stream",
     "text": [
      "\n"
     ]
    },
    {
     "data": {
      "application/vnd.jupyter.widget-view+json": {
       "model_id": "70966e89a4814f3895b91cde9c200d64",
       "version_major": 2,
       "version_minor": 0
      },
      "text/plain": [
       "HBox(children=(FloatProgress(value=0.0, max=50.0), HTML(value='')))"
      ]
     },
     "metadata": {},
     "output_type": "display_data"
    },
    {
     "name": "stdout",
     "output_type": "stream",
     "text": [
      "\n"
     ]
    },
    {
     "data": {
      "application/vnd.jupyter.widget-view+json": {
       "model_id": "803a300d6dc14cf2804ae4c16eb1bc74",
       "version_major": 2,
       "version_minor": 0
      },
      "text/plain": [
       "HBox(children=(FloatProgress(value=0.0, max=50.0), HTML(value='')))"
      ]
     },
     "metadata": {},
     "output_type": "display_data"
    },
    {
     "name": "stdout",
     "output_type": "stream",
     "text": [
      "\n"
     ]
    },
    {
     "data": {
      "application/vnd.jupyter.widget-view+json": {
       "model_id": "cc47ed6986794311a2e2a8b01a947da8",
       "version_major": 2,
       "version_minor": 0
      },
      "text/plain": [
       "HBox(children=(FloatProgress(value=0.0, max=50.0), HTML(value='')))"
      ]
     },
     "metadata": {},
     "output_type": "display_data"
    },
    {
     "name": "stdout",
     "output_type": "stream",
     "text": [
      "\n"
     ]
    },
    {
     "data": {
      "application/vnd.jupyter.widget-view+json": {
       "model_id": "cbf49c4fe96e4c89835bd04840b7c337",
       "version_major": 2,
       "version_minor": 0
      },
      "text/plain": [
       "HBox(children=(FloatProgress(value=0.0, max=50.0), HTML(value='')))"
      ]
     },
     "metadata": {},
     "output_type": "display_data"
    },
    {
     "name": "stdout",
     "output_type": "stream",
     "text": [
      "\n"
     ]
    },
    {
     "data": {
      "application/vnd.jupyter.widget-view+json": {
       "model_id": "cd34864a788f481c9a070534d292896d",
       "version_major": 2,
       "version_minor": 0
      },
      "text/plain": [
       "HBox(children=(FloatProgress(value=0.0, max=50.0), HTML(value='')))"
      ]
     },
     "metadata": {},
     "output_type": "display_data"
    },
    {
     "name": "stdout",
     "output_type": "stream",
     "text": [
      "\n"
     ]
    },
    {
     "data": {
      "application/vnd.jupyter.widget-view+json": {
       "model_id": "6f94024de6d14412aaf36f2ad3d12621",
       "version_major": 2,
       "version_minor": 0
      },
      "text/plain": [
       "HBox(children=(FloatProgress(value=0.0, max=50.0), HTML(value='')))"
      ]
     },
     "metadata": {},
     "output_type": "display_data"
    },
    {
     "name": "stdout",
     "output_type": "stream",
     "text": [
      "\n"
     ]
    },
    {
     "data": {
      "application/vnd.jupyter.widget-view+json": {
       "model_id": "be15980c24114d998a04a870ad8aee79",
       "version_major": 2,
       "version_minor": 0
      },
      "text/plain": [
       "HBox(children=(FloatProgress(value=0.0, max=50.0), HTML(value='')))"
      ]
     },
     "metadata": {},
     "output_type": "display_data"
    },
    {
     "name": "stdout",
     "output_type": "stream",
     "text": [
      "\n"
     ]
    },
    {
     "data": {
      "application/vnd.jupyter.widget-view+json": {
       "model_id": "24e317ca6ed94df2a064316002bcd84c",
       "version_major": 2,
       "version_minor": 0
      },
      "text/plain": [
       "HBox(children=(FloatProgress(value=0.0, max=50.0), HTML(value='')))"
      ]
     },
     "metadata": {},
     "output_type": "display_data"
    },
    {
     "name": "stdout",
     "output_type": "stream",
     "text": [
      "\n"
     ]
    },
    {
     "data": {
      "application/vnd.jupyter.widget-view+json": {
       "model_id": "ba9fe8671798494dae3ee45ccd96791c",
       "version_major": 2,
       "version_minor": 0
      },
      "text/plain": [
       "HBox(children=(FloatProgress(value=0.0, max=50.0), HTML(value='')))"
      ]
     },
     "metadata": {},
     "output_type": "display_data"
    },
    {
     "name": "stdout",
     "output_type": "stream",
     "text": [
      "\n"
     ]
    },
    {
     "data": {
      "application/vnd.jupyter.widget-view+json": {
       "model_id": "d41392793f33433fab861f5095be8e14",
       "version_major": 2,
       "version_minor": 0
      },
      "text/plain": [
       "HBox(children=(FloatProgress(value=0.0, max=50.0), HTML(value='')))"
      ]
     },
     "metadata": {},
     "output_type": "display_data"
    },
    {
     "name": "stdout",
     "output_type": "stream",
     "text": [
      "\n"
     ]
    },
    {
     "data": {
      "application/vnd.jupyter.widget-view+json": {
       "model_id": "3161c2e0a4c6475f92244bde2585bc3a",
       "version_major": 2,
       "version_minor": 0
      },
      "text/plain": [
       "HBox(children=(FloatProgress(value=0.0, max=50.0), HTML(value='')))"
      ]
     },
     "metadata": {},
     "output_type": "display_data"
    },
    {
     "name": "stdout",
     "output_type": "stream",
     "text": [
      "\n"
     ]
    },
    {
     "data": {
      "application/vnd.jupyter.widget-view+json": {
       "model_id": "2a66a2bcdc714642b68e6b7dc70bc7ab",
       "version_major": 2,
       "version_minor": 0
      },
      "text/plain": [
       "HBox(children=(FloatProgress(value=0.0, max=50.0), HTML(value='')))"
      ]
     },
     "metadata": {},
     "output_type": "display_data"
    },
    {
     "name": "stdout",
     "output_type": "stream",
     "text": [
      "\n"
     ]
    },
    {
     "data": {
      "application/vnd.jupyter.widget-view+json": {
       "model_id": "3cde87ae44cb4e539ef3d91d8477409c",
       "version_major": 2,
       "version_minor": 0
      },
      "text/plain": [
       "HBox(children=(FloatProgress(value=0.0, max=50.0), HTML(value='')))"
      ]
     },
     "metadata": {},
     "output_type": "display_data"
    },
    {
     "name": "stdout",
     "output_type": "stream",
     "text": [
      "\n"
     ]
    },
    {
     "data": {
      "application/vnd.jupyter.widget-view+json": {
       "model_id": "f45f4dc9e178490280d6546681101ccf",
       "version_major": 2,
       "version_minor": 0
      },
      "text/plain": [
       "HBox(children=(FloatProgress(value=0.0, max=50.0), HTML(value='')))"
      ]
     },
     "metadata": {},
     "output_type": "display_data"
    },
    {
     "name": "stdout",
     "output_type": "stream",
     "text": [
      "\n"
     ]
    },
    {
     "data": {
      "application/vnd.jupyter.widget-view+json": {
       "model_id": "2ca585f27ac74e6d9dd52ae8f1d0d28d",
       "version_major": 2,
       "version_minor": 0
      },
      "text/plain": [
       "HBox(children=(FloatProgress(value=0.0, max=50.0), HTML(value='')))"
      ]
     },
     "metadata": {},
     "output_type": "display_data"
    },
    {
     "name": "stdout",
     "output_type": "stream",
     "text": [
      "\n"
     ]
    },
    {
     "data": {
      "application/vnd.jupyter.widget-view+json": {
       "model_id": "f0fdf1a6c6ba45de8ae914d73e9b7b78",
       "version_major": 2,
       "version_minor": 0
      },
      "text/plain": [
       "HBox(children=(FloatProgress(value=0.0, max=50.0), HTML(value='')))"
      ]
     },
     "metadata": {},
     "output_type": "display_data"
    },
    {
     "name": "stdout",
     "output_type": "stream",
     "text": [
      "\n"
     ]
    },
    {
     "data": {
      "application/vnd.jupyter.widget-view+json": {
       "model_id": "f6482cb643884d559bfad1fb5fa7805d",
       "version_major": 2,
       "version_minor": 0
      },
      "text/plain": [
       "HBox(children=(FloatProgress(value=0.0, max=50.0), HTML(value='')))"
      ]
     },
     "metadata": {},
     "output_type": "display_data"
    },
    {
     "name": "stdout",
     "output_type": "stream",
     "text": [
      "\n"
     ]
    },
    {
     "data": {
      "application/vnd.jupyter.widget-view+json": {
       "model_id": "6a8308ce0c5845d1a039e260486fabc5",
       "version_major": 2,
       "version_minor": 0
      },
      "text/plain": [
       "HBox(children=(FloatProgress(value=0.0, max=50.0), HTML(value='')))"
      ]
     },
     "metadata": {},
     "output_type": "display_data"
    },
    {
     "name": "stdout",
     "output_type": "stream",
     "text": [
      "\n"
     ]
    },
    {
     "data": {
      "application/vnd.jupyter.widget-view+json": {
       "model_id": "e2e501553f6b404b9fe3ce4f4abc3b63",
       "version_major": 2,
       "version_minor": 0
      },
      "text/plain": [
       "HBox(children=(FloatProgress(value=0.0, max=50.0), HTML(value='')))"
      ]
     },
     "metadata": {},
     "output_type": "display_data"
    },
    {
     "name": "stdout",
     "output_type": "stream",
     "text": [
      "\n"
     ]
    },
    {
     "data": {
      "application/vnd.jupyter.widget-view+json": {
       "model_id": "ebe98ff045d34fcebb4d11396b4b5e7a",
       "version_major": 2,
       "version_minor": 0
      },
      "text/plain": [
       "HBox(children=(FloatProgress(value=0.0, max=50.0), HTML(value='')))"
      ]
     },
     "metadata": {},
     "output_type": "display_data"
    },
    {
     "name": "stdout",
     "output_type": "stream",
     "text": [
      "\n"
     ]
    },
    {
     "data": {
      "application/vnd.jupyter.widget-view+json": {
       "model_id": "5420c9ecefb2470386e7a88b6d31750f",
       "version_major": 2,
       "version_minor": 0
      },
      "text/plain": [
       "HBox(children=(FloatProgress(value=0.0, max=50.0), HTML(value='')))"
      ]
     },
     "metadata": {},
     "output_type": "display_data"
    },
    {
     "name": "stdout",
     "output_type": "stream",
     "text": [
      "\n"
     ]
    },
    {
     "data": {
      "application/vnd.jupyter.widget-view+json": {
       "model_id": "de3c7dde8a4f42ab9f6f4596d79d1d4c",
       "version_major": 2,
       "version_minor": 0
      },
      "text/plain": [
       "HBox(children=(FloatProgress(value=0.0, max=50.0), HTML(value='')))"
      ]
     },
     "metadata": {},
     "output_type": "display_data"
    },
    {
     "name": "stdout",
     "output_type": "stream",
     "text": [
      "\n"
     ]
    },
    {
     "data": {
      "application/vnd.jupyter.widget-view+json": {
       "model_id": "1b34756f82ee483398416cd6e225e55d",
       "version_major": 2,
       "version_minor": 0
      },
      "text/plain": [
       "HBox(children=(FloatProgress(value=0.0, max=50.0), HTML(value='')))"
      ]
     },
     "metadata": {},
     "output_type": "display_data"
    },
    {
     "name": "stdout",
     "output_type": "stream",
     "text": [
      "\n"
     ]
    },
    {
     "data": {
      "application/vnd.jupyter.widget-view+json": {
       "model_id": "fe1fd88668a740bdb61ccb1e085bd59b",
       "version_major": 2,
       "version_minor": 0
      },
      "text/plain": [
       "HBox(children=(FloatProgress(value=0.0, max=50.0), HTML(value='')))"
      ]
     },
     "metadata": {},
     "output_type": "display_data"
    },
    {
     "name": "stdout",
     "output_type": "stream",
     "text": [
      "\n"
     ]
    },
    {
     "data": {
      "application/vnd.jupyter.widget-view+json": {
       "model_id": "19665081b2b748709aefb46fdee05210",
       "version_major": 2,
       "version_minor": 0
      },
      "text/plain": [
       "HBox(children=(FloatProgress(value=0.0, max=50.0), HTML(value='')))"
      ]
     },
     "metadata": {},
     "output_type": "display_data"
    },
    {
     "name": "stdout",
     "output_type": "stream",
     "text": [
      "\n"
     ]
    },
    {
     "data": {
      "application/vnd.jupyter.widget-view+json": {
       "model_id": "abe141ae2abb4524a14dfe1585c23a02",
       "version_major": 2,
       "version_minor": 0
      },
      "text/plain": [
       "HBox(children=(FloatProgress(value=0.0, max=50.0), HTML(value='')))"
      ]
     },
     "metadata": {},
     "output_type": "display_data"
    },
    {
     "name": "stdout",
     "output_type": "stream",
     "text": [
      "\n"
     ]
    },
    {
     "data": {
      "application/vnd.jupyter.widget-view+json": {
       "model_id": "5c45dce1c61c4cfdbd52063ae23be528",
       "version_major": 2,
       "version_minor": 0
      },
      "text/plain": [
       "HBox(children=(FloatProgress(value=0.0, max=50.0), HTML(value='')))"
      ]
     },
     "metadata": {},
     "output_type": "display_data"
    },
    {
     "name": "stdout",
     "output_type": "stream",
     "text": [
      "\n"
     ]
    },
    {
     "data": {
      "application/vnd.jupyter.widget-view+json": {
       "model_id": "0ee4ee398db343d7aaf5326c131eed23",
       "version_major": 2,
       "version_minor": 0
      },
      "text/plain": [
       "HBox(children=(FloatProgress(value=0.0, max=50.0), HTML(value='')))"
      ]
     },
     "metadata": {},
     "output_type": "display_data"
    },
    {
     "name": "stdout",
     "output_type": "stream",
     "text": [
      "\n"
     ]
    },
    {
     "data": {
      "application/vnd.jupyter.widget-view+json": {
       "model_id": "f618f66cf9ed44cd9fc7d10ba6b527b7",
       "version_major": 2,
       "version_minor": 0
      },
      "text/plain": [
       "HBox(children=(FloatProgress(value=0.0, max=50.0), HTML(value='')))"
      ]
     },
     "metadata": {},
     "output_type": "display_data"
    },
    {
     "name": "stdout",
     "output_type": "stream",
     "text": [
      "\n"
     ]
    },
    {
     "data": {
      "application/vnd.jupyter.widget-view+json": {
       "model_id": "20dbafc0769c47848f56fa536f7e2297",
       "version_major": 2,
       "version_minor": 0
      },
      "text/plain": [
       "HBox(children=(FloatProgress(value=0.0, max=50.0), HTML(value='')))"
      ]
     },
     "metadata": {},
     "output_type": "display_data"
    },
    {
     "name": "stdout",
     "output_type": "stream",
     "text": [
      "\n"
     ]
    },
    {
     "data": {
      "application/vnd.jupyter.widget-view+json": {
       "model_id": "4c36a9e3efc5405d9fdad16080430be0",
       "version_major": 2,
       "version_minor": 0
      },
      "text/plain": [
       "HBox(children=(FloatProgress(value=0.0, max=50.0), HTML(value='')))"
      ]
     },
     "metadata": {},
     "output_type": "display_data"
    },
    {
     "name": "stdout",
     "output_type": "stream",
     "text": [
      "\n"
     ]
    },
    {
     "data": {
      "application/vnd.jupyter.widget-view+json": {
       "model_id": "67d0b28f9e20408ea3c503ab5bad203d",
       "version_major": 2,
       "version_minor": 0
      },
      "text/plain": [
       "HBox(children=(FloatProgress(value=0.0, max=50.0), HTML(value='')))"
      ]
     },
     "metadata": {},
     "output_type": "display_data"
    },
    {
     "name": "stdout",
     "output_type": "stream",
     "text": [
      "\n"
     ]
    },
    {
     "data": {
      "application/vnd.jupyter.widget-view+json": {
       "model_id": "7688743449a044d0800d2aed9dafc0c8",
       "version_major": 2,
       "version_minor": 0
      },
      "text/plain": [
       "HBox(children=(FloatProgress(value=0.0, max=50.0), HTML(value='')))"
      ]
     },
     "metadata": {},
     "output_type": "display_data"
    },
    {
     "name": "stdout",
     "output_type": "stream",
     "text": [
      "\n"
     ]
    },
    {
     "data": {
      "application/vnd.jupyter.widget-view+json": {
       "model_id": "7ba076ddc3634cc188063760958ff3eb",
       "version_major": 2,
       "version_minor": 0
      },
      "text/plain": [
       "HBox(children=(FloatProgress(value=0.0, max=50.0), HTML(value='')))"
      ]
     },
     "metadata": {},
     "output_type": "display_data"
    },
    {
     "name": "stdout",
     "output_type": "stream",
     "text": [
      "\n"
     ]
    },
    {
     "data": {
      "application/vnd.jupyter.widget-view+json": {
       "model_id": "5396d8664f3847dc93494b327a12bb68",
       "version_major": 2,
       "version_minor": 0
      },
      "text/plain": [
       "HBox(children=(FloatProgress(value=0.0, max=50.0), HTML(value='')))"
      ]
     },
     "metadata": {},
     "output_type": "display_data"
    },
    {
     "name": "stdout",
     "output_type": "stream",
     "text": [
      "\n"
     ]
    },
    {
     "data": {
      "application/vnd.jupyter.widget-view+json": {
       "model_id": "0dd286e03e43490b908070ce27b6236c",
       "version_major": 2,
       "version_minor": 0
      },
      "text/plain": [
       "HBox(children=(FloatProgress(value=0.0, max=50.0), HTML(value='')))"
      ]
     },
     "metadata": {},
     "output_type": "display_data"
    },
    {
     "name": "stdout",
     "output_type": "stream",
     "text": [
      "\n"
     ]
    },
    {
     "data": {
      "application/vnd.jupyter.widget-view+json": {
       "model_id": "b357b985e67c4e91bba89cf338db26c9",
       "version_major": 2,
       "version_minor": 0
      },
      "text/plain": [
       "HBox(children=(FloatProgress(value=0.0, max=50.0), HTML(value='')))"
      ]
     },
     "metadata": {},
     "output_type": "display_data"
    },
    {
     "name": "stdout",
     "output_type": "stream",
     "text": [
      "\n"
     ]
    },
    {
     "data": {
      "application/vnd.jupyter.widget-view+json": {
       "model_id": "373d164b05c04acc8e738f688378d83e",
       "version_major": 2,
       "version_minor": 0
      },
      "text/plain": [
       "HBox(children=(FloatProgress(value=0.0, max=50.0), HTML(value='')))"
      ]
     },
     "metadata": {},
     "output_type": "display_data"
    },
    {
     "name": "stdout",
     "output_type": "stream",
     "text": [
      "\n"
     ]
    },
    {
     "data": {
      "application/vnd.jupyter.widget-view+json": {
       "model_id": "c0a287ac30584ef8991112c3a5a51e88",
       "version_major": 2,
       "version_minor": 0
      },
      "text/plain": [
       "HBox(children=(FloatProgress(value=0.0, max=50.0), HTML(value='')))"
      ]
     },
     "metadata": {},
     "output_type": "display_data"
    },
    {
     "name": "stdout",
     "output_type": "stream",
     "text": [
      "\n"
     ]
    },
    {
     "data": {
      "application/vnd.jupyter.widget-view+json": {
       "model_id": "a7edf195eebe432bbdfbdc0292747112",
       "version_major": 2,
       "version_minor": 0
      },
      "text/plain": [
       "HBox(children=(FloatProgress(value=0.0, max=50.0), HTML(value='')))"
      ]
     },
     "metadata": {},
     "output_type": "display_data"
    },
    {
     "name": "stdout",
     "output_type": "stream",
     "text": [
      "\n"
     ]
    },
    {
     "data": {
      "application/vnd.jupyter.widget-view+json": {
       "model_id": "2d21977c83d344359bef2cbdd41799ed",
       "version_major": 2,
       "version_minor": 0
      },
      "text/plain": [
       "HBox(children=(FloatProgress(value=0.0, max=50.0), HTML(value='')))"
      ]
     },
     "metadata": {},
     "output_type": "display_data"
    },
    {
     "name": "stdout",
     "output_type": "stream",
     "text": [
      "\n"
     ]
    },
    {
     "data": {
      "application/vnd.jupyter.widget-view+json": {
       "model_id": "cfc4bee34cb146299605d893be5da6bb",
       "version_major": 2,
       "version_minor": 0
      },
      "text/plain": [
       "HBox(children=(FloatProgress(value=0.0, max=50.0), HTML(value='')))"
      ]
     },
     "metadata": {},
     "output_type": "display_data"
    },
    {
     "name": "stdout",
     "output_type": "stream",
     "text": [
      "\n"
     ]
    },
    {
     "data": {
      "application/vnd.jupyter.widget-view+json": {
       "model_id": "0cf53cf09c4444d298ec87971bea10f4",
       "version_major": 2,
       "version_minor": 0
      },
      "text/plain": [
       "HBox(children=(FloatProgress(value=0.0, max=50.0), HTML(value='')))"
      ]
     },
     "metadata": {},
     "output_type": "display_data"
    },
    {
     "name": "stdout",
     "output_type": "stream",
     "text": [
      "\n"
     ]
    },
    {
     "data": {
      "application/vnd.jupyter.widget-view+json": {
       "model_id": "3132cb81f90744f685694575ed00dfbd",
       "version_major": 2,
       "version_minor": 0
      },
      "text/plain": [
       "HBox(children=(FloatProgress(value=0.0, max=50.0), HTML(value='')))"
      ]
     },
     "metadata": {},
     "output_type": "display_data"
    },
    {
     "name": "stdout",
     "output_type": "stream",
     "text": [
      "\n"
     ]
    },
    {
     "data": {
      "application/vnd.jupyter.widget-view+json": {
       "model_id": "9a5887cf6d064105affc42c944deac50",
       "version_major": 2,
       "version_minor": 0
      },
      "text/plain": [
       "HBox(children=(FloatProgress(value=0.0, max=50.0), HTML(value='')))"
      ]
     },
     "metadata": {},
     "output_type": "display_data"
    },
    {
     "name": "stdout",
     "output_type": "stream",
     "text": [
      "\n"
     ]
    },
    {
     "data": {
      "application/vnd.jupyter.widget-view+json": {
       "model_id": "006e1ae46d0445f0ae4571c4cf829699",
       "version_major": 2,
       "version_minor": 0
      },
      "text/plain": [
       "HBox(children=(FloatProgress(value=0.0, max=50.0), HTML(value='')))"
      ]
     },
     "metadata": {},
     "output_type": "display_data"
    },
    {
     "name": "stdout",
     "output_type": "stream",
     "text": [
      "\n"
     ]
    },
    {
     "data": {
      "application/vnd.jupyter.widget-view+json": {
       "model_id": "ceaeb35b5fbc419bb5100080409293e4",
       "version_major": 2,
       "version_minor": 0
      },
      "text/plain": [
       "HBox(children=(FloatProgress(value=0.0, max=50.0), HTML(value='')))"
      ]
     },
     "metadata": {},
     "output_type": "display_data"
    },
    {
     "name": "stdout",
     "output_type": "stream",
     "text": [
      "\n"
     ]
    },
    {
     "data": {
      "application/vnd.jupyter.widget-view+json": {
       "model_id": "77213b2ca2124fdeac02482fa062be2a",
       "version_major": 2,
       "version_minor": 0
      },
      "text/plain": [
       "HBox(children=(FloatProgress(value=0.0, max=50.0), HTML(value='')))"
      ]
     },
     "metadata": {},
     "output_type": "display_data"
    },
    {
     "name": "stdout",
     "output_type": "stream",
     "text": [
      "\n"
     ]
    },
    {
     "data": {
      "application/vnd.jupyter.widget-view+json": {
       "model_id": "aa232068d3ed4ce4a65a4a75f2ffefb1",
       "version_major": 2,
       "version_minor": 0
      },
      "text/plain": [
       "HBox(children=(FloatProgress(value=0.0, max=50.0), HTML(value='')))"
      ]
     },
     "metadata": {},
     "output_type": "display_data"
    },
    {
     "name": "stdout",
     "output_type": "stream",
     "text": [
      "\n"
     ]
    },
    {
     "data": {
      "application/vnd.jupyter.widget-view+json": {
       "model_id": "79b50261384a4192bf90a04e80d5239f",
       "version_major": 2,
       "version_minor": 0
      },
      "text/plain": [
       "HBox(children=(FloatProgress(value=0.0, max=50.0), HTML(value='')))"
      ]
     },
     "metadata": {},
     "output_type": "display_data"
    },
    {
     "name": "stdout",
     "output_type": "stream",
     "text": [
      "\n"
     ]
    },
    {
     "data": {
      "application/vnd.jupyter.widget-view+json": {
       "model_id": "4cdee865557448b190e1428ad36ac497",
       "version_major": 2,
       "version_minor": 0
      },
      "text/plain": [
       "HBox(children=(FloatProgress(value=0.0, max=50.0), HTML(value='')))"
      ]
     },
     "metadata": {},
     "output_type": "display_data"
    },
    {
     "name": "stdout",
     "output_type": "stream",
     "text": [
      "\n"
     ]
    },
    {
     "data": {
      "application/vnd.jupyter.widget-view+json": {
       "model_id": "54313e6ded024035ae450095b10fb384",
       "version_major": 2,
       "version_minor": 0
      },
      "text/plain": [
       "HBox(children=(FloatProgress(value=0.0, max=50.0), HTML(value='')))"
      ]
     },
     "metadata": {},
     "output_type": "display_data"
    },
    {
     "name": "stdout",
     "output_type": "stream",
     "text": [
      "\n"
     ]
    },
    {
     "data": {
      "application/vnd.jupyter.widget-view+json": {
       "model_id": "0833062299b34998b62a8580b62344f0",
       "version_major": 2,
       "version_minor": 0
      },
      "text/plain": [
       "HBox(children=(FloatProgress(value=0.0, max=50.0), HTML(value='')))"
      ]
     },
     "metadata": {},
     "output_type": "display_data"
    },
    {
     "name": "stdout",
     "output_type": "stream",
     "text": [
      "\n"
     ]
    },
    {
     "data": {
      "application/vnd.jupyter.widget-view+json": {
       "model_id": "f075346a2c1841d3a99513dbfb617d4e",
       "version_major": 2,
       "version_minor": 0
      },
      "text/plain": [
       "HBox(children=(FloatProgress(value=0.0, max=50.0), HTML(value='')))"
      ]
     },
     "metadata": {},
     "output_type": "display_data"
    },
    {
     "name": "stdout",
     "output_type": "stream",
     "text": [
      "\n"
     ]
    },
    {
     "data": {
      "application/vnd.jupyter.widget-view+json": {
       "model_id": "83900d9ba84f4454b109aa062950e5b0",
       "version_major": 2,
       "version_minor": 0
      },
      "text/plain": [
       "HBox(children=(FloatProgress(value=0.0, max=50.0), HTML(value='')))"
      ]
     },
     "metadata": {},
     "output_type": "display_data"
    },
    {
     "name": "stdout",
     "output_type": "stream",
     "text": [
      "\n"
     ]
    },
    {
     "data": {
      "application/vnd.jupyter.widget-view+json": {
       "model_id": "f224c24736fb4449a16df17803cfdb55",
       "version_major": 2,
       "version_minor": 0
      },
      "text/plain": [
       "HBox(children=(FloatProgress(value=0.0, max=50.0), HTML(value='')))"
      ]
     },
     "metadata": {},
     "output_type": "display_data"
    },
    {
     "name": "stdout",
     "output_type": "stream",
     "text": [
      "\n"
     ]
    },
    {
     "data": {
      "application/vnd.jupyter.widget-view+json": {
       "model_id": "94b7d9777cf3441aa16e44679cb190bc",
       "version_major": 2,
       "version_minor": 0
      },
      "text/plain": [
       "HBox(children=(FloatProgress(value=0.0, max=50.0), HTML(value='')))"
      ]
     },
     "metadata": {},
     "output_type": "display_data"
    },
    {
     "name": "stdout",
     "output_type": "stream",
     "text": [
      "\n"
     ]
    },
    {
     "data": {
      "application/vnd.jupyter.widget-view+json": {
       "model_id": "4342a6d4c44f4d45924365f42afd6279",
       "version_major": 2,
       "version_minor": 0
      },
      "text/plain": [
       "HBox(children=(FloatProgress(value=0.0, max=50.0), HTML(value='')))"
      ]
     },
     "metadata": {},
     "output_type": "display_data"
    },
    {
     "name": "stdout",
     "output_type": "stream",
     "text": [
      "\n"
     ]
    },
    {
     "data": {
      "application/vnd.jupyter.widget-view+json": {
       "model_id": "e2cb97440864441bb027ae54542a14e6",
       "version_major": 2,
       "version_minor": 0
      },
      "text/plain": [
       "HBox(children=(FloatProgress(value=0.0, max=50.0), HTML(value='')))"
      ]
     },
     "metadata": {},
     "output_type": "display_data"
    },
    {
     "name": "stdout",
     "output_type": "stream",
     "text": [
      "\n"
     ]
    },
    {
     "data": {
      "application/vnd.jupyter.widget-view+json": {
       "model_id": "00b76e7c2add486fb07a582734c76b76",
       "version_major": 2,
       "version_minor": 0
      },
      "text/plain": [
       "HBox(children=(FloatProgress(value=0.0, max=50.0), HTML(value='')))"
      ]
     },
     "metadata": {},
     "output_type": "display_data"
    },
    {
     "name": "stdout",
     "output_type": "stream",
     "text": [
      "\n"
     ]
    },
    {
     "data": {
      "application/vnd.jupyter.widget-view+json": {
       "model_id": "dad4a2b50b5d4964a04f11b6257a2eea",
       "version_major": 2,
       "version_minor": 0
      },
      "text/plain": [
       "HBox(children=(FloatProgress(value=0.0, max=50.0), HTML(value='')))"
      ]
     },
     "metadata": {},
     "output_type": "display_data"
    },
    {
     "name": "stdout",
     "output_type": "stream",
     "text": [
      "\n"
     ]
    },
    {
     "data": {
      "application/vnd.jupyter.widget-view+json": {
       "model_id": "ceb64b9b73c64d659cf26bcdd19e4032",
       "version_major": 2,
       "version_minor": 0
      },
      "text/plain": [
       "HBox(children=(FloatProgress(value=0.0, max=50.0), HTML(value='')))"
      ]
     },
     "metadata": {},
     "output_type": "display_data"
    },
    {
     "name": "stdout",
     "output_type": "stream",
     "text": [
      "\n"
     ]
    },
    {
     "data": {
      "application/vnd.jupyter.widget-view+json": {
       "model_id": "1fd9696d02814035b2435e18bb40caf5",
       "version_major": 2,
       "version_minor": 0
      },
      "text/plain": [
       "HBox(children=(FloatProgress(value=0.0, max=50.0), HTML(value='')))"
      ]
     },
     "metadata": {},
     "output_type": "display_data"
    },
    {
     "name": "stdout",
     "output_type": "stream",
     "text": [
      "\n"
     ]
    },
    {
     "data": {
      "application/vnd.jupyter.widget-view+json": {
       "model_id": "823fe145195545bba650d16b19f4dd16",
       "version_major": 2,
       "version_minor": 0
      },
      "text/plain": [
       "HBox(children=(FloatProgress(value=0.0, max=50.0), HTML(value='')))"
      ]
     },
     "metadata": {},
     "output_type": "display_data"
    },
    {
     "name": "stdout",
     "output_type": "stream",
     "text": [
      "\n"
     ]
    },
    {
     "data": {
      "application/vnd.jupyter.widget-view+json": {
       "model_id": "36c3a0608deb49afbe92e294b837123a",
       "version_major": 2,
       "version_minor": 0
      },
      "text/plain": [
       "HBox(children=(FloatProgress(value=0.0, max=50.0), HTML(value='')))"
      ]
     },
     "metadata": {},
     "output_type": "display_data"
    },
    {
     "name": "stdout",
     "output_type": "stream",
     "text": [
      "\n"
     ]
    },
    {
     "data": {
      "application/vnd.jupyter.widget-view+json": {
       "model_id": "dc3c8b8b14ff466fa42e939a1eaf0cf6",
       "version_major": 2,
       "version_minor": 0
      },
      "text/plain": [
       "HBox(children=(FloatProgress(value=0.0, max=50.0), HTML(value='')))"
      ]
     },
     "metadata": {},
     "output_type": "display_data"
    },
    {
     "name": "stdout",
     "output_type": "stream",
     "text": [
      "\n"
     ]
    },
    {
     "data": {
      "application/vnd.jupyter.widget-view+json": {
       "model_id": "76467284f0bc491cb723ae759d0a800b",
       "version_major": 2,
       "version_minor": 0
      },
      "text/plain": [
       "HBox(children=(FloatProgress(value=0.0, max=50.0), HTML(value='')))"
      ]
     },
     "metadata": {},
     "output_type": "display_data"
    },
    {
     "name": "stdout",
     "output_type": "stream",
     "text": [
      "\n"
     ]
    },
    {
     "data": {
      "application/vnd.jupyter.widget-view+json": {
       "model_id": "28ab4589130d4518a741b8cbbf2c1d36",
       "version_major": 2,
       "version_minor": 0
      },
      "text/plain": [
       "HBox(children=(FloatProgress(value=0.0, max=50.0), HTML(value='')))"
      ]
     },
     "metadata": {},
     "output_type": "display_data"
    },
    {
     "name": "stdout",
     "output_type": "stream",
     "text": [
      "\n"
     ]
    },
    {
     "data": {
      "application/vnd.jupyter.widget-view+json": {
       "model_id": "a7e68c33286b4101b3fb9a446e639056",
       "version_major": 2,
       "version_minor": 0
      },
      "text/plain": [
       "HBox(children=(FloatProgress(value=0.0, max=50.0), HTML(value='')))"
      ]
     },
     "metadata": {},
     "output_type": "display_data"
    },
    {
     "name": "stdout",
     "output_type": "stream",
     "text": [
      "\n"
     ]
    },
    {
     "data": {
      "application/vnd.jupyter.widget-view+json": {
       "model_id": "35956fe06ede41d1b016b9fe18eafe2d",
       "version_major": 2,
       "version_minor": 0
      },
      "text/plain": [
       "HBox(children=(FloatProgress(value=0.0, max=50.0), HTML(value='')))"
      ]
     },
     "metadata": {},
     "output_type": "display_data"
    },
    {
     "name": "stdout",
     "output_type": "stream",
     "text": [
      "\n"
     ]
    },
    {
     "data": {
      "application/vnd.jupyter.widget-view+json": {
       "model_id": "1889d92d898b489dbd4060708fd2292e",
       "version_major": 2,
       "version_minor": 0
      },
      "text/plain": [
       "HBox(children=(FloatProgress(value=0.0, max=50.0), HTML(value='')))"
      ]
     },
     "metadata": {},
     "output_type": "display_data"
    },
    {
     "name": "stdout",
     "output_type": "stream",
     "text": [
      "\n"
     ]
    },
    {
     "data": {
      "application/vnd.jupyter.widget-view+json": {
       "model_id": "79e131292f32407db91c902ee3f3b172",
       "version_major": 2,
       "version_minor": 0
      },
      "text/plain": [
       "HBox(children=(FloatProgress(value=0.0, max=50.0), HTML(value='')))"
      ]
     },
     "metadata": {},
     "output_type": "display_data"
    },
    {
     "name": "stdout",
     "output_type": "stream",
     "text": [
      "\n"
     ]
    },
    {
     "data": {
      "application/vnd.jupyter.widget-view+json": {
       "model_id": "a8a7effabfd54b7583b6274ec5f376d4",
       "version_major": 2,
       "version_minor": 0
      },
      "text/plain": [
       "HBox(children=(FloatProgress(value=0.0, max=50.0), HTML(value='')))"
      ]
     },
     "metadata": {},
     "output_type": "display_data"
    },
    {
     "name": "stdout",
     "output_type": "stream",
     "text": [
      "\n"
     ]
    },
    {
     "data": {
      "application/vnd.jupyter.widget-view+json": {
       "model_id": "c310e60fd55346f8b2d7dcb404aad627",
       "version_major": 2,
       "version_minor": 0
      },
      "text/plain": [
       "HBox(children=(FloatProgress(value=0.0, max=50.0), HTML(value='')))"
      ]
     },
     "metadata": {},
     "output_type": "display_data"
    },
    {
     "name": "stdout",
     "output_type": "stream",
     "text": [
      "\n"
     ]
    },
    {
     "data": {
      "application/vnd.jupyter.widget-view+json": {
       "model_id": "28c0225c4e8b48ebbd1695b03c6288bc",
       "version_major": 2,
       "version_minor": 0
      },
      "text/plain": [
       "HBox(children=(FloatProgress(value=0.0, max=50.0), HTML(value='')))"
      ]
     },
     "metadata": {},
     "output_type": "display_data"
    },
    {
     "name": "stdout",
     "output_type": "stream",
     "text": [
      "\n"
     ]
    },
    {
     "data": {
      "application/vnd.jupyter.widget-view+json": {
       "model_id": "0500cea0c44d4e78b54ff597e24083ed",
       "version_major": 2,
       "version_minor": 0
      },
      "text/plain": [
       "HBox(children=(FloatProgress(value=0.0, max=50.0), HTML(value='')))"
      ]
     },
     "metadata": {},
     "output_type": "display_data"
    },
    {
     "name": "stdout",
     "output_type": "stream",
     "text": [
      "\n"
     ]
    },
    {
     "data": {
      "application/vnd.jupyter.widget-view+json": {
       "model_id": "5329fc160a7644d8a2a149df74f7ba62",
       "version_major": 2,
       "version_minor": 0
      },
      "text/plain": [
       "HBox(children=(FloatProgress(value=0.0, max=50.0), HTML(value='')))"
      ]
     },
     "metadata": {},
     "output_type": "display_data"
    },
    {
     "name": "stdout",
     "output_type": "stream",
     "text": [
      "\n"
     ]
    },
    {
     "data": {
      "application/vnd.jupyter.widget-view+json": {
       "model_id": "2efea6338aa74f5193f97fb2556dcf0c",
       "version_major": 2,
       "version_minor": 0
      },
      "text/plain": [
       "HBox(children=(FloatProgress(value=0.0, max=50.0), HTML(value='')))"
      ]
     },
     "metadata": {},
     "output_type": "display_data"
    },
    {
     "name": "stdout",
     "output_type": "stream",
     "text": [
      "\n"
     ]
    },
    {
     "data": {
      "application/vnd.jupyter.widget-view+json": {
       "model_id": "20228083ac804acc966f9f908f149694",
       "version_major": 2,
       "version_minor": 0
      },
      "text/plain": [
       "HBox(children=(FloatProgress(value=0.0, max=50.0), HTML(value='')))"
      ]
     },
     "metadata": {},
     "output_type": "display_data"
    },
    {
     "name": "stdout",
     "output_type": "stream",
     "text": [
      "\n"
     ]
    },
    {
     "data": {
      "application/vnd.jupyter.widget-view+json": {
       "model_id": "9a5b653eeeac4fada05a90997e71635c",
       "version_major": 2,
       "version_minor": 0
      },
      "text/plain": [
       "HBox(children=(FloatProgress(value=0.0, max=50.0), HTML(value='')))"
      ]
     },
     "metadata": {},
     "output_type": "display_data"
    },
    {
     "name": "stdout",
     "output_type": "stream",
     "text": [
      "\n"
     ]
    },
    {
     "data": {
      "application/vnd.jupyter.widget-view+json": {
       "model_id": "5b0ca6256fe44680b3ab601b394e00f9",
       "version_major": 2,
       "version_minor": 0
      },
      "text/plain": [
       "HBox(children=(FloatProgress(value=0.0, max=50.0), HTML(value='')))"
      ]
     },
     "metadata": {},
     "output_type": "display_data"
    },
    {
     "name": "stdout",
     "output_type": "stream",
     "text": [
      "\n"
     ]
    },
    {
     "data": {
      "application/vnd.jupyter.widget-view+json": {
       "model_id": "6abb957a6bd240e5aae7814d334cf294",
       "version_major": 2,
       "version_minor": 0
      },
      "text/plain": [
       "HBox(children=(FloatProgress(value=0.0, max=50.0), HTML(value='')))"
      ]
     },
     "metadata": {},
     "output_type": "display_data"
    },
    {
     "name": "stdout",
     "output_type": "stream",
     "text": [
      "\n"
     ]
    },
    {
     "data": {
      "application/vnd.jupyter.widget-view+json": {
       "model_id": "68cfeaf2269d423b918ff77d80e682ed",
       "version_major": 2,
       "version_minor": 0
      },
      "text/plain": [
       "HBox(children=(FloatProgress(value=0.0, max=50.0), HTML(value='')))"
      ]
     },
     "metadata": {},
     "output_type": "display_data"
    },
    {
     "name": "stdout",
     "output_type": "stream",
     "text": [
      "\n"
     ]
    },
    {
     "data": {
      "application/vnd.jupyter.widget-view+json": {
       "model_id": "70be8dd233cc413aa208d3a7545fa79f",
       "version_major": 2,
       "version_minor": 0
      },
      "text/plain": [
       "HBox(children=(FloatProgress(value=0.0, max=50.0), HTML(value='')))"
      ]
     },
     "metadata": {},
     "output_type": "display_data"
    },
    {
     "name": "stdout",
     "output_type": "stream",
     "text": [
      "\n"
     ]
    },
    {
     "data": {
      "application/vnd.jupyter.widget-view+json": {
       "model_id": "3caf71b9971b4bf294ec6fee30674050",
       "version_major": 2,
       "version_minor": 0
      },
      "text/plain": [
       "HBox(children=(FloatProgress(value=0.0, max=50.0), HTML(value='')))"
      ]
     },
     "metadata": {},
     "output_type": "display_data"
    },
    {
     "name": "stdout",
     "output_type": "stream",
     "text": [
      "\n"
     ]
    },
    {
     "data": {
      "application/vnd.jupyter.widget-view+json": {
       "model_id": "aa5d33bf57084904ad452adc9bf57895",
       "version_major": 2,
       "version_minor": 0
      },
      "text/plain": [
       "HBox(children=(FloatProgress(value=0.0, max=50.0), HTML(value='')))"
      ]
     },
     "metadata": {},
     "output_type": "display_data"
    },
    {
     "name": "stdout",
     "output_type": "stream",
     "text": [
      "\n"
     ]
    },
    {
     "data": {
      "application/vnd.jupyter.widget-view+json": {
       "model_id": "365c05a1149a433a9174124002b7b2e9",
       "version_major": 2,
       "version_minor": 0
      },
      "text/plain": [
       "HBox(children=(FloatProgress(value=0.0, max=50.0), HTML(value='')))"
      ]
     },
     "metadata": {},
     "output_type": "display_data"
    },
    {
     "name": "stdout",
     "output_type": "stream",
     "text": [
      "\n"
     ]
    },
    {
     "data": {
      "application/vnd.jupyter.widget-view+json": {
       "model_id": "8be657cf70f84395b61403225218af0d",
       "version_major": 2,
       "version_minor": 0
      },
      "text/plain": [
       "HBox(children=(FloatProgress(value=0.0, max=50.0), HTML(value='')))"
      ]
     },
     "metadata": {},
     "output_type": "display_data"
    },
    {
     "name": "stdout",
     "output_type": "stream",
     "text": [
      "\n"
     ]
    },
    {
     "data": {
      "application/vnd.jupyter.widget-view+json": {
       "model_id": "1a170a0c332e466eb18546d4f57283bb",
       "version_major": 2,
       "version_minor": 0
      },
      "text/plain": [
       "HBox(children=(FloatProgress(value=0.0, max=50.0), HTML(value='')))"
      ]
     },
     "metadata": {},
     "output_type": "display_data"
    },
    {
     "name": "stdout",
     "output_type": "stream",
     "text": [
      "\n"
     ]
    },
    {
     "data": {
      "application/vnd.jupyter.widget-view+json": {
       "model_id": "5861c97922d0463b873dc82dcf8f39b6",
       "version_major": 2,
       "version_minor": 0
      },
      "text/plain": [
       "HBox(children=(FloatProgress(value=0.0, max=50.0), HTML(value='')))"
      ]
     },
     "metadata": {},
     "output_type": "display_data"
    },
    {
     "name": "stdout",
     "output_type": "stream",
     "text": [
      "\n"
     ]
    },
    {
     "data": {
      "application/vnd.jupyter.widget-view+json": {
       "model_id": "0ecb91f609fe4480b9fe00d279246df2",
       "version_major": 2,
       "version_minor": 0
      },
      "text/plain": [
       "HBox(children=(FloatProgress(value=0.0, max=50.0), HTML(value='')))"
      ]
     },
     "metadata": {},
     "output_type": "display_data"
    },
    {
     "name": "stdout",
     "output_type": "stream",
     "text": [
      "\n"
     ]
    },
    {
     "data": {
      "application/vnd.jupyter.widget-view+json": {
       "model_id": "88d4f8ef9c3742db9ae93e4df6da40ed",
       "version_major": 2,
       "version_minor": 0
      },
      "text/plain": [
       "HBox(children=(FloatProgress(value=0.0, max=50.0), HTML(value='')))"
      ]
     },
     "metadata": {},
     "output_type": "display_data"
    },
    {
     "name": "stdout",
     "output_type": "stream",
     "text": [
      "\n"
     ]
    }
   ],
   "source": [
    "generated_path = []\n",
    "generated_logsigs = []\n",
    "for cond in data_cond[:100]:\n",
    "    generated_logsig = generate(cond, cond_dim, n_latent).to('cpu').detach().numpy().copy()\n",
    "    recovered_path, loss = logsig_inversion.train(generated_logsig, sig_order, n_iterations, n_organisms, n_points, pip, n_pips)\n",
    "    \n",
    "    generated_path.append(recovered_path)\n",
    "    generated_logsigs.append(generated_logsig)"
   ]
  },
  {
   "cell_type": "code",
   "execution_count": 45,
   "id": "05c25ce4-e107-47e5-a8c2-cca6e4f289d9",
   "metadata": {},
   "outputs": [],
   "source": [
    "generated_logsigs = np.array(generated_logsigs).reshape(-1, input_dim_target)"
   ]
  },
  {
   "cell_type": "code",
   "execution_count": 46,
   "id": "301b31e2-fb22-4122-9223-d9606233cc90",
   "metadata": {},
   "outputs": [
    {
     "data": {
      "application/vnd.jupyter.widget-view+json": {
       "model_id": "467ad8fa0265433d8cf2301d6f63253e",
       "version_major": 2,
       "version_minor": 0
      },
      "text/plain": [
       "HBox(children=(FloatProgress(value=0.0, description='Computing signatures of population 1', style=ProgressStyl…"
      ]
     },
     "metadata": {},
     "output_type": "display_data"
    },
    {
     "name": "stdout",
     "output_type": "stream",
     "text": [
      "\n"
     ]
    },
    {
     "data": {
      "application/vnd.jupyter.widget-view+json": {
       "model_id": "0cbed86f162141a1bf301f6fd3fdd550",
       "version_major": 2,
       "version_minor": 0
      },
      "text/plain": [
       "HBox(children=(FloatProgress(value=0.0, description='Computing signatures of population 2', style=ProgressStyl…"
      ]
     },
     "metadata": {},
     "output_type": "display_data"
    },
    {
     "name": "stdout",
     "output_type": "stream",
     "text": [
      "\n",
      "Are the generated and real distributions DIFFERENT? False\n"
     ]
    }
   ],
   "source": [
    "sigs1 = np.array([tosig.logsig2sig(logsig, 2, sig_order) for logsig in generated_logsigs])\n",
    "sigs2 = np.array([tosig.logsig2sig(logsig, 2, sig_order) for logsig in target_data[:100]])\n",
    "\n",
    "res = process_discriminator.test(sigs1, sigs2, order=sig_order, compute_sigs=False, confidence_level=0.99)\n",
    "\n",
    "print(\"Are the generated and real distributions DIFFERENT? {}\".format(res))"
   ]
  },
  {
   "cell_type": "code",
   "execution_count": 47,
   "id": "65aa9db3-69af-4340-bc23-ddbfe302c672",
   "metadata": {},
   "outputs": [
    {
     "data": {
      "image/png": "[encoded data removed]",
      "text/plain": [
       "<Figure size 432x288 with 1 Axes>"
      ]
     },
     "metadata": {
      "needs_background": "light"
     },
     "output_type": "display_data"
    }
   ],
   "source": [
    "fig, ax = plt.subplots()\n",
    "for path1, path2 in zip(DATAs[:100], generated_path):\n",
    "    vol_path = path1[:, 2] -  path1[0, 2]\n",
    "    ax.plot(vol_path, 'darkgray', alpha=0.25)\n",
    "\n",
    "    ax.plot(path2, 'blue', alpha=0.2)\n",
    "\n",
    "gray_patch = mpatches.Patch(color = 'darkgray', label = 'volatility paths')\n",
    "blue_patch = mpatches.Patch(color = 'blue', label = 'Generated paths')\n",
    "\n",
    "\n",
    "\n",
    "\n",
    "plt.legend(handles=[blue_patch, gray_patch], fontsize=10)    \n",
    "plt.xlabel(\"Timestamp\", fontsize=14)\n",
    "\n",
    "#外枠の削除\n",
    "plt.gca().spines['right'].set_visible(False)\n",
    "plt.gca().spines['top'].set_visible(False)\n",
    "plt.gca().spines['left'].set_visible(False)\n",
    "plt.gca().spines['bottom'].set_visible(True)\n",
    "\n",
    "fig.savefig(\"Figures/generatedVolFromSpot.png\", dpi=300, bbox_inches=\"tight\")\n",
    "plt.show();"
   ]
  },
  {
   "cell_type": "code",
   "execution_count": null,
   "id": "929116e1-eff5-4745-84fa-3470b4879f83",
   "metadata": {},
   "outputs": [],
   "source": []
  }
 ],
 "metadata": {
  "kernelspec": {
   "display_name": "Python 3 (ipykernel)",
   "language": "python",
   "name": "python3"
  },
  "language_info": {
   "codemirror_mode": {
    "name": "ipython",
    "version": 3
   },
   "file_extension": ".py",
   "mimetype": "text/x-python",
   "name": "python",
   "nbconvert_exporter": "python",
   "pygments_lexer": "ipython3",
   "version": "3.9.6"
  }
 },
 "nbformat": 4,
 "nbformat_minor": 5
}
