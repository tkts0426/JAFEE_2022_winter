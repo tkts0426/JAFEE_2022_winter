{
 "cells": [
  {
   "cell_type": "markdown",
   "metadata": {
    "id": "XdTiHmqC_R-n"
   },
   "source": []
  },
  {
   "cell_type": "code",
   "execution_count": 1,
   "metadata": {
    "id": "orxVsTyA-7uG"
   },
   "outputs": [],
   "source": [
    "import numpy as np\n",
    "import matplotlib.pyplot as plt\n",
    "import pandas as pd\n",
    "import math\n",
    "\n",
    "%matplotlib inline\n",
    "%config InlineBackend.figure_format = 'retina'\n",
    "\n",
    "\n",
    "\n",
    "np.random.seed(1234)\n"
   ]
  },
  {
   "cell_type": "code",
   "execution_count": 2,
   "metadata": {
    "id": "VFpvrakT_OPK"
   },
   "outputs": [],
   "source": [
    "pd.set_option('display.max_rows', 1000)\n",
    "pd.set_option('display.max_columns', 1000)"
   ]
  },
  {
   "cell_type": "markdown",
   "metadata": {
    "id": "KgJf0QtJ_UOZ"
   },
   "source": [
    "# ブラウン運動の発生"
   ]
  },
  {
   "cell_type": "code",
   "execution_count": 3,
   "metadata": {
    "id": "9NAbO0vo_b7c"
   },
   "outputs": [],
   "source": [
    "def brownian_motion(n, T):\n",
    "    \"\"\"\n",
    "    Simulates a Brownian motion\n",
    "    :param int n : the number of discrete steps\n",
    "    :param int T: the number of continuous time steps\n",
    "    :param float h: the variance of the increments\n",
    "    \"\"\"\n",
    "    delta_t = 1. * T/n  # decide the increment of the time\n",
    "    partition = [i * delta_t for i in range(n + 1)] # make a partition\n",
    "    \n",
    "    # ブラウン運動の差分（平均：０，標準偏差：時間の差分）\n",
    "    random_increments = np.random.normal(loc = 0.0, scale = np.sqrt(delta_t), size = n)\n",
    "    '''\n",
    "    where loc = \"mean(average)\", scale = \"variance\", n = the number of increments.\n",
    "    (正規分布を発生させている)\n",
    "    '''\n",
    "    # making data like a Brownian motion\n",
    "    brownian_motion = np.cumsum(random_increments)  # calculate the brownian motion\n",
    "    # insert the initial condition\n",
    "    brownian_motion = np.insert(brownian_motion, 0, 0.0)\n",
    "    \n",
    "    return brownian_motion, random_increments, partition"
   ]
  },
  {
   "cell_type": "markdown",
   "metadata": {
    "id": "5ciHmwo-_eUn"
   },
   "source": [
    "# SABR_2モデル"
   ]
  },
  {
   "cell_type": "code",
   "execution_count": 4,
   "metadata": {
    "id": "XD3chiTs_lQx"
   },
   "outputs": [],
   "source": [
    "def SABR_vol(dB_1, dB_2, n, delta_t, a, rho, vol_0):\n",
    "    vols_root = [vol_0]\n",
    "    for i in range(1, n + 1):\n",
    "        pre_vol = vols_root[i-1]\n",
    "        vol_root = pre_vol * math.exp((1/2) * a * (rho * dB_1[i-1] + np.sqrt(1 - rho**2) * dB_2[i-1]) - (1/4) * (a**2) * delta_t)\n",
    "        vols_root.append(vol_root)\n",
    "    return vols_root\n",
    "\n",
    "def simulate_SABR_2(n = 100, T = 1, alpha = 0.3, beta = 1, rho = 0.5, X_0 = 0.1, vol_0 = 0.1, fig_mode = False):\n",
    "    '''\n",
    "    出力：\n",
    "        データテーブル（columns : timestamp, process, volatility**(1/2))\n",
    "    '''\n",
    "    \n",
    "    \n",
    "    \n",
    "    # BMの生成\n",
    "    BM_1, dB_1, partition = brownian_motion(n, T)\n",
    "    BM_2, dB_2, partition = brownian_motion(n, T)\n",
    "    dt = 1. * T / n\n",
    "    \n",
    "    partition = [dt * i for i in range(n + 1)]\n",
    "    \n",
    "    # SABR model に従う ”Process X”と ”volatility sig” を作成\n",
    "    X = np.zeros(n + 1)\n",
    "    X[0] = X_0\n",
    "    \n",
    "    SABR_vols = SABR_vol(dB_1 = dB_1, dB_2 = dB_2, n = n, delta_t = dt, a = alpha, rho = rho, vol_0 = vol_0)\n",
    "    \n",
    "    for i, dB_1_t, dB_2_t, t in zip(range(1, n+1), dB_1, dB_2, partition):\n",
    "        # 1つ前の X と sig の値\n",
    "        pre_vol = SABR_vols[i-1]\n",
    "        pre_X = X[i-1] \n",
    "        # X と sig の値を計算（SDEに従う）\n",
    "        X[i] = pre_X + pre_vol * pre_X**(beta) * dB_1_t\n",
    "        \n",
    "    #print('vol size : {}, X size : {}, partition size : {}'.format(len(SABR_vols), X.size, len(partition)))\n",
    "    \n",
    "    data_array = np.array([partition, X, SABR_vols]).T\n",
    "    df = pd.DataFrame(data_array, columns = ['timestamp', 'process', 'volatility'])\n",
    "    \n",
    "    if fig_mode:\n",
    "        fig, ax = plt.subplots()\n",
    "\n",
    "        # plot the process X and volatility sigma\n",
    "        ax.plot(partition, X, color = 'blue', label = 'process')\n",
    "        ax.plot(partition, SABR_vols, color = 'red', label = 'volatility')\n",
    "        ax.set_xlabel('time(s)')\n",
    "        ax.set_ylabel('process X and volatility sigma')\n",
    "\n",
    "        # 以下はそんなに関係ないから気にしなくていい．\n",
    "        plt.gca().spines['right'].set_visible(False)\n",
    "        plt.gca().spines['top'].set_visible(False)\n",
    "        plt.gca().yaxis.set_ticks_position('left')\n",
    "        plt.gca().xaxis.set_ticks_position('bottom')\n",
    "\n",
    "        plt.legend();\n",
    "\n",
    "    return df"
   ]
  },
  {
   "cell_type": "markdown",
   "metadata": {
    "id": "jbk-mou6_rtZ"
   },
   "source": [
    "# スポットボラティリティの推定"
   ]
  },
  {
   "cell_type": "code",
   "execution_count": 22,
   "metadata": {
    "id": "Ypc0eySX_ukA"
   },
   "outputs": [],
   "source": [
    "#フェイエ核\n",
    "def F(M,x):\n",
    "      return 1 / (M+1) * (np.sin(2 * np.pi* (M + 1) * x /2))**2 / (np.sin(2 * np.pi * x / 2))**2"
   ]
  },
  {
   "cell_type": "code",
   "execution_count": 23,
   "metadata": {
    "id": "yazQfpI9_vOm"
   },
   "outputs": [],
   "source": [
    "#ディレクレ核\n",
    "def D(N,x):\n",
    "      return 1/(2*N + 1) * (np.sin(2 * np.pi * (N + 1/2) * x)) / (np.sin(2 * np.pi * x / 2) )"
   ]
  },
  {
   "cell_type": "markdown",
   "metadata": {
    "id": "UUxBN2vi__Fx"
   },
   "source": [
    "## ハイパーパラメータの設定"
   ]
  },
  {
   "cell_type": "code",
   "execution_count": 53,
   "metadata": {
    "id": "on56_Kg-_xi2"
   },
   "outputs": [],
   "source": [
    "# ハイパーパラメータの設定\n",
    "T = 1\n",
    "n = 100\n",
    "N = n/2\n",
    "\n",
    "M = np.sqrt(n)\n",
    "\n",
    "alpha = 0.01\n",
    "beta = 0.6\n",
    "rho = -0.2\n",
    "X_0 = 1000\n",
    "vol_0 = 6"
   ]
  },
  {
   "cell_type": "markdown",
   "metadata": {
    "id": "jnNNU8V1xvl_"
   },
   "source": [
    "# t全て"
   ]
  },
  {
   "cell_type": "code",
   "execution_count": 54,
   "metadata": {
    "id": "vZkn_Q4OxtHG"
   },
   "outputs": [],
   "source": [
    "def cal_spotVol(n, N, M, T, alpha, beta, rho, X_0, vol_0):\n",
    "    partition = [i/n for i in range(n)]\n",
    "    df_path = simulate_SABR_2(n = n, T = T, alpha = alpha, beta = beta, rho = rho, X_0 = X_0, vol_0 = vol_0)\n",
    "    X = df_path['process'].values\n",
    "  \n",
    "    vol_process = []\n",
    "#各時刻tに対して分割i,jに対するスポットボラティリティを計算する\n",
    "#nは分割数\n",
    "    for t in partition:\n",
    "        spot_vol = 0\n",
    "        for i in range(n):\n",
    "            for j in range(n):\n",
    "                if ((np.sin(2 * np.pi* (t - partition[j]) / 2))**2 == 0):\n",
    "                    F_ = M + 1\n",
    "                else:\n",
    "                    F_ = F(M, t - partition[j])\n",
    "                if (np.sin(2 * np.pi* (partition[j] - partition[i]) /2)  == 0):\n",
    "                    D_ = 1\n",
    "                else:\n",
    "                    D_ = D(N, partition[j] - partition[i])\n",
    "\n",
    "                add = F_ * D_ * (X[j+1] - X[j]) * (X[i+1] - X[i])\n",
    "                spot_vol += add\n",
    "\n",
    "        vol_process.append(spot_vol)\n",
    "\n",
    "    #個数を合わせる為\n",
    "    df_path = df_path[:-1]\n",
    "\n",
    "    df_path['spot volatility'] = vol_process\n",
    "  \n",
    "    df_path['abs_error_vol'] = np.abs((df_path['process'] * df_path['volatility']) - df_path['spot volatility'])\n",
    "    return df_path\n",
    "\n",
    "#L2誤差を吐き出す関数を定義\n",
    "def cal_error(df_path):\n",
    "    error = np.linalg.norm(df_path['volatility']**2 - df_path['spot volatility']) / np.sqrt(n)\n",
    "  \n",
    "    return error"
   ]
  },
  {
   "cell_type": "code",
   "execution_count": 55,
   "metadata": {
    "id": "0n_8gX5Hx-Z7"
   },
   "outputs": [],
   "source": [
    "df_path = cal_spotVol(n, N, M, T, alpha, beta, rho, X_0, vol_0)"
   ]
  },
  {
   "cell_type": "code",
   "execution_count": 56,
   "metadata": {
    "colab": {
     "base_uri": "https://localhost:8080/",
     "height": 514
    },
    "id": "9o8BdbDox_SX",
    "outputId": "03e9ecc5-6f62-419b-9bc9-a5ec060eb14e"
   },
   "outputs": [
    {
     "data": {
      "text/html": [
       "<div>\n",
       "<style scoped>\n",
       "    .dataframe tbody tr th:only-of-type {\n",
       "        vertical-align: middle;\n",
       "    }\n",
       "\n",
       "    .dataframe tbody tr th {\n",
       "        vertical-align: top;\n",
       "    }\n",
       "\n",
       "    .dataframe thead th {\n",
       "        text-align: right;\n",
       "    }\n",
       "</style>\n",
       "<table border=\"1\" class=\"dataframe\">\n",
       "  <thead>\n",
       "    <tr style=\"text-align: right;\">\n",
       "      <th></th>\n",
       "      <th>timestamp</th>\n",
       "      <th>process</th>\n",
       "      <th>volatility</th>\n",
       "      <th>spot volatility</th>\n",
       "      <th>abs_error_vol</th>\n",
       "    </tr>\n",
       "  </thead>\n",
       "  <tbody>\n",
       "    <tr>\n",
       "      <th>0</th>\n",
       "      <td>0.00</td>\n",
       "      <td>1000.000000</td>\n",
       "      <td>6.000000</td>\n",
       "      <td>112830.987345</td>\n",
       "      <td>106830.987345</td>\n",
       "    </tr>\n",
       "    <tr>\n",
       "      <th>1</th>\n",
       "      <td>0.01</td>\n",
       "      <td>950.283775</td>\n",
       "      <td>6.004799</td>\n",
       "      <td>102926.103608</td>\n",
       "      <td>97219.840314</td>\n",
       "    </tr>\n",
       "    <tr>\n",
       "      <th>2</th>\n",
       "      <td>0.02</td>\n",
       "      <td>932.105011</td>\n",
       "      <td>5.999555</td>\n",
       "      <td>90981.532151</td>\n",
       "      <td>85389.317039</td>\n",
       "    </tr>\n",
       "    <tr>\n",
       "      <th>3</th>\n",
       "      <td>0.03</td>\n",
       "      <td>956.419543</td>\n",
       "      <td>5.998347</td>\n",
       "      <td>77916.936047</td>\n",
       "      <td>72179.999917</td>\n",
       "    </tr>\n",
       "    <tr>\n",
       "      <th>4</th>\n",
       "      <td>0.04</td>\n",
       "      <td>951.330991</td>\n",
       "      <td>5.997737</td>\n",
       "      <td>64820.743875</td>\n",
       "      <td>59114.910571</td>\n",
       "    </tr>\n",
       "    <tr>\n",
       "      <th>5</th>\n",
       "      <td>0.05</td>\n",
       "      <td>953.468721</td>\n",
       "      <td>5.998206</td>\n",
       "      <td>52872.502228</td>\n",
       "      <td>47153.400792</td>\n",
       "    </tr>\n",
       "    <tr>\n",
       "      <th>6</th>\n",
       "      <td>0.06</td>\n",
       "      <td>924.762449</td>\n",
       "      <td>5.996009</td>\n",
       "      <td>43287.018491</td>\n",
       "      <td>37742.134848</td>\n",
       "    </tr>\n",
       "    <tr>\n",
       "      <th>7</th>\n",
       "      <td>0.07</td>\n",
       "      <td>936.946948</td>\n",
       "      <td>5.998372</td>\n",
       "      <td>37284.403271</td>\n",
       "      <td>31664.246979</td>\n",
       "    </tr>\n",
       "    <tr>\n",
       "      <th>8</th>\n",
       "      <td>0.08</td>\n",
       "      <td>930.871615</td>\n",
       "      <td>5.997106</td>\n",
       "      <td>36066.861007</td>\n",
       "      <td>30484.325443</td>\n",
       "    </tr>\n",
       "    <tr>\n",
       "      <th>9</th>\n",
       "      <td>0.09</td>\n",
       "      <td>934.705335</td>\n",
       "      <td>5.996748</td>\n",
       "      <td>40764.564894</td>\n",
       "      <td>35159.372320</td>\n",
       "    </tr>\n",
       "    <tr>\n",
       "      <th>10</th>\n",
       "      <td>0.10</td>\n",
       "      <td>936.321732</td>\n",
       "      <td>5.994048</td>\n",
       "      <td>52311.092459</td>\n",
       "      <td>46698.734723</td>\n",
       "    </tr>\n",
       "    <tr>\n",
       "      <th>11</th>\n",
       "      <td>0.11</td>\n",
       "      <td>922.908359</td>\n",
       "      <td>5.999291</td>\n",
       "      <td>71230.313528</td>\n",
       "      <td>65693.517797</td>\n",
       "    </tr>\n",
       "    <tr>\n",
       "      <th>12</th>\n",
       "      <td>0.12</td>\n",
       "      <td>920.240631</td>\n",
       "      <td>6.001843</td>\n",
       "      <td>97358.241471</td>\n",
       "      <td>91835.101960</td>\n",
       "    </tr>\n",
       "    <tr>\n",
       "      <th>13</th>\n",
       "      <td>0.13</td>\n",
       "      <td>891.431123</td>\n",
       "      <td>5.997916</td>\n",
       "      <td>129571.634610</td>\n",
       "      <td>124224.905372</td>\n",
       "    </tr>\n",
       "    <tr>\n",
       "      <th>14</th>\n",
       "      <td>0.14</td>\n",
       "      <td>895.835394</td>\n",
       "      <td>6.002482</td>\n",
       "      <td>165629.844910</td>\n",
       "      <td>160252.609176</td>\n",
       "    </tr>\n",
       "  </tbody>\n",
       "</table>\n",
       "</div>"
      ],
      "text/plain": [
       "    timestamp      process  volatility  spot volatility  abs_error_vol\n",
       "0        0.00  1000.000000    6.000000    112830.987345  106830.987345\n",
       "1        0.01   950.283775    6.004799    102926.103608   97219.840314\n",
       "2        0.02   932.105011    5.999555     90981.532151   85389.317039\n",
       "3        0.03   956.419543    5.998347     77916.936047   72179.999917\n",
       "4        0.04   951.330991    5.997737     64820.743875   59114.910571\n",
       "5        0.05   953.468721    5.998206     52872.502228   47153.400792\n",
       "6        0.06   924.762449    5.996009     43287.018491   37742.134848\n",
       "7        0.07   936.946948    5.998372     37284.403271   31664.246979\n",
       "8        0.08   930.871615    5.997106     36066.861007   30484.325443\n",
       "9        0.09   934.705335    5.996748     40764.564894   35159.372320\n",
       "10       0.10   936.321732    5.994048     52311.092459   46698.734723\n",
       "11       0.11   922.908359    5.999291     71230.313528   65693.517797\n",
       "12       0.12   920.240631    6.001843     97358.241471   91835.101960\n",
       "13       0.13   891.431123    5.997916    129571.634610  124224.905372\n",
       "14       0.14   895.835394    6.002482    165629.844910  160252.609176"
      ]
     },
     "execution_count": 56,
     "metadata": {},
     "output_type": "execute_result"
    }
   ],
   "source": [
    "df_path.head(15)"
   ]
  },
  {
   "cell_type": "code",
   "execution_count": 27,
   "metadata": {
    "colab": {
     "base_uri": "https://localhost:8080/"
    },
    "id": "7N83lfjI37-D",
    "outputId": "4a42017d-3114-4bb4-a956-f3c9a188367d"
   },
   "outputs": [
    {
     "name": "stdout",
     "output_type": "stream",
     "text": [
      "L2-error is 10.930482466628321\n"
     ]
    }
   ],
   "source": [
    "print(\"L2-error is\",cal_error(df_path))"
   ]
  },
  {
   "cell_type": "markdown",
   "metadata": {
    "id": "oH-z4AOayHyL"
   },
   "source": [
    "## Mを固定した場合のL2誤差の平均分散"
   ]
  },
  {
   "cell_type": "code",
   "execution_count": null,
   "metadata": {
    "colab": {
     "base_uri": "https://localhost:8080/"
    },
    "id": "uN8ESfnLyI0V",
    "outputId": "a3e6abec-bf97-4bef-df39-7850c31748e9"
   },
   "outputs": [
    {
     "name": "stdout",
     "output_type": "stream",
     "text": [
      "3.7015460323491154\n",
      "----------------------------------------\n",
      "6.820897561936194\n",
      "----------------------------------------\n",
      "6.155211102273615\n",
      "----------------------------------------\n",
      "4.8353901477486945\n",
      "----------------------------------------\n",
      "3.1854307765305974\n",
      "----------------------------------------\n",
      "4.5576117195230115\n",
      "----------------------------------------\n",
      "5.551770416954013\n",
      "----------------------------------------\n",
      "9.265050850231303\n",
      "----------------------------------------\n",
      "6.515154655054002\n",
      "----------------------------------------\n",
      "2.176734324410029\n",
      "----------------------------------------\n",
      "4.308549149210269\n",
      "----------------------------------------\n",
      "6.053701441300187\n",
      "----------------------------------------\n",
      "2.1243482594939462\n",
      "----------------------------------------\n",
      "2.1808243500959295\n",
      "----------------------------------------\n",
      "2.270313476800945\n",
      "----------------------------------------\n",
      "7.166292050538344\n",
      "----------------------------------------\n",
      "7.507471449188055\n",
      "----------------------------------------\n",
      "7.685906070324622\n",
      "----------------------------------------\n",
      "9.308141737071969\n",
      "----------------------------------------\n",
      "9.805431547877541\n",
      "----------------------------------------\n",
      "5.434532249472321\n",
      "----------------------------------------\n",
      "2.9681309046834627\n",
      "----------------------------------------\n",
      "3.629980334259635\n",
      "----------------------------------------\n",
      "7.733850032671197\n",
      "----------------------------------------\n",
      "9.472651510764646\n",
      "----------------------------------------\n",
      "1.9709577625503893\n",
      "----------------------------------------\n",
      "9.306956349445366\n",
      "----------------------------------------\n",
      "5.245709771492168\n",
      "----------------------------------------\n",
      "1.9733790467997927\n",
      "----------------------------------------\n",
      "2.9474060247472673\n",
      "----------------------------------------\n",
      "mean = 5.395311036859955 var = 6.462005153055022\n"
     ]
    }
   ],
   "source": [
    "errors = []\n",
    "for _ in range(30):\n",
    "  df_path = cal_spotVol(n, N, M, T, alpha, beta, rho, X_0, vol_0)\n",
    "  error = cal_error(df_path)\n",
    "  print(error)\n",
    "  print('----' * 10)\n",
    "  errors.append(error)\n",
    "\n",
    "errors = np.array(errors)\n",
    "print(f'mean = {np.mean(errors)}', f'var = {np.var(errors)}')\n"
   ]
  },
  {
   "cell_type": "markdown",
   "metadata": {
    "id": "PEO3g9FnRlCv"
   },
   "source": [
    "# 可視化"
   ]
  },
  {
   "cell_type": "code",
   "execution_count": null,
   "metadata": {
    "id": "xcuBv9qcRoB8"
   },
   "outputs": [],
   "source": [
    "for _ in range(5):\n",
    "  df_path = cal_spotVol(n, N, M, T, alpha, beta, rho, X_0, vol_0)\n",
    "\n",
    "  t = df_path['timestamp']\n",
    "  X = (df_path['volatility'])**2\n",
    "  V = df_path['spot volatility']\n",
    "\n",
    "  fig, ax = plt.subplots()\n",
    "  ax.plot(t, X, 'o-r', t, V, 'x--b', linewidth = 5)\n",
    "\n",
    "  plt.show()"
   ]
  }
 ],
 "metadata": {
  "colab": {
   "collapsed_sections": [],
   "name": "Foulie法(t全て)",
   "provenance": [],
   "toc_visible": true
  },
  "kernelspec": {
   "display_name": "Python 3 (ipykernel)",
   "language": "python",
   "name": "python3"
  },
  "language_info": {
   "codemirror_mode": {
    "name": "ipython",
    "version": 3
   },
   "file_extension": ".py",
   "mimetype": "text/x-python",
   "name": "python",
   "nbconvert_exporter": "python",
   "pygments_lexer": "ipython3",
   "version": "3.9.7"
  }
 },
 "nbformat": 4,
 "nbformat_minor": 4
}
