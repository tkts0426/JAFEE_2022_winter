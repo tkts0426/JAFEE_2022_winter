{
 "cells": [
  {
   "cell_type": "code",
   "execution_count": 34,
   "id": "ed7bd139-889b-4b41-8a22-d54bbf8773e5",
   "metadata": {},
   "outputs": [
    {
     "name": "stdout",
     "output_type": "stream",
     "text": [
      "/home/tkts0426/Rits_Conference/JAFEE_2022_winter/program\n"
     ]
    }
   ],
   "source": [
    "%cd .."
   ]
  },
  {
   "cell_type": "code",
   "execution_count": 68,
   "id": "22c46fb4-d071-4d9e-9868-692b5ff81c00",
   "metadata": {},
   "outputs": [],
   "source": [
    "import esig\n",
    "import esig.tosig as ts\n",
    "import numpy as np\n",
    "import pandas as pd\n",
    "import seaborn as sns\n",
    "import torch\n",
    "import matplotlib.pyplot as plt\n",
    "import math\n",
    "import warnings\n",
    "import matplotlib.patches as mpatches\n",
    "\n",
    "from sklearn.preprocessing import MinMaxScaler\n",
    "from torch import optim\n",
    "from tqdm import tqdm\n",
    "from sklearn import utils\n",
    "\n",
    "from src.generating_process import brownian_motion, simulate_SABR, simulate_SABR_2, cal_spotVol\n",
    "from src.cvae import CVAE\n",
    "from src.vae import VAE\n",
    "from src.create_dataset import MyDataset\n",
    "from src.custom_loss import CustomLoss\n",
    "from src.utils import tosig\n",
    "from src.utils.leadlag import leadlag\n",
    "from src import logsig_inversion\n",
    "from src import logsig_inversion_v2\n",
    "from src import process_discriminator\n",
    "from src.sig_calculus_func import Lead, Lag\n",
    "\n",
    "pd.set_option('display.max_columns', 1000)\n",
    "pd.set_option('display.max_rows', 1000)\n",
    "\n",
    "warnings.simplefilter('ignore')"
   ]
  },
  {
   "cell_type": "code",
   "execution_count": 36,
   "id": "c9c80427-4e90-413d-8b23-42e972ca306c",
   "metadata": {},
   "outputs": [],
   "source": [
    "def generate(cond, input_dim, n_latent, n_samples = None):\n",
    "    if n_samples is not None:\n",
    "        randoms = []\n",
    "        for i in range(n_samples):\n",
    "            random = np.random.normal(0, 1, size=(1, n_latent))\n",
    "            randoms.append(random)\n",
    "    else:\n",
    "        randoms = np.random.normal(0, 1, size=(1, n_latent))\n",
    "        cond = torch.Tensor(cond)\n",
    "    \n",
    "    randoms = torch.Tensor(randoms).reshape(-1, n_latent)\n",
    "    cond = torch.Tensor(cond.float()).reshape(-1, input_dim)\n",
    "    \n",
    "    samples = generator.decoder(randoms, cond)\n",
    "    \n",
    "    return samples"
   ]
  },
  {
   "cell_type": "markdown",
   "id": "0bbe1a39-d3b4-4179-aeea-1cc2df93c345",
   "metadata": {},
   "source": [
    "# Download the data"
   ]
  },
  {
   "cell_type": "code",
   "execution_count": 37,
   "id": "a793af18-7e99-49bb-89bc-e14e3e10d830",
   "metadata": {},
   "outputs": [],
   "source": [
    "DATAs = np.load('Data/DATAs_1000.npy')"
   ]
  },
  {
   "cell_type": "markdown",
   "id": "8cbaa4bb-6270-45f1-8924-aef4f1d77d97",
   "metadata": {},
   "source": [
    "# Create the leadlag data"
   ]
  },
  {
   "cell_type": "code",
   "execution_count": 38,
   "id": "0b991a2f-33da-42df-8a9c-c2c6ffa8e88b",
   "metadata": {},
   "outputs": [],
   "source": [
    "leadlag_DATAs = []\n",
    "for i in range(DATAs.shape[0]):\n",
    "    timestamp = DATAs[i, :, 0]\n",
    "    price = DATAs[i, :, 1] - DATAs[i, 0, 1]\n",
    "    vol = DATAs[i, :, 2] - DATAs[i, 0, 2]\n",
    "    spot_vol = DATAs[i, :, 3] - DATAs[i, 0, 3]\n",
    "\n",
    "    leadlag_timestamp = leadlag(timestamp)\n",
    "    leadlag_price = leadlag(price)\n",
    "    leadlag_vol = leadlag(vol)\n",
    "    leadlag_spot_vol = leadlag(spot_vol)\n",
    "\n",
    "    leadlag_DATA = np.c_[leadlag_timestamp, leadlag_price, leadlag_vol, leadlag_spot_vol]\n",
    "    leadlag_DATAs.append(leadlag_DATA)\n",
    "\n",
    "leadlag_DATAs = np.array(leadlag_DATAs)"
   ]
  },
  {
   "cell_type": "markdown",
   "id": "097bfeda-65f3-407f-a498-510b4945cf3f",
   "metadata": {},
   "source": [
    "# Make the explanatory variable"
   ]
  },
  {
   "cell_type": "code",
   "execution_count": 70,
   "id": "d1e84585-c31a-4d66-96b2-ae9945e9d154",
   "metadata": {},
   "outputs": [],
   "source": [
    "sig_order = 2\n",
    "exp_col = [2, 3, 6, 7]"
   ]
  },
  {
   "cell_type": "code",
   "execution_count": 71,
   "id": "e1af26cb-311e-47e7-9c06-f9ab70419f35",
   "metadata": {},
   "outputs": [
    {
     "name": "stderr",
     "output_type": "stream",
     "text": [
      "Computing log-signatures: 100%|███| 1000/1000 [00:00<00:00, 6438.36it/s]\n"
     ]
    }
   ],
   "source": [
    "orig_logsig = []\n",
    "for i in tqdm(range(leadlag_DATAs.shape[0]), desc=\"Computing log-signatures\"):\n",
    "    path = leadlag_DATAs[i, :, :]\n",
    "    \n",
    "    orig_logsig.append(esig.stream2logsig(path[:, exp_col], sig_order))\n",
    "    \n",
    "orig_logsig = np.array(orig_logsig)\n",
    "\n",
    "scaler = MinMaxScaler(feature_range=(0.00001, 0.99999))\n",
    "logsig = scaler.fit_transform(orig_logsig)\n",
    "\n",
    "logsigs = logsig[1:]\n",
    "conditions = logsig[:-1]\n",
    "\n",
    "data = utils.as_float_array(logsigs)\n",
    "data_cond = utils.as_float_array(conditions)\n",
    "\n",
    "input_dim = data.shape[1]\n",
    "cond_dim = data_cond.shape[1]"
   ]
  },
  {
   "cell_type": "code",
   "execution_count": 72,
   "id": "defbfc14-3e8d-4d49-b916-b22a50d71717",
   "metadata": {},
   "outputs": [
    {
     "name": "stdout",
     "output_type": "stream",
     "text": [
      " 1 2 3 4 [1,2] [1,3] [1,4] [2,3] [2,4] [3,4]\n"
     ]
    }
   ],
   "source": [
    "log_sig_keys = esig.logsigkeys(len(exp_col), sig_order)\n",
    "print(log_sig_keys) "
   ]
  },
  {
   "cell_type": "code",
   "execution_count": 73,
   "id": "4c238299-9729-4364-b028-b1b9a05ee787",
   "metadata": {},
   "outputs": [
    {
     "data": {
      "text/plain": [
       "array([0.3824385 , 0.3824385 , 0.48380357])"
      ]
     },
     "execution_count": 73,
     "metadata": {},
     "output_type": "execute_result"
    }
   ],
   "source": [
    "cond"
   ]
  },
  {
   "cell_type": "markdown",
   "id": "8919c351-b80e-4e8c-be45-bb3c6ee08fae",
   "metadata": {},
   "source": [
    "# Make the target variable"
   ]
  },
  {
   "cell_type": "code",
   "execution_count": 74,
   "id": "8e024472-f9d4-46a7-ae6d-a35190949a5a",
   "metadata": {},
   "outputs": [],
   "source": [
    "target_col = [2, 3, 4, 5]"
   ]
  },
  {
   "cell_type": "code",
   "execution_count": 75,
   "id": "4dd837d3-718c-4020-b4e5-4b5579b056ee",
   "metadata": {},
   "outputs": [
    {
     "name": "stderr",
     "output_type": "stream",
     "text": [
      "Computing log-signatures: 100%|███| 1000/1000 [00:00<00:00, 6534.79it/s]\n"
     ]
    }
   ],
   "source": [
    "orig_logsig_target = []\n",
    "for i in tqdm(range(leadlag_DATAs.shape[0]), desc=\"Computing log-signatures\"):\n",
    "    path = leadlag_DATAs[i, :, :]\n",
    "    \n",
    "    orig_logsig_target.append(esig.stream2logsig(path[:, target_col], sig_order))\n",
    "    \n",
    "orig_logsig_target = np.array(orig_logsig_target)\n",
    "\n",
    "scaler = MinMaxScaler(feature_range=(0.00001, 0.99999))\n",
    "logsig_target = scaler.fit_transform(orig_logsig_target)\n",
    "\n",
    "target_data = utils.as_float_array(logsig_target)\n",
    "\n",
    "input_dim_target = target_data.shape[1]"
   ]
  },
  {
   "cell_type": "code",
   "execution_count": 76,
   "id": "4846fde2-10eb-4744-8514-49d76b2a9b52",
   "metadata": {},
   "outputs": [
    {
     "name": "stdout",
     "output_type": "stream",
     "text": [
      " 1 2 3 4 [1,2] [1,3] [1,4] [2,3] [2,4] [3,4]\n"
     ]
    }
   ],
   "source": [
    "log_sig_keys = esig.logsigkeys(len(target_col), sig_order)\n",
    "print(log_sig_keys) "
   ]
  },
  {
   "cell_type": "markdown",
   "id": "23f21260-4542-41a2-b6c9-45f07feea990",
   "metadata": {},
   "source": [
    "# Make the dataset"
   ]
  },
  {
   "cell_type": "code",
   "execution_count": 77,
   "id": "27160e7c-1ddb-43fa-8c3e-11f425de850b",
   "metadata": {},
   "outputs": [],
   "source": [
    "dataset = MyDataset(data, data_cond, target_data)\n",
    "dataloader = torch.utils.data.DataLoader(dataset, batch_size=25, shuffle=True)"
   ]
  },
  {
   "cell_type": "code",
   "execution_count": 78,
   "id": "57af6e0f-3381-491c-a93c-ae5f0b262453",
   "metadata": {},
   "outputs": [],
   "source": [
    "n_epochs = 1000\n",
    "learning_rate=0.005\n",
    "\n",
    "input_dim = input_dim\n",
    "input_dim_target = input_dim_target\n",
    "n_latent = 10"
   ]
  },
  {
   "cell_type": "code",
   "execution_count": 79,
   "id": "d929a50e-3670-4747-985a-7e08589b0ab3",
   "metadata": {},
   "outputs": [],
   "source": [
    "generator = CVAE(input_dim = input_dim, cond_dim = cond_dim, input_dim_target = input_dim_target, n_latent = n_latent, alpha=0.003)\n",
    "\n",
    "criterion = CustomLoss()\n",
    "optimizer = optim.SGD(generator.parameters(), lr=learning_rate, momentum=0.9, weight_decay=0.005)"
   ]
  },
  {
   "cell_type": "code",
   "execution_count": 80,
   "id": "bbefed4a-162e-4d82-976a-b8f39ffa1f5b",
   "metadata": {
    "tags": []
   },
   "outputs": [
    {
     "name": "stdout",
     "output_type": "stream",
     "text": [
      "tensor(0.2405, dtype=torch.float64, grad_fn=<DivBackward0>)\n",
      "tensor(0.1687, dtype=torch.float64, grad_fn=<DivBackward0>)\n",
      "tensor(0.1632, dtype=torch.float64, grad_fn=<DivBackward0>)\n",
      "tensor(0.1576, dtype=torch.float64, grad_fn=<DivBackward0>)\n",
      "tensor(0.1502, dtype=torch.float64, grad_fn=<DivBackward0>)\n",
      "tensor(0.1422, dtype=torch.float64, grad_fn=<DivBackward0>)\n",
      "tensor(0.1356, dtype=torch.float64, grad_fn=<DivBackward0>)\n",
      "tensor(0.1311, dtype=torch.float64, grad_fn=<DivBackward0>)\n",
      "tensor(0.1273, dtype=torch.float64, grad_fn=<DivBackward0>)\n",
      "tensor(0.1251, dtype=torch.float64, grad_fn=<DivBackward0>)\n",
      "tensor(0.1232, dtype=torch.float64, grad_fn=<DivBackward0>)\n",
      "tensor(0.1219, dtype=torch.float64, grad_fn=<DivBackward0>)\n",
      "tensor(0.1207, dtype=torch.float64, grad_fn=<DivBackward0>)\n",
      "tensor(0.1200, dtype=torch.float64, grad_fn=<DivBackward0>)\n",
      "tensor(0.1193, dtype=torch.float64, grad_fn=<DivBackward0>)\n",
      "tensor(0.1186, dtype=torch.float64, grad_fn=<DivBackward0>)\n",
      "tensor(0.1179, dtype=torch.float64, grad_fn=<DivBackward0>)\n",
      "tensor(0.1177, dtype=torch.float64, grad_fn=<DivBackward0>)\n",
      "tensor(0.1173, dtype=torch.float64, grad_fn=<DivBackward0>)\n",
      "tensor(0.1167, dtype=torch.float64, grad_fn=<DivBackward0>)\n",
      "tensor(0.1164, dtype=torch.float64, grad_fn=<DivBackward0>)\n",
      "tensor(0.1161, dtype=torch.float64, grad_fn=<DivBackward0>)\n",
      "tensor(0.1161, dtype=torch.float64, grad_fn=<DivBackward0>)\n",
      "tensor(0.1160, dtype=torch.float64, grad_fn=<DivBackward0>)\n",
      "tensor(0.1159, dtype=torch.float64, grad_fn=<DivBackward0>)\n",
      "tensor(0.1157, dtype=torch.float64, grad_fn=<DivBackward0>)\n",
      "tensor(0.1156, dtype=torch.float64, grad_fn=<DivBackward0>)\n",
      "tensor(0.1154, dtype=torch.float64, grad_fn=<DivBackward0>)\n",
      "tensor(0.1155, dtype=torch.float64, grad_fn=<DivBackward0>)\n",
      "tensor(0.1154, dtype=torch.float64, grad_fn=<DivBackward0>)\n",
      "tensor(0.1151, dtype=torch.float64, grad_fn=<DivBackward0>)\n",
      "tensor(0.1152, dtype=torch.float64, grad_fn=<DivBackward0>)\n",
      "tensor(0.1151, dtype=torch.float64, grad_fn=<DivBackward0>)\n",
      "tensor(0.1151, dtype=torch.float64, grad_fn=<DivBackward0>)\n",
      "tensor(0.1151, dtype=torch.float64, grad_fn=<DivBackward0>)\n",
      "tensor(0.1151, dtype=torch.float64, grad_fn=<DivBackward0>)\n",
      "tensor(0.1149, dtype=torch.float64, grad_fn=<DivBackward0>)\n",
      "tensor(0.1151, dtype=torch.float64, grad_fn=<DivBackward0>)\n",
      "tensor(0.1149, dtype=torch.float64, grad_fn=<DivBackward0>)\n",
      "tensor(0.1150, dtype=torch.float64, grad_fn=<DivBackward0>)\n",
      "tensor(0.1151, dtype=torch.float64, grad_fn=<DivBackward0>)\n",
      "tensor(0.1150, dtype=torch.float64, grad_fn=<DivBackward0>)\n",
      "tensor(0.1149, dtype=torch.float64, grad_fn=<DivBackward0>)\n",
      "tensor(0.1149, dtype=torch.float64, grad_fn=<DivBackward0>)\n",
      "tensor(0.1150, dtype=torch.float64, grad_fn=<DivBackward0>)\n",
      "tensor(0.1149, dtype=torch.float64, grad_fn=<DivBackward0>)\n",
      "tensor(0.1148, dtype=torch.float64, grad_fn=<DivBackward0>)\n",
      "tensor(0.1147, dtype=torch.float64, grad_fn=<DivBackward0>)\n",
      "tensor(0.1148, dtype=torch.float64, grad_fn=<DivBackward0>)\n",
      "tensor(0.1149, dtype=torch.float64, grad_fn=<DivBackward0>)\n",
      "tensor(0.1148, dtype=torch.float64, grad_fn=<DivBackward0>)\n",
      "tensor(0.1149, dtype=torch.float64, grad_fn=<DivBackward0>)\n",
      "tensor(0.1148, dtype=torch.float64, grad_fn=<DivBackward0>)\n",
      "tensor(0.1149, dtype=torch.float64, grad_fn=<DivBackward0>)\n",
      "tensor(0.1150, dtype=torch.float64, grad_fn=<DivBackward0>)\n",
      "tensor(0.1147, dtype=torch.float64, grad_fn=<DivBackward0>)\n",
      "tensor(0.1149, dtype=torch.float64, grad_fn=<DivBackward0>)\n",
      "tensor(0.1148, dtype=torch.float64, grad_fn=<DivBackward0>)\n",
      "tensor(0.1148, dtype=torch.float64, grad_fn=<DivBackward0>)\n",
      "tensor(0.1148, dtype=torch.float64, grad_fn=<DivBackward0>)\n",
      "tensor(0.1147, dtype=torch.float64, grad_fn=<DivBackward0>)\n",
      "tensor(0.1149, dtype=torch.float64, grad_fn=<DivBackward0>)\n",
      "tensor(0.1149, dtype=torch.float64, grad_fn=<DivBackward0>)\n",
      "tensor(0.1148, dtype=torch.float64, grad_fn=<DivBackward0>)\n",
      "tensor(0.1148, dtype=torch.float64, grad_fn=<DivBackward0>)\n",
      "tensor(0.1149, dtype=torch.float64, grad_fn=<DivBackward0>)\n",
      "tensor(0.1149, dtype=torch.float64, grad_fn=<DivBackward0>)\n",
      "tensor(0.1148, dtype=torch.float64, grad_fn=<DivBackward0>)\n",
      "tensor(0.1149, dtype=torch.float64, grad_fn=<DivBackward0>)\n",
      "tensor(0.1150, dtype=torch.float64, grad_fn=<DivBackward0>)\n",
      "tensor(0.1148, dtype=torch.float64, grad_fn=<DivBackward0>)\n",
      "tensor(0.1148, dtype=torch.float64, grad_fn=<DivBackward0>)\n",
      "tensor(0.1148, dtype=torch.float64, grad_fn=<DivBackward0>)\n",
      "tensor(0.1147, dtype=torch.float64, grad_fn=<DivBackward0>)\n",
      "tensor(0.1149, dtype=torch.float64, grad_fn=<DivBackward0>)\n",
      "tensor(0.1149, dtype=torch.float64, grad_fn=<DivBackward0>)\n",
      "tensor(0.1147, dtype=torch.float64, grad_fn=<DivBackward0>)\n",
      "tensor(0.1150, dtype=torch.float64, grad_fn=<DivBackward0>)\n",
      "tensor(0.1147, dtype=torch.float64, grad_fn=<DivBackward0>)\n",
      "tensor(0.1149, dtype=torch.float64, grad_fn=<DivBackward0>)\n",
      "tensor(0.1148, dtype=torch.float64, grad_fn=<DivBackward0>)\n",
      "tensor(0.1148, dtype=torch.float64, grad_fn=<DivBackward0>)\n",
      "tensor(0.1148, dtype=torch.float64, grad_fn=<DivBackward0>)\n",
      "tensor(0.1148, dtype=torch.float64, grad_fn=<DivBackward0>)\n",
      "tensor(0.1148, dtype=torch.float64, grad_fn=<DivBackward0>)\n",
      "tensor(0.1148, dtype=torch.float64, grad_fn=<DivBackward0>)\n",
      "tensor(0.1148, dtype=torch.float64, grad_fn=<DivBackward0>)\n",
      "tensor(0.1148, dtype=torch.float64, grad_fn=<DivBackward0>)\n",
      "tensor(0.1147, dtype=torch.float64, grad_fn=<DivBackward0>)\n",
      "tensor(0.1149, dtype=torch.float64, grad_fn=<DivBackward0>)\n",
      "tensor(0.1148, dtype=torch.float64, grad_fn=<DivBackward0>)\n",
      "tensor(0.1149, dtype=torch.float64, grad_fn=<DivBackward0>)\n",
      "tensor(0.1148, dtype=torch.float64, grad_fn=<DivBackward0>)\n",
      "tensor(0.1148, dtype=torch.float64, grad_fn=<DivBackward0>)\n",
      "tensor(0.1148, dtype=torch.float64, grad_fn=<DivBackward0>)\n",
      "tensor(0.1148, dtype=torch.float64, grad_fn=<DivBackward0>)\n",
      "tensor(0.1148, dtype=torch.float64, grad_fn=<DivBackward0>)\n",
      "tensor(0.1148, dtype=torch.float64, grad_fn=<DivBackward0>)\n",
      "tensor(0.1148, dtype=torch.float64, grad_fn=<DivBackward0>)\n",
      "tensor(0.1147, dtype=torch.float64, grad_fn=<DivBackward0>)\n"
     ]
    }
   ],
   "source": [
    "for i in range(n_epochs):\n",
    "    loss_sum = 0\n",
    "    for _, (inputs, target) in enumerate(dataloader):\n",
    "        data = inputs[0]\n",
    "        cond = inputs[1]\n",
    "        \n",
    "        optimizer.zero_grad()\n",
    "        \n",
    "        mn, sd, sample_z, output = generator(data, cond)\n",
    "        \n",
    "        loss = criterion(mn = mn, sd = sd, outputs = output, targets = target, alpha = 0.003)\n",
    "        loss.backward()\n",
    "        \n",
    "        optimizer.step()\n",
    "        \n",
    "        loss_sum += loss\n",
    "    \n",
    "    if i % 10 == 0:\n",
    "        print(loss_sum / len(dataloader))"
   ]
  },
  {
   "cell_type": "markdown",
   "id": "607da625-aa06-4da2-a8ae-63f95675dea2",
   "metadata": {},
   "source": [
    "# Generate the process"
   ]
  },
  {
   "cell_type": "code",
   "execution_count": 81,
   "id": "de1b1c87-39b6-4843-9c4b-b054fc932e0d",
   "metadata": {},
   "outputs": [],
   "source": [
    "# Pip size\n",
    "price_pip = 0.01\n",
    "spot_vol_pip = 0.00001\n",
    "\n",
    "# Number of pips for search space\n",
    "price_n_pips = 100\n",
    "spot_vol_n_pips = 1000 \n",
    "# Number of points\n",
    "n_points = 100\n",
    "\n",
    "n_iterations = 50\n",
    "n_organisms = 100"
   ]
  },
  {
   "cell_type": "code",
   "execution_count": 83,
   "id": "f9b224cc-ccfe-44fa-9941-c4ba4d388c42",
   "metadata": {},
   "outputs": [
    {
     "name": "stdout",
     "output_type": "stream",
     "text": [
      "tensor([[0.4353, 0.4353, 0.5280, 0.5280, 0.5997, 0.4143, 0.4050, 0.4231, 0.4143,\n",
      "         0.4990]], grad_fn=<SigmoidBackward>)\n"
     ]
    },
    {
     "data": {
      "application/vnd.jupyter.widget-view+json": {
       "model_id": "86712cd1aa1e42babfa9e82cf3ae780f",
       "version_major": 2,
       "version_minor": 0
      },
      "text/plain": [
       "HBox(children=(FloatProgress(value=0.0, max=50.0), HTML(value='')))"
      ]
     },
     "metadata": {},
     "output_type": "display_data"
    },
    {
     "name": "stdout",
     "output_type": "stream",
     "text": [
      "\n",
      "tensor([[0.5130, 0.5130, 0.5278, 0.5278, 0.6572, 0.3587, 0.3441, 0.3725, 0.3587,\n",
      "         0.4958]], grad_fn=<SigmoidBackward>)\n"
     ]
    },
    {
     "data": {
      "application/vnd.jupyter.widget-view+json": {
       "model_id": "d00d69dce45a48598a044a338dab01ca",
       "version_major": 2,
       "version_minor": 0
      },
      "text/plain": [
       "HBox(children=(FloatProgress(value=0.0, max=50.0), HTML(value='')))"
      ]
     },
     "metadata": {},
     "output_type": "display_data"
    },
    {
     "name": "stdout",
     "output_type": "stream",
     "text": [
      "\n",
      "tensor([[0.6060, 0.6060, 0.5110, 0.5110, 0.5066, 0.3813, 0.3709, 0.3910, 0.3813,\n",
      "         0.4928]], grad_fn=<SigmoidBackward>)\n"
     ]
    },
    {
     "data": {
      "application/vnd.jupyter.widget-view+json": {
       "model_id": "7c1ba673b67a446c9b43baa6d201ac22",
       "version_major": 2,
       "version_minor": 0
      },
      "text/plain": [
       "HBox(children=(FloatProgress(value=0.0, max=50.0), HTML(value='')))"
      ]
     },
     "metadata": {},
     "output_type": "display_data"
    },
    {
     "name": "stdout",
     "output_type": "stream",
     "text": [
      "\n",
      "tensor([[0.7068, 0.7068, 0.5072, 0.5072, 0.4152, 0.3349, 0.3225, 0.3465, 0.3349,\n",
      "         0.4872]], grad_fn=<SigmoidBackward>)\n"
     ]
    },
    {
     "data": {
      "application/vnd.jupyter.widget-view+json": {
       "model_id": "da8b664f285748659319227b96e99823",
       "version_major": 2,
       "version_minor": 0
      },
      "text/plain": [
       "HBox(children=(FloatProgress(value=0.0, max=50.0), HTML(value='')))"
      ]
     },
     "metadata": {},
     "output_type": "display_data"
    },
    {
     "name": "stdout",
     "output_type": "stream",
     "text": [
      "\n",
      "tensor([[0.3558, 0.3558, 0.5531, 0.5531, 0.5643, 0.3685, 0.3560, 0.3802, 0.3685,\n",
      "         0.4981]], grad_fn=<SigmoidBackward>)\n"
     ]
    },
    {
     "data": {
      "application/vnd.jupyter.widget-view+json": {
       "model_id": "95017603a12b4379a0914ce3005e14f8",
       "version_major": 2,
       "version_minor": 0
      },
      "text/plain": [
       "HBox(children=(FloatProgress(value=0.0, max=50.0), HTML(value='')))"
      ]
     },
     "metadata": {},
     "output_type": "display_data"
    },
    {
     "name": "stdout",
     "output_type": "stream",
     "text": [
      "\n",
      "tensor([[0.3756, 0.3756, 0.5437, 0.5437, 0.5662, 0.3930, 0.3824, 0.4029, 0.3930,\n",
      "         0.4988]], grad_fn=<SigmoidBackward>)\n"
     ]
    },
    {
     "data": {
      "application/vnd.jupyter.widget-view+json": {
       "model_id": "4eefc48ad8e14bdfaa03a2a1a6b3bfeb",
       "version_major": 2,
       "version_minor": 0
      },
      "text/plain": [
       "HBox(children=(FloatProgress(value=0.0, max=50.0), HTML(value='')))"
      ]
     },
     "metadata": {},
     "output_type": "display_data"
    },
    {
     "name": "stdout",
     "output_type": "stream",
     "text": [
      "\n",
      "tensor([[0.4107, 0.4107, 0.5366, 0.5366, 0.4379, 0.4112, 0.4043, 0.4176, 0.4112,\n",
      "         0.4971]], grad_fn=<SigmoidBackward>)\n"
     ]
    },
    {
     "data": {
      "application/vnd.jupyter.widget-view+json": {
       "model_id": "5d672d9593004e82843b5755aa4257fb",
       "version_major": 2,
       "version_minor": 0
      },
      "text/plain": [
       "HBox(children=(FloatProgress(value=0.0, max=50.0), HTML(value='')))"
      ]
     },
     "metadata": {},
     "output_type": "display_data"
    },
    {
     "name": "stdout",
     "output_type": "stream",
     "text": [
      "\n",
      "tensor([[0.5015, 0.5015, 0.5289, 0.5289, 0.5880, 0.3687, 0.3559, 0.3807, 0.3687,\n",
      "         0.4955]], grad_fn=<SigmoidBackward>)\n"
     ]
    },
    {
     "data": {
      "application/vnd.jupyter.widget-view+json": {
       "model_id": "b42f3efd9a004736a37df64b5211e465",
       "version_major": 2,
       "version_minor": 0
      },
      "text/plain": [
       "HBox(children=(FloatProgress(value=0.0, max=50.0), HTML(value='')))"
      ]
     },
     "metadata": {},
     "output_type": "display_data"
    },
    {
     "name": "stdout",
     "output_type": "stream",
     "text": [
      "\n",
      "tensor([[0.5712, 0.5712, 0.5166, 0.5166, 0.5895, 0.3736, 0.3612, 0.3852, 0.3736,\n",
      "         0.4944]], grad_fn=<SigmoidBackward>)\n"
     ]
    },
    {
     "data": {
      "application/vnd.jupyter.widget-view+json": {
       "model_id": "548b51898cd94075937b5fc390d4926c",
       "version_major": 2,
       "version_minor": 0
      },
      "text/plain": [
       "HBox(children=(FloatProgress(value=0.0, max=50.0), HTML(value='')))"
      ]
     },
     "metadata": {},
     "output_type": "display_data"
    },
    {
     "name": "stdout",
     "output_type": "stream",
     "text": [
      "\n",
      "tensor([[0.4208, 0.4208, 0.5415, 0.5415, 0.5374, 0.3744, 0.3629, 0.3853, 0.3744,\n",
      "         0.4966]], grad_fn=<SigmoidBackward>)\n"
     ]
    },
    {
     "data": {
      "application/vnd.jupyter.widget-view+json": {
       "model_id": "82e7ccfede0c4a5eb2f10fdd488928b7",
       "version_major": 2,
       "version_minor": 0
      },
      "text/plain": [
       "HBox(children=(FloatProgress(value=0.0, max=50.0), HTML(value='')))"
      ]
     },
     "metadata": {},
     "output_type": "display_data"
    },
    {
     "name": "stdout",
     "output_type": "stream",
     "text": [
      "\n"
     ]
    }
   ],
   "source": [
    "generated_path = []\n",
    "generated_logsigs = []\n",
    "for cond in data_cond[:10]:\n",
    "    generated_logsig = generate(cond, cond_dim, n_latent).to('cpu').detach().numpy().copy()\n",
    "    recovered_path, loss = logsig_inversion_v2.train(generated_logsig, sig_order, n_iterations, n_organisms, n_points, price_pip, spot_vol_pip, price_n_pips, spot_vol_n_pips)\n",
    "    \n",
    "    generated_path.append(recovered_path)\n",
    "    generated_logsigs.append(generated_logsig)"
   ]
  },
  {
   "cell_type": "code",
   "execution_count": 84,
   "id": "05c25ce4-e107-47e5-a8c2-cca6e4f289d9",
   "metadata": {},
   "outputs": [],
   "source": [
    "generated_logsigs = np.array(generated_logsigs).reshape(-1, input_dim_target)"
   ]
  },
  {
   "cell_type": "code",
   "execution_count": 86,
   "id": "301b31e2-fb22-4122-9223-d9606233cc90",
   "metadata": {},
   "outputs": [
    {
     "data": {
      "application/vnd.jupyter.widget-view+json": {
       "model_id": "b53629229bde4af488dffb366af9c132",
       "version_major": 2,
       "version_minor": 0
      },
      "text/plain": [
       "HBox(children=(FloatProgress(value=0.0, description='Computing signatures of population 1', max=10.0, style=Pr…"
      ]
     },
     "metadata": {},
     "output_type": "display_data"
    },
    {
     "ename": "ValueError",
     "evalue": "operands could not be broadcast together with shapes (7,) (21,) ",
     "output_type": "error",
     "traceback": [
      "\u001b[0;31m---------------------------------------------------------------------------\u001b[0m",
      "\u001b[0;31mValueError\u001b[0m                                Traceback (most recent call last)",
      "Input \u001b[0;32mIn [86]\u001b[0m, in \u001b[0;36m<module>\u001b[0;34m\u001b[0m\n\u001b[1;32m      1\u001b[0m sigs1 \u001b[38;5;241m=\u001b[39m np\u001b[38;5;241m.\u001b[39marray([tosig\u001b[38;5;241m.\u001b[39mlogsig2sig(logsig, \u001b[38;5;241m4\u001b[39m, sig_order) \u001b[38;5;28;01mfor\u001b[39;00m logsig \u001b[38;5;129;01min\u001b[39;00m generated_logsigs])\n\u001b[1;32m      2\u001b[0m sigs2 \u001b[38;5;241m=\u001b[39m np\u001b[38;5;241m.\u001b[39marray([tosig\u001b[38;5;241m.\u001b[39mlogsig2sig(logsig, \u001b[38;5;241m4\u001b[39m, sig_order) \u001b[38;5;28;01mfor\u001b[39;00m logsig \u001b[38;5;129;01min\u001b[39;00m target_data[:\u001b[38;5;241m10\u001b[39m]])\n\u001b[0;32m----> 4\u001b[0m res \u001b[38;5;241m=\u001b[39m \u001b[43mprocess_discriminator\u001b[49m\u001b[38;5;241;43m.\u001b[39;49m\u001b[43mtest\u001b[49m\u001b[43m(\u001b[49m\u001b[43msigs1\u001b[49m\u001b[43m,\u001b[49m\u001b[43m \u001b[49m\u001b[43msigs2\u001b[49m\u001b[43m,\u001b[49m\u001b[43m \u001b[49m\u001b[43morder\u001b[49m\u001b[38;5;241;43m=\u001b[39;49m\u001b[43msig_order\u001b[49m\u001b[43m,\u001b[49m\u001b[43m \u001b[49m\u001b[43mcompute_sigs\u001b[49m\u001b[38;5;241;43m=\u001b[39;49m\u001b[38;5;28;43;01mFalse\u001b[39;49;00m\u001b[43m,\u001b[49m\u001b[43m \u001b[49m\u001b[43mconfidence_level\u001b[49m\u001b[38;5;241;43m=\u001b[39;49m\u001b[38;5;241;43m0.99\u001b[39;49m\u001b[43m)\u001b[49m\n\u001b[1;32m      6\u001b[0m \u001b[38;5;28mprint\u001b[39m(\u001b[38;5;124m\"\u001b[39m\u001b[38;5;124mAre the generated and real distributions DIFFERENT? \u001b[39m\u001b[38;5;132;01m{}\u001b[39;00m\u001b[38;5;124m\"\u001b[39m\u001b[38;5;241m.\u001b[39mformat(res))\n",
      "File \u001b[0;32m~/Rits_Conference/JAFEE_2022_winter/program/src/process_discriminator.py:122\u001b[0m, in \u001b[0;36mtest\u001b[0;34m(set1, set2, order, confidence_level, **kwargs)\u001b[0m\n\u001b[1;32m    118\u001b[0m \u001b[38;5;28;01massert\u001b[39;00m confidence_level \u001b[38;5;241m>\u001b[39m\u001b[38;5;241m=\u001b[39m \u001b[38;5;241m0.\u001b[39m \u001b[38;5;129;01mand\u001b[39;00m confidence_level \u001b[38;5;241m<\u001b[39m\u001b[38;5;241m=\u001b[39m \u001b[38;5;241m1.\u001b[39m, \u001b[38;5;124m\"\u001b[39m\u001b[38;5;124mConfidence level must be in [0, 1].\u001b[39m\u001b[38;5;124m\"\u001b[39m\n\u001b[1;32m    120\u001b[0m m \u001b[38;5;241m=\u001b[39m \u001b[38;5;28mlen\u001b[39m(set1)\n\u001b[0;32m--> 122\u001b[0m TU \u001b[38;5;241m=\u001b[39m \u001b[43mT\u001b[49m\u001b[43m(\u001b[49m\u001b[43mset1\u001b[49m\u001b[43m,\u001b[49m\u001b[43m \u001b[49m\u001b[43mset2\u001b[49m\u001b[43m,\u001b[49m\u001b[43m \u001b[49m\u001b[43morder\u001b[49m\u001b[43m,\u001b[49m\u001b[43m \u001b[49m\u001b[38;5;241;43m*\u001b[39;49m\u001b[38;5;241;43m*\u001b[39;49m\u001b[43mkwargs\u001b[49m\u001b[43m)\u001b[49m\n\u001b[1;32m    123\u001b[0m c \u001b[38;5;241m=\u001b[39m c_alpha(m, confidence_level)\n\u001b[1;32m    125\u001b[0m \u001b[38;5;28;01mreturn\u001b[39;00m TU \u001b[38;5;241m>\u001b[39m c\n",
      "File \u001b[0;32m~/Rits_Conference/JAFEE_2022_winter/program/src/process_discriminator.py:65\u001b[0m, in \u001b[0;36mT\u001b[0;34m(set1, set2, order, verbose, normalise, compute_sigs)\u001b[0m\n\u001b[1;32m     62\u001b[0m m \u001b[38;5;241m=\u001b[39m \u001b[38;5;28mlen\u001b[39m(set1)\n\u001b[1;32m     63\u001b[0m n \u001b[38;5;241m=\u001b[39m \u001b[38;5;28mlen\u001b[39m(set2)\n\u001b[0;32m---> 65\u001b[0m X \u001b[38;5;241m=\u001b[39m \u001b[43mParallel\u001b[49m\u001b[43m(\u001b[49m\u001b[43mn_jobs\u001b[49m\u001b[38;5;241;43m=\u001b[39;49m\u001b[38;5;241;43m1\u001b[39;49m\u001b[43m)\u001b[49m\u001b[43m(\u001b[49m\u001b[43mdelayed\u001b[49m\u001b[43m(\u001b[49m\u001b[43mPhi\u001b[49m\u001b[43m)\u001b[49m\u001b[43m(\u001b[49m\u001b[43mpath\u001b[49m\u001b[43m,\u001b[49m\u001b[43m \u001b[49m\u001b[43morder\u001b[49m\u001b[43m,\u001b[49m\u001b[43m \u001b[49m\u001b[43mnormalise\u001b[49m\u001b[43m,\u001b[49m\u001b[43m \u001b[49m\u001b[43mcompute_sigs\u001b[49m\u001b[43m)\u001b[49m\u001b[43m \u001b[49m\u001b[38;5;28;43;01mfor\u001b[39;49;00m\u001b[43m \u001b[49m\u001b[43mpath\u001b[49m\u001b[43m \u001b[49m\u001b[38;5;129;43;01min\u001b[39;49;00m\u001b[43m \u001b[49m\u001b[43mtqdm\u001b[49m\u001b[43m(\u001b[49m\u001b[43mset1\u001b[49m\u001b[43m,\u001b[49m\u001b[43m \u001b[49m\u001b[43mdesc\u001b[49m\u001b[38;5;241;43m=\u001b[39;49m\u001b[38;5;124;43m\"\u001b[39;49m\u001b[38;5;124;43mComputing signatures of population 1\u001b[39;49m\u001b[38;5;124;43m\"\u001b[39;49m\u001b[43m,\u001b[49m\u001b[43m \u001b[49m\u001b[43mdisable\u001b[49m\u001b[38;5;241;43m=\u001b[39;49m\u001b[43m(\u001b[49m\u001b[38;5;129;43;01mnot\u001b[39;49;00m\u001b[43m \u001b[49m\u001b[43mverbose\u001b[49m\u001b[43m)\u001b[49m\u001b[43m)\u001b[49m\u001b[43m)\u001b[49m\n\u001b[1;32m     66\u001b[0m Y \u001b[38;5;241m=\u001b[39m Parallel(n_jobs\u001b[38;5;241m=\u001b[39m\u001b[38;5;241m1\u001b[39m)(delayed(Phi)(path, order, normalise, compute_sigs) \u001b[38;5;28;01mfor\u001b[39;00m path \u001b[38;5;129;01min\u001b[39;00m tqdm(set2, desc\u001b[38;5;241m=\u001b[39m\u001b[38;5;124m\"\u001b[39m\u001b[38;5;124mComputing signatures of population 2\u001b[39m\u001b[38;5;124m\"\u001b[39m, disable\u001b[38;5;241m=\u001b[39m(\u001b[38;5;129;01mnot\u001b[39;00m verbose)))\n\u001b[1;32m     68\u001b[0m XX \u001b[38;5;241m=\u001b[39m np\u001b[38;5;241m.\u001b[39mdot(X, np\u001b[38;5;241m.\u001b[39mtranspose(X))\n",
      "File \u001b[0;32m~/.pyenv/versions/3.9.6/lib/python3.9/site-packages/joblib/parallel.py:1043\u001b[0m, in \u001b[0;36mParallel.__call__\u001b[0;34m(self, iterable)\u001b[0m\n\u001b[1;32m   1034\u001b[0m \u001b[38;5;28;01mtry\u001b[39;00m:\n\u001b[1;32m   1035\u001b[0m     \u001b[38;5;66;03m# Only set self._iterating to True if at least a batch\u001b[39;00m\n\u001b[1;32m   1036\u001b[0m     \u001b[38;5;66;03m# was dispatched. In particular this covers the edge\u001b[39;00m\n\u001b[0;32m   (...)\u001b[0m\n\u001b[1;32m   1040\u001b[0m     \u001b[38;5;66;03m# was very quick and its callback already dispatched all the\u001b[39;00m\n\u001b[1;32m   1041\u001b[0m     \u001b[38;5;66;03m# remaining jobs.\u001b[39;00m\n\u001b[1;32m   1042\u001b[0m     \u001b[38;5;28mself\u001b[39m\u001b[38;5;241m.\u001b[39m_iterating \u001b[38;5;241m=\u001b[39m \u001b[38;5;28;01mFalse\u001b[39;00m\n\u001b[0;32m-> 1043\u001b[0m     \u001b[38;5;28;01mif\u001b[39;00m \u001b[38;5;28;43mself\u001b[39;49m\u001b[38;5;241;43m.\u001b[39;49m\u001b[43mdispatch_one_batch\u001b[49m\u001b[43m(\u001b[49m\u001b[43miterator\u001b[49m\u001b[43m)\u001b[49m:\n\u001b[1;32m   1044\u001b[0m         \u001b[38;5;28mself\u001b[39m\u001b[38;5;241m.\u001b[39m_iterating \u001b[38;5;241m=\u001b[39m \u001b[38;5;28mself\u001b[39m\u001b[38;5;241m.\u001b[39m_original_iterator \u001b[38;5;129;01mis\u001b[39;00m \u001b[38;5;129;01mnot\u001b[39;00m \u001b[38;5;28;01mNone\u001b[39;00m\n\u001b[1;32m   1046\u001b[0m     \u001b[38;5;28;01mwhile\u001b[39;00m \u001b[38;5;28mself\u001b[39m\u001b[38;5;241m.\u001b[39mdispatch_one_batch(iterator):\n",
      "File \u001b[0;32m~/.pyenv/versions/3.9.6/lib/python3.9/site-packages/joblib/parallel.py:861\u001b[0m, in \u001b[0;36mParallel.dispatch_one_batch\u001b[0;34m(self, iterator)\u001b[0m\n\u001b[1;32m    859\u001b[0m     \u001b[38;5;28;01mreturn\u001b[39;00m \u001b[38;5;28;01mFalse\u001b[39;00m\n\u001b[1;32m    860\u001b[0m \u001b[38;5;28;01melse\u001b[39;00m:\n\u001b[0;32m--> 861\u001b[0m     \u001b[38;5;28;43mself\u001b[39;49m\u001b[38;5;241;43m.\u001b[39;49m\u001b[43m_dispatch\u001b[49m\u001b[43m(\u001b[49m\u001b[43mtasks\u001b[49m\u001b[43m)\u001b[49m\n\u001b[1;32m    862\u001b[0m     \u001b[38;5;28;01mreturn\u001b[39;00m \u001b[38;5;28;01mTrue\u001b[39;00m\n",
      "File \u001b[0;32m~/.pyenv/versions/3.9.6/lib/python3.9/site-packages/joblib/parallel.py:779\u001b[0m, in \u001b[0;36mParallel._dispatch\u001b[0;34m(self, batch)\u001b[0m\n\u001b[1;32m    777\u001b[0m \u001b[38;5;28;01mwith\u001b[39;00m \u001b[38;5;28mself\u001b[39m\u001b[38;5;241m.\u001b[39m_lock:\n\u001b[1;32m    778\u001b[0m     job_idx \u001b[38;5;241m=\u001b[39m \u001b[38;5;28mlen\u001b[39m(\u001b[38;5;28mself\u001b[39m\u001b[38;5;241m.\u001b[39m_jobs)\n\u001b[0;32m--> 779\u001b[0m     job \u001b[38;5;241m=\u001b[39m \u001b[38;5;28;43mself\u001b[39;49m\u001b[38;5;241;43m.\u001b[39;49m\u001b[43m_backend\u001b[49m\u001b[38;5;241;43m.\u001b[39;49m\u001b[43mapply_async\u001b[49m\u001b[43m(\u001b[49m\u001b[43mbatch\u001b[49m\u001b[43m,\u001b[49m\u001b[43m \u001b[49m\u001b[43mcallback\u001b[49m\u001b[38;5;241;43m=\u001b[39;49m\u001b[43mcb\u001b[49m\u001b[43m)\u001b[49m\n\u001b[1;32m    780\u001b[0m     \u001b[38;5;66;03m# A job can complete so quickly than its callback is\u001b[39;00m\n\u001b[1;32m    781\u001b[0m     \u001b[38;5;66;03m# called before we get here, causing self._jobs to\u001b[39;00m\n\u001b[1;32m    782\u001b[0m     \u001b[38;5;66;03m# grow. To ensure correct results ordering, .insert is\u001b[39;00m\n\u001b[1;32m    783\u001b[0m     \u001b[38;5;66;03m# used (rather than .append) in the following line\u001b[39;00m\n\u001b[1;32m    784\u001b[0m     \u001b[38;5;28mself\u001b[39m\u001b[38;5;241m.\u001b[39m_jobs\u001b[38;5;241m.\u001b[39minsert(job_idx, job)\n",
      "File \u001b[0;32m~/.pyenv/versions/3.9.6/lib/python3.9/site-packages/joblib/_parallel_backends.py:208\u001b[0m, in \u001b[0;36mSequentialBackend.apply_async\u001b[0;34m(self, func, callback)\u001b[0m\n\u001b[1;32m    206\u001b[0m \u001b[38;5;28;01mdef\u001b[39;00m \u001b[38;5;21mapply_async\u001b[39m(\u001b[38;5;28mself\u001b[39m, func, callback\u001b[38;5;241m=\u001b[39m\u001b[38;5;28;01mNone\u001b[39;00m):\n\u001b[1;32m    207\u001b[0m     \u001b[38;5;124;03m\"\"\"Schedule a func to be run\"\"\"\u001b[39;00m\n\u001b[0;32m--> 208\u001b[0m     result \u001b[38;5;241m=\u001b[39m \u001b[43mImmediateResult\u001b[49m\u001b[43m(\u001b[49m\u001b[43mfunc\u001b[49m\u001b[43m)\u001b[49m\n\u001b[1;32m    209\u001b[0m     \u001b[38;5;28;01mif\u001b[39;00m callback:\n\u001b[1;32m    210\u001b[0m         callback(result)\n",
      "File \u001b[0;32m~/.pyenv/versions/3.9.6/lib/python3.9/site-packages/joblib/_parallel_backends.py:572\u001b[0m, in \u001b[0;36mImmediateResult.__init__\u001b[0;34m(self, batch)\u001b[0m\n\u001b[1;32m    569\u001b[0m \u001b[38;5;28;01mdef\u001b[39;00m \u001b[38;5;21m__init__\u001b[39m(\u001b[38;5;28mself\u001b[39m, batch):\n\u001b[1;32m    570\u001b[0m     \u001b[38;5;66;03m# Don't delay the application, to avoid keeping the input\u001b[39;00m\n\u001b[1;32m    571\u001b[0m     \u001b[38;5;66;03m# arguments in memory\u001b[39;00m\n\u001b[0;32m--> 572\u001b[0m     \u001b[38;5;28mself\u001b[39m\u001b[38;5;241m.\u001b[39mresults \u001b[38;5;241m=\u001b[39m \u001b[43mbatch\u001b[49m\u001b[43m(\u001b[49m\u001b[43m)\u001b[49m\n",
      "File \u001b[0;32m~/.pyenv/versions/3.9.6/lib/python3.9/site-packages/joblib/parallel.py:262\u001b[0m, in \u001b[0;36mBatchedCalls.__call__\u001b[0;34m(self)\u001b[0m\n\u001b[1;32m    258\u001b[0m \u001b[38;5;28;01mdef\u001b[39;00m \u001b[38;5;21m__call__\u001b[39m(\u001b[38;5;28mself\u001b[39m):\n\u001b[1;32m    259\u001b[0m     \u001b[38;5;66;03m# Set the default nested backend to self._backend but do not set the\u001b[39;00m\n\u001b[1;32m    260\u001b[0m     \u001b[38;5;66;03m# change the default number of processes to -1\u001b[39;00m\n\u001b[1;32m    261\u001b[0m     \u001b[38;5;28;01mwith\u001b[39;00m parallel_backend(\u001b[38;5;28mself\u001b[39m\u001b[38;5;241m.\u001b[39m_backend, n_jobs\u001b[38;5;241m=\u001b[39m\u001b[38;5;28mself\u001b[39m\u001b[38;5;241m.\u001b[39m_n_jobs):\n\u001b[0;32m--> 262\u001b[0m         \u001b[38;5;28;01mreturn\u001b[39;00m [func(\u001b[38;5;241m*\u001b[39margs, \u001b[38;5;241m*\u001b[39m\u001b[38;5;241m*\u001b[39mkwargs)\n\u001b[1;32m    263\u001b[0m                 \u001b[38;5;28;01mfor\u001b[39;00m func, args, kwargs \u001b[38;5;129;01min\u001b[39;00m \u001b[38;5;28mself\u001b[39m\u001b[38;5;241m.\u001b[39mitems]\n",
      "File \u001b[0;32m~/.pyenv/versions/3.9.6/lib/python3.9/site-packages/joblib/parallel.py:262\u001b[0m, in \u001b[0;36m<listcomp>\u001b[0;34m(.0)\u001b[0m\n\u001b[1;32m    258\u001b[0m \u001b[38;5;28;01mdef\u001b[39;00m \u001b[38;5;21m__call__\u001b[39m(\u001b[38;5;28mself\u001b[39m):\n\u001b[1;32m    259\u001b[0m     \u001b[38;5;66;03m# Set the default nested backend to self._backend but do not set the\u001b[39;00m\n\u001b[1;32m    260\u001b[0m     \u001b[38;5;66;03m# change the default number of processes to -1\u001b[39;00m\n\u001b[1;32m    261\u001b[0m     \u001b[38;5;28;01mwith\u001b[39;00m parallel_backend(\u001b[38;5;28mself\u001b[39m\u001b[38;5;241m.\u001b[39m_backend, n_jobs\u001b[38;5;241m=\u001b[39m\u001b[38;5;28mself\u001b[39m\u001b[38;5;241m.\u001b[39m_n_jobs):\n\u001b[0;32m--> 262\u001b[0m         \u001b[38;5;28;01mreturn\u001b[39;00m [\u001b[43mfunc\u001b[49m\u001b[43m(\u001b[49m\u001b[38;5;241;43m*\u001b[39;49m\u001b[43margs\u001b[49m\u001b[43m,\u001b[49m\u001b[43m \u001b[49m\u001b[38;5;241;43m*\u001b[39;49m\u001b[38;5;241;43m*\u001b[39;49m\u001b[43mkwargs\u001b[49m\u001b[43m)\u001b[49m\n\u001b[1;32m    263\u001b[0m                 \u001b[38;5;28;01mfor\u001b[39;00m func, args, kwargs \u001b[38;5;129;01min\u001b[39;00m \u001b[38;5;28mself\u001b[39m\u001b[38;5;241m.\u001b[39mitems]\n",
      "File \u001b[0;32m~/Rits_Conference/JAFEE_2022_winter/program/src/process_discriminator.py:59\u001b[0m, in \u001b[0;36mPhi\u001b[0;34m(X, order, normalise, compute_sigs)\u001b[0m\n\u001b[1;32m     55\u001b[0m phi_x \u001b[38;5;241m=\u001b[39m phi(\u001b[38;5;28mtuple\u001b[39m(sig), order)\n\u001b[1;32m     57\u001b[0m Lambda \u001b[38;5;241m=\u001b[39m np\u001b[38;5;241m.\u001b[39marray([phi_x \u001b[38;5;241m*\u001b[39m\u001b[38;5;241m*\u001b[39m \u001b[38;5;28mlen\u001b[39m(t) \u001b[38;5;28;01mfor\u001b[39;00m t \u001b[38;5;129;01min\u001b[39;00m keys])\n\u001b[0;32m---> 59\u001b[0m \u001b[38;5;28;01mreturn\u001b[39;00m \u001b[43mLambda\u001b[49m\u001b[43m \u001b[49m\u001b[38;5;241;43m*\u001b[39;49m\u001b[43m \u001b[49m\u001b[43msig\u001b[49m\n",
      "\u001b[0;31mValueError\u001b[0m: operands could not be broadcast together with shapes (7,) (21,) "
     ]
    }
   ],
   "source": [
    "sigs1 = np.array([tosig.logsig2sig(logsig, 4, sig_order) for logsig in generated_logsigs])\n",
    "sigs2 = np.array([tosig.logsig2sig(logsig, 4, sig_order) for logsig in target_data[:10]])\n",
    "\n",
    "res = process_discriminator.test(sigs1, sigs2, order=sig_order, compute_sigs=False, confidence_level=0.99)\n",
    "\n",
    "print(\"Are the generated and real distributions DIFFERENT? {}\".format(res))"
   ]
  },
  {
   "cell_type": "code",
   "execution_count": 67,
   "id": "65aa9db3-69af-4340-bc23-ddbfe302c672",
   "metadata": {},
   "outputs": [
    {
     "data": {
      "image/png": "[encoded data removed]",
      "text/plain": [
       "<Figure size 432x288 with 1 Axes>"
      ]
     },
     "metadata": {
      "needs_background": "light"
     },
     "output_type": "display_data"
    }
   ],
   "source": [
    "fig, ax = plt.subplots()\n",
    "for path1, path2 in zip(DATAs[:10], generated_path):\n",
    "    vol_path = path1[:, 2] -  path1[0, 2]\n",
    "    ax.plot(vol_path, 'darkgray', alpha=0.25)\n",
    "\n",
    "    ax.plot(path2, 'blue', alpha=0.2)\n",
    "\n",
    "gray_patch = mpatches.Patch(color = 'darkgray', label = 'volatility paths')\n",
    "blue_patch = mpatches.Patch(color = 'blue', label = 'Generated paths')\n",
    "\n",
    "\n",
    "\n",
    "\n",
    "plt.legend(handles=[blue_patch, gray_patch], fontsize=10)    \n",
    "plt.xlabel(\"Timestamp\", fontsize=14)\n",
    "\n",
    "#外枠の削除\n",
    "plt.gca().spines['right'].set_visible(False)\n",
    "plt.gca().spines['top'].set_visible(False)\n",
    "plt.gca().spines['left'].set_visible(False)\n",
    "plt.gca().spines['bottom'].set_visible(True)\n",
    "\n",
    "fig.savefig(\"Figures/generatedVolFromSpot.png\", dpi=300, bbox_inches=\"tight\")\n",
    "plt.show();"
   ]
  },
  {
   "cell_type": "code",
   "execution_count": null,
   "id": "929116e1-eff5-4745-84fa-3470b4879f83",
   "metadata": {},
   "outputs": [],
   "source": []
  }
 ],
 "metadata": {
  "kernelspec": {
   "display_name": "Python 3 (ipykernel)",
   "language": "python",
   "name": "python3"
  },
  "language_info": {
   "codemirror_mode": {
    "name": "ipython",
    "version": 3
   },
   "file_extension": ".py",
   "mimetype": "text/x-python",
   "name": "python",
   "nbconvert_exporter": "python",
   "pygments_lexer": "ipython3",
   "version": "3.9.6"
  }
 },
 "nbformat": 4,
 "nbformat_minor": 5
}
