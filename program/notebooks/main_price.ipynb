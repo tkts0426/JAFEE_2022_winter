{
 "cells": [
  {
   "cell_type": "code",
   "execution_count": 1,
   "metadata": {},
   "outputs": [
    {
     "name": "stdout",
     "output_type": "stream",
     "text": [
      "/home/tkts0426/git/JAFEE_2022_winter/program\n"
     ]
    }
   ],
   "source": [
    "%cd .."
   ]
  },
  {
   "cell_type": "markdown",
   "metadata": {},
   "source": [
    "# Import Library"
   ]
  },
  {
   "cell_type": "code",
   "execution_count": 2,
   "metadata": {},
   "outputs": [],
   "source": [
    "import esig\n",
    "import esig.tosig as ts\n",
    "import numpy as np\n",
    "import pandas as pd\n",
    "import seaborn as sns\n",
    "import torch\n",
    "import matplotlib.pyplot as plt\n",
    "import math\n",
    "import warnings\n",
    "import matplotlib.patches as mpatches\n",
    "\n",
    "from sklearn.preprocessing import MinMaxScaler\n",
    "from torch import optim\n",
    "from tqdm import tqdm\n",
    "from sklearn import utils\n",
    "\n",
    "from src.cvae import CVAE\n",
    "from src.vae import VAE\n",
    "from src.create_dataset import MyDataset\n",
    "from src.custom_loss import CustomLoss\n",
    "from src.utils import tosig\n",
    "from src.utils.leadlag import leadlag\n",
    "from src import logsig_inversion\n",
    "from src import logsig_inversion_v2\n",
    "from src import process_discriminator\n",
    "from src.sig_calculus_func import Lead, Lag\n",
    "\n",
    "pd.set_option('display.max_columns', 1000)\n",
    "pd.set_option('display.max_rows', 1000)\n",
    "\n",
    "warnings.simplefilter('ignore')"
   ]
  },
  {
   "cell_type": "code",
   "execution_count": 3,
   "metadata": {},
   "outputs": [],
   "source": [
    "def generate(cond, input_dim, n_latent, n_samples = None):\n",
    "    if n_samples is not None:\n",
    "        randoms = []\n",
    "        for i in range(n_samples):\n",
    "            random = np.random.normal(0, 1, size=(1, n_latent))\n",
    "            randoms.append(random)\n",
    "    else:\n",
    "        randoms = np.random.normal(0, 1, size=(1, n_latent))\n",
    "        cond = torch.Tensor(cond)\n",
    "    \n",
    "    randoms = torch.Tensor(randoms).reshape(-1, n_latent)\n",
    "    cond = torch.Tensor(cond.float()).reshape(-1, input_dim)\n",
    "    \n",
    "    samples = generator.decoder(randoms, cond)\n",
    "    \n",
    "    return samples"
   ]
  },
  {
   "cell_type": "markdown",
   "metadata": {},
   "source": [
    "# Download the data"
   ]
  },
  {
   "cell_type": "code",
   "execution_count": 4,
   "metadata": {},
   "outputs": [],
   "source": [
    "DATAs = np.load('Data/DATAs_1000.npy')"
   ]
  },
  {
   "cell_type": "markdown",
   "metadata": {},
   "source": [
    "# Create the leadlag data"
   ]
  },
  {
   "cell_type": "code",
   "execution_count": 5,
   "metadata": {},
   "outputs": [],
   "source": [
    "leadlag_DATAs = []\n",
    "for i in range(DATAs.shape[0]):\n",
    "    timestamp = DATAs[i, :, 0]\n",
    "    price = DATAs[i, :, 1] - DATAs[i, 0, 1]\n",
    "    vol = DATAs[i, :, 2] - DATAs[i, 0, 2]\n",
    "    spot_vol = DATAs[i, :, 3] - DATAs[i, 0, 3]\n",
    "\n",
    "    leadlag_timestamp = leadlag(timestamp)\n",
    "    leadlag_price = leadlag(price)\n",
    "    leadlag_vol = leadlag(vol)\n",
    "    leadlag_spot_vol = leadlag(spot_vol)\n",
    "\n",
    "    leadlag_DATA = np.c_[leadlag_timestamp, leadlag_price, leadlag_vol, leadlag_spot_vol]\n",
    "    leadlag_DATAs.append(leadlag_DATA)\n",
    "\n",
    "leadlag_DATAs = np.array(leadlag_DATAs)"
   ]
  },
  {
   "cell_type": "markdown",
   "metadata": {},
   "source": [
    "# Make explanatory variable"
   ]
  },
  {
   "cell_type": "code",
   "execution_count": 25,
   "metadata": {},
   "outputs": [],
   "source": [
    "sig_order = 4\n",
    "exp_col = [2, 3]"
   ]
  },
  {
   "cell_type": "code",
   "execution_count": 26,
   "metadata": {},
   "outputs": [
    {
     "name": "stderr",
     "output_type": "stream",
     "text": [
      "Computing log-signatures: 100%|███████████████████████████████████████████████████| 1000/1000 [00:00<00:00, 5614.99it/s]\n"
     ]
    }
   ],
   "source": [
    "orig_logsig = []\n",
    "\n",
    "for i in tqdm(range(leadlag_DATAs.shape[0]), desc=\"Computing log-signatures\"):\n",
    "    path = leadlag_DATAs[i, :, :]\n",
    "    \n",
    "    orig_logsig.append(esig.stream2logsig(path[:, exp_col], sig_order))\n",
    "    \n",
    "orig_logsig = np.array(orig_logsig)\n",
    "\n",
    "scaler = MinMaxScaler(feature_range=(0.00001, 0.99999))\n",
    "logsig = scaler.fit_transform(orig_logsig)\n",
    "\n",
    "logsigs = logsig[1:]\n",
    "conditions = logsig[:-1]\n",
    "\n",
    "data = utils.as_float_array(logsigs)\n",
    "data_cond = utils.as_float_array(conditions)\n",
    "\n",
    "input_dim = data.shape[1]\n",
    "cond_dim = data_cond.shape[1]"
   ]
  },
  {
   "cell_type": "code",
   "execution_count": 27,
   "metadata": {},
   "outputs": [
    {
     "name": "stdout",
     "output_type": "stream",
     "text": [
      " 1 2 [1,2] [1,[1,2]] [2,[1,2]] [1,[1,[1,2]]] [2,[1,[1,2]]] [2,[2,[1,2]]]\n"
     ]
    }
   ],
   "source": [
    "log_sig_keys = esig.logsigkeys(len(exp_col), sig_order)\n",
    "print(log_sig_keys) "
   ]
  },
  {
   "cell_type": "markdown",
   "metadata": {},
   "source": [
    "# Make target varialble"
   ]
  },
  {
   "cell_type": "code",
   "execution_count": 28,
   "metadata": {},
   "outputs": [],
   "source": [
    "target_col = [4, 5]"
   ]
  },
  {
   "cell_type": "code",
   "execution_count": 29,
   "metadata": {},
   "outputs": [
    {
     "name": "stderr",
     "output_type": "stream",
     "text": [
      "Computing log-signatures: 100%|███████████████████████████████████████████████████| 1000/1000 [00:00<00:00, 5637.98it/s]\n"
     ]
    }
   ],
   "source": [
    "orig_logsig_target = []\n",
    "for i in tqdm(range(leadlag_DATAs.shape[0]), desc=\"Computing log-signatures\"):\n",
    "    path = leadlag_DATAs[i, :, :]\n",
    "    \n",
    "    orig_logsig_target.append(esig.stream2logsig(path[:, target_col], sig_order))\n",
    "    \n",
    "orig_logsig_target = np.array(orig_logsig_target)\n",
    "\n",
    "scaler = MinMaxScaler(feature_range=(0.00001, 0.99999))\n",
    "logsig_target = scaler.fit_transform(orig_logsig_target)\n",
    "\n",
    "target_data = utils.as_float_array(logsig_target)\n",
    "\n",
    "input_dim_target = target_data.shape[1]"
   ]
  },
  {
   "cell_type": "code",
   "execution_count": 30,
   "metadata": {},
   "outputs": [
    {
     "name": "stdout",
     "output_type": "stream",
     "text": [
      " 1 2 [1,2] [1,[1,2]] [2,[1,2]] [1,[1,[1,2]]] [2,[1,[1,2]]] [2,[2,[1,2]]]\n"
     ]
    }
   ],
   "source": [
    "log_sig_keys = esig.logsigkeys(len(target_col), sig_order)\n",
    "print(log_sig_keys) "
   ]
  },
  {
   "cell_type": "markdown",
   "metadata": {},
   "source": [
    "# Make the dataset"
   ]
  },
  {
   "cell_type": "code",
   "execution_count": 31,
   "metadata": {},
   "outputs": [],
   "source": [
    "dataset = MyDataset(data, data_cond, target_data)\n",
    "dataloader = torch.utils.data.DataLoader(dataset, batch_size=25, shuffle=True)"
   ]
  },
  {
   "cell_type": "markdown",
   "metadata": {},
   "source": [
    "# Train"
   ]
  },
  {
   "cell_type": "code",
   "execution_count": 32,
   "metadata": {},
   "outputs": [],
   "source": [
    "n_epochs = 1000\n",
    "learning_rate=0.005\n",
    "\n",
    "input_dim = input_dim\n",
    "input_dim_target = input_dim_target\n",
    "n_latent = 10"
   ]
  },
  {
   "cell_type": "code",
   "execution_count": 33,
   "metadata": {},
   "outputs": [],
   "source": [
    "generator = CVAE(input_dim = input_dim, cond_dim = cond_dim, input_dim_target = input_dim_target, n_latent = n_latent, alpha=0.003)\n",
    "\n",
    "criterion = CustomLoss()\n",
    "optimizer = optim.SGD(generator.parameters(), lr=learning_rate, momentum=0.9, weight_decay=0.005)"
   ]
  },
  {
   "cell_type": "code",
   "execution_count": 34,
   "metadata": {
    "tags": []
   },
   "outputs": [
    {
     "name": "stdout",
     "output_type": "stream",
     "text": [
      "tensor(0.3244, dtype=torch.float64, grad_fn=<DivBackward0>)\n",
      "tensor(0.1311, dtype=torch.float64, grad_fn=<DivBackward0>)\n",
      "tensor(0.1286, dtype=torch.float64, grad_fn=<DivBackward0>)\n",
      "tensor(0.1283, dtype=torch.float64, grad_fn=<DivBackward0>)\n",
      "tensor(0.1281, dtype=torch.float64, grad_fn=<DivBackward0>)\n",
      "tensor(0.1276, dtype=torch.float64, grad_fn=<DivBackward0>)\n",
      "tensor(0.1277, dtype=torch.float64, grad_fn=<DivBackward0>)\n",
      "tensor(0.1276, dtype=torch.float64, grad_fn=<DivBackward0>)\n",
      "tensor(0.1275, dtype=torch.float64, grad_fn=<DivBackward0>)\n",
      "tensor(0.1276, dtype=torch.float64, grad_fn=<DivBackward0>)\n",
      "tensor(0.1276, dtype=torch.float64, grad_fn=<DivBackward0>)\n",
      "tensor(0.1276, dtype=torch.float64, grad_fn=<DivBackward0>)\n",
      "tensor(0.1276, dtype=torch.float64, grad_fn=<DivBackward0>)\n",
      "tensor(0.1277, dtype=torch.float64, grad_fn=<DivBackward0>)\n",
      "tensor(0.1278, dtype=torch.float64, grad_fn=<DivBackward0>)\n",
      "tensor(0.1277, dtype=torch.float64, grad_fn=<DivBackward0>)\n",
      "tensor(0.1277, dtype=torch.float64, grad_fn=<DivBackward0>)\n",
      "tensor(0.1278, dtype=torch.float64, grad_fn=<DivBackward0>)\n",
      "tensor(0.1278, dtype=torch.float64, grad_fn=<DivBackward0>)\n",
      "tensor(0.1278, dtype=torch.float64, grad_fn=<DivBackward0>)\n",
      "tensor(0.1278, dtype=torch.float64, grad_fn=<DivBackward0>)\n",
      "tensor(0.1279, dtype=torch.float64, grad_fn=<DivBackward0>)\n",
      "tensor(0.1278, dtype=torch.float64, grad_fn=<DivBackward0>)\n",
      "tensor(0.1280, dtype=torch.float64, grad_fn=<DivBackward0>)\n",
      "tensor(0.1280, dtype=torch.float64, grad_fn=<DivBackward0>)\n",
      "tensor(0.1280, dtype=torch.float64, grad_fn=<DivBackward0>)\n",
      "tensor(0.1280, dtype=torch.float64, grad_fn=<DivBackward0>)\n",
      "tensor(0.1279, dtype=torch.float64, grad_fn=<DivBackward0>)\n",
      "tensor(0.1279, dtype=torch.float64, grad_fn=<DivBackward0>)\n",
      "tensor(0.1281, dtype=torch.float64, grad_fn=<DivBackward0>)\n",
      "tensor(0.1279, dtype=torch.float64, grad_fn=<DivBackward0>)\n",
      "tensor(0.1280, dtype=torch.float64, grad_fn=<DivBackward0>)\n",
      "tensor(0.1280, dtype=torch.float64, grad_fn=<DivBackward0>)\n",
      "tensor(0.1280, dtype=torch.float64, grad_fn=<DivBackward0>)\n",
      "tensor(0.1280, dtype=torch.float64, grad_fn=<DivBackward0>)\n",
      "tensor(0.1281, dtype=torch.float64, grad_fn=<DivBackward0>)\n",
      "tensor(0.1281, dtype=torch.float64, grad_fn=<DivBackward0>)\n",
      "tensor(0.1281, dtype=torch.float64, grad_fn=<DivBackward0>)\n",
      "tensor(0.1281, dtype=torch.float64, grad_fn=<DivBackward0>)\n",
      "tensor(0.1280, dtype=torch.float64, grad_fn=<DivBackward0>)\n",
      "tensor(0.1279, dtype=torch.float64, grad_fn=<DivBackward0>)\n",
      "tensor(0.1280, dtype=torch.float64, grad_fn=<DivBackward0>)\n",
      "tensor(0.1281, dtype=torch.float64, grad_fn=<DivBackward0>)\n",
      "tensor(0.1280, dtype=torch.float64, grad_fn=<DivBackward0>)\n",
      "tensor(0.1281, dtype=torch.float64, grad_fn=<DivBackward0>)\n",
      "tensor(0.1280, dtype=torch.float64, grad_fn=<DivBackward0>)\n",
      "tensor(0.1281, dtype=torch.float64, grad_fn=<DivBackward0>)\n",
      "tensor(0.1281, dtype=torch.float64, grad_fn=<DivBackward0>)\n",
      "tensor(0.1282, dtype=torch.float64, grad_fn=<DivBackward0>)\n",
      "tensor(0.1280, dtype=torch.float64, grad_fn=<DivBackward0>)\n",
      "tensor(0.1282, dtype=torch.float64, grad_fn=<DivBackward0>)\n",
      "tensor(0.1281, dtype=torch.float64, grad_fn=<DivBackward0>)\n",
      "tensor(0.1283, dtype=torch.float64, grad_fn=<DivBackward0>)\n",
      "tensor(0.1281, dtype=torch.float64, grad_fn=<DivBackward0>)\n",
      "tensor(0.1282, dtype=torch.float64, grad_fn=<DivBackward0>)\n",
      "tensor(0.1281, dtype=torch.float64, grad_fn=<DivBackward0>)\n",
      "tensor(0.1281, dtype=torch.float64, grad_fn=<DivBackward0>)\n",
      "tensor(0.1281, dtype=torch.float64, grad_fn=<DivBackward0>)\n",
      "tensor(0.1281, dtype=torch.float64, grad_fn=<DivBackward0>)\n",
      "tensor(0.1281, dtype=torch.float64, grad_fn=<DivBackward0>)\n",
      "tensor(0.1281, dtype=torch.float64, grad_fn=<DivBackward0>)\n",
      "tensor(0.1282, dtype=torch.float64, grad_fn=<DivBackward0>)\n",
      "tensor(0.1281, dtype=torch.float64, grad_fn=<DivBackward0>)\n",
      "tensor(0.1281, dtype=torch.float64, grad_fn=<DivBackward0>)\n",
      "tensor(0.1281, dtype=torch.float64, grad_fn=<DivBackward0>)\n",
      "tensor(0.1281, dtype=torch.float64, grad_fn=<DivBackward0>)\n",
      "tensor(0.1282, dtype=torch.float64, grad_fn=<DivBackward0>)\n",
      "tensor(0.1281, dtype=torch.float64, grad_fn=<DivBackward0>)\n",
      "tensor(0.1281, dtype=torch.float64, grad_fn=<DivBackward0>)\n",
      "tensor(0.1282, dtype=torch.float64, grad_fn=<DivBackward0>)\n",
      "tensor(0.1281, dtype=torch.float64, grad_fn=<DivBackward0>)\n",
      "tensor(0.1282, dtype=torch.float64, grad_fn=<DivBackward0>)\n",
      "tensor(0.1282, dtype=torch.float64, grad_fn=<DivBackward0>)\n",
      "tensor(0.1283, dtype=torch.float64, grad_fn=<DivBackward0>)\n",
      "tensor(0.1281, dtype=torch.float64, grad_fn=<DivBackward0>)\n",
      "tensor(0.1282, dtype=torch.float64, grad_fn=<DivBackward0>)\n",
      "tensor(0.1281, dtype=torch.float64, grad_fn=<DivBackward0>)\n",
      "tensor(0.1281, dtype=torch.float64, grad_fn=<DivBackward0>)\n",
      "tensor(0.1282, dtype=torch.float64, grad_fn=<DivBackward0>)\n",
      "tensor(0.1282, dtype=torch.float64, grad_fn=<DivBackward0>)\n",
      "tensor(0.1282, dtype=torch.float64, grad_fn=<DivBackward0>)\n",
      "tensor(0.1282, dtype=torch.float64, grad_fn=<DivBackward0>)\n",
      "tensor(0.1282, dtype=torch.float64, grad_fn=<DivBackward0>)\n",
      "tensor(0.1283, dtype=torch.float64, grad_fn=<DivBackward0>)\n",
      "tensor(0.1282, dtype=torch.float64, grad_fn=<DivBackward0>)\n",
      "tensor(0.1280, dtype=torch.float64, grad_fn=<DivBackward0>)\n",
      "tensor(0.1282, dtype=torch.float64, grad_fn=<DivBackward0>)\n",
      "tensor(0.1281, dtype=torch.float64, grad_fn=<DivBackward0>)\n",
      "tensor(0.1282, dtype=torch.float64, grad_fn=<DivBackward0>)\n",
      "tensor(0.1283, dtype=torch.float64, grad_fn=<DivBackward0>)\n",
      "tensor(0.1283, dtype=torch.float64, grad_fn=<DivBackward0>)\n",
      "tensor(0.1281, dtype=torch.float64, grad_fn=<DivBackward0>)\n",
      "tensor(0.1282, dtype=torch.float64, grad_fn=<DivBackward0>)\n",
      "tensor(0.1281, dtype=torch.float64, grad_fn=<DivBackward0>)\n",
      "tensor(0.1282, dtype=torch.float64, grad_fn=<DivBackward0>)\n",
      "tensor(0.1282, dtype=torch.float64, grad_fn=<DivBackward0>)\n",
      "tensor(0.1282, dtype=torch.float64, grad_fn=<DivBackward0>)\n",
      "tensor(0.1282, dtype=torch.float64, grad_fn=<DivBackward0>)\n",
      "tensor(0.1281, dtype=torch.float64, grad_fn=<DivBackward0>)\n",
      "tensor(0.1282, dtype=torch.float64, grad_fn=<DivBackward0>)\n"
     ]
    }
   ],
   "source": [
    "for i in range(n_epochs):\n",
    "    loss_sum = 0\n",
    "    for _, (inputs, target) in enumerate(dataloader):\n",
    "        data = inputs[0]\n",
    "        cond = inputs[1]\n",
    "        \n",
    "        optimizer.zero_grad()\n",
    "        \n",
    "        mn, sd, sample_z, output = generator(data, cond)\n",
    "        \n",
    "        loss = criterion(mn = mn, sd = sd, outputs = output, targets = target, alpha = 0.003)\n",
    "        loss.backward()\n",
    "        \n",
    "        optimizer.step()\n",
    "        \n",
    "        loss_sum += loss\n",
    "    \n",
    "    if i % 10 == 0:\n",
    "        print(loss_sum / len(dataloader))"
   ]
  },
  {
   "cell_type": "markdown",
   "metadata": {},
   "source": [
    "# Generate the processes"
   ]
  },
  {
   "cell_type": "code",
   "execution_count": 35,
   "metadata": {},
   "outputs": [],
   "source": [
    "# Pip size\n",
    "pip = 0.0000045\n",
    "\n",
    "# Number of pips for search space\n",
    "n_pips = 1000 \n",
    "# Number of points\n",
    "n_points = 100\n",
    "\n",
    "n_iterations = 50\n",
    "n_organisms = 100"
   ]
  },
  {
   "cell_type": "code",
   "execution_count": 36,
   "metadata": {
    "tags": []
   },
   "outputs": [
    {
     "data": {
      "application/vnd.jupyter.widget-view+json": {
       "model_id": "c45ec102f97146d2b2768359f40ee362",
       "version_major": 2,
       "version_minor": 0
      },
      "text/plain": [
       "HBox(children=(FloatProgress(value=0.0, max=50.0), HTML(value='')))"
      ]
     },
     "metadata": {},
     "output_type": "display_data"
    },
    {
     "name": "stdout",
     "output_type": "stream",
     "text": [
      "\n"
     ]
    },
    {
     "data": {
      "application/vnd.jupyter.widget-view+json": {
       "model_id": "eedb998767e348d7ad01554b457e36da",
       "version_major": 2,
       "version_minor": 0
      },
      "text/plain": [
       "HBox(children=(FloatProgress(value=0.0, max=50.0), HTML(value='')))"
      ]
     },
     "metadata": {},
     "output_type": "display_data"
    },
    {
     "name": "stdout",
     "output_type": "stream",
     "text": [
      "\n"
     ]
    },
    {
     "data": {
      "application/vnd.jupyter.widget-view+json": {
       "model_id": "782409ac5d56471da2fd6c2222f555de",
       "version_major": 2,
       "version_minor": 0
      },
      "text/plain": [
       "HBox(children=(FloatProgress(value=0.0, max=50.0), HTML(value='')))"
      ]
     },
     "metadata": {},
     "output_type": "display_data"
    },
    {
     "name": "stdout",
     "output_type": "stream",
     "text": [
      "\n"
     ]
    },
    {
     "data": {
      "application/vnd.jupyter.widget-view+json": {
       "model_id": "78a8258111a444b0820922243a75c6c3",
       "version_major": 2,
       "version_minor": 0
      },
      "text/plain": [
       "HBox(children=(FloatProgress(value=0.0, max=50.0), HTML(value='')))"
      ]
     },
     "metadata": {},
     "output_type": "display_data"
    },
    {
     "name": "stdout",
     "output_type": "stream",
     "text": [
      "\n"
     ]
    },
    {
     "data": {
      "application/vnd.jupyter.widget-view+json": {
       "model_id": "224a9bba53cf4cf3805ef1bc34838f58",
       "version_major": 2,
       "version_minor": 0
      },
      "text/plain": [
       "HBox(children=(FloatProgress(value=0.0, max=50.0), HTML(value='')))"
      ]
     },
     "metadata": {},
     "output_type": "display_data"
    },
    {
     "name": "stdout",
     "output_type": "stream",
     "text": [
      "\n"
     ]
    },
    {
     "data": {
      "application/vnd.jupyter.widget-view+json": {
       "model_id": "dc4d8f704fb4498b8cec08b05087c115",
       "version_major": 2,
       "version_minor": 0
      },
      "text/plain": [
       "HBox(children=(FloatProgress(value=0.0, max=50.0), HTML(value='')))"
      ]
     },
     "metadata": {},
     "output_type": "display_data"
    },
    {
     "name": "stdout",
     "output_type": "stream",
     "text": [
      "\n"
     ]
    },
    {
     "data": {
      "application/vnd.jupyter.widget-view+json": {
       "model_id": "3317b1b908e7450184f842e3e910bf3e",
       "version_major": 2,
       "version_minor": 0
      },
      "text/plain": [
       "HBox(children=(FloatProgress(value=0.0, max=50.0), HTML(value='')))"
      ]
     },
     "metadata": {},
     "output_type": "display_data"
    },
    {
     "name": "stdout",
     "output_type": "stream",
     "text": [
      "\n"
     ]
    },
    {
     "data": {
      "application/vnd.jupyter.widget-view+json": {
       "model_id": "052f357786714962b14ec17b3426149b",
       "version_major": 2,
       "version_minor": 0
      },
      "text/plain": [
       "HBox(children=(FloatProgress(value=0.0, max=50.0), HTML(value='')))"
      ]
     },
     "metadata": {},
     "output_type": "display_data"
    },
    {
     "name": "stdout",
     "output_type": "stream",
     "text": [
      "\n"
     ]
    },
    {
     "data": {
      "application/vnd.jupyter.widget-view+json": {
       "model_id": "08e5dcdc9456429cae2ced9af1290848",
       "version_major": 2,
       "version_minor": 0
      },
      "text/plain": [
       "HBox(children=(FloatProgress(value=0.0, max=50.0), HTML(value='')))"
      ]
     },
     "metadata": {},
     "output_type": "display_data"
    },
    {
     "name": "stdout",
     "output_type": "stream",
     "text": [
      "\n"
     ]
    },
    {
     "data": {
      "application/vnd.jupyter.widget-view+json": {
       "model_id": "be2b52a7ce644dafab946b79c88475c6",
       "version_major": 2,
       "version_minor": 0
      },
      "text/plain": [
       "HBox(children=(FloatProgress(value=0.0, max=50.0), HTML(value='')))"
      ]
     },
     "metadata": {},
     "output_type": "display_data"
    },
    {
     "name": "stdout",
     "output_type": "stream",
     "text": [
      "\n"
     ]
    }
   ],
   "source": [
    "generated_path = []\n",
    "generated_logsigs = []\n",
    "for cond in data_cond[:10]:\n",
    "    generated_logsig = generate(cond, cond_dim, n_latent).to('cpu').detach().numpy().copy()\n",
    "    recovered_path, loss = logsig_inversion.train(generated_logsig, sig_order, n_iterations, n_organisms, n_points, pip, n_pips)\n",
    "    \n",
    "    generated_path.append(recovered_path)\n",
    "    generated_logsigs.append(generated_logsig)\n",
    "    "
   ]
  },
  {
   "cell_type": "code",
   "execution_count": 37,
   "metadata": {},
   "outputs": [],
   "source": [
    "generated_logsigs = np.array(generated_logsigs).reshape(-1, input_dim_target)"
   ]
  },
  {
   "cell_type": "code",
   "execution_count": 38,
   "metadata": {},
   "outputs": [
    {
     "data": {
      "application/vnd.jupyter.widget-view+json": {
       "model_id": "629233df98014783b6cb79cfd1f92531",
       "version_major": 2,
       "version_minor": 0
      },
      "text/plain": [
       "HBox(children=(FloatProgress(value=0.0, description='Computing signatures of population 1', max=10.0, style=Pr…"
      ]
     },
     "metadata": {},
     "output_type": "display_data"
    },
    {
     "name": "stdout",
     "output_type": "stream",
     "text": [
      "\n"
     ]
    },
    {
     "data": {
      "application/vnd.jupyter.widget-view+json": {
       "model_id": "d861f1aabb3b4c4fb9836f277fed80fe",
       "version_major": 2,
       "version_minor": 0
      },
      "text/plain": [
       "HBox(children=(FloatProgress(value=0.0, description='Computing signatures of population 2', max=10.0, style=Pr…"
      ]
     },
     "metadata": {},
     "output_type": "display_data"
    },
    {
     "name": "stdout",
     "output_type": "stream",
     "text": [
      "\n",
      "Are the generated and real distributions DIFFERENT? True\n"
     ]
    }
   ],
   "source": [
    "# sig1 = np.array([esig.stream2sig(leadlag(path), sig_order) for path in generated_path])\n",
    "# sigs2 = np.array([tosig.stream2sig(leadlag, 2, sig_order) for logsig in target_data[:100]])\n",
    "sigs1 = []\n",
    "for i, path in enumerate(generated_path):\n",
    "    path = np.c_[DATAs[i, :, 0], path]\n",
    "    path_sig = esig.stream2sig(path, sig_order)\n",
    "    sigs1.append(path_sig)\n",
    "sigs1 = np.array(sigs1)\n",
    "    \n",
    "sigs2 = []\n",
    "for i in range(10):\n",
    "    path = leadlag_DATAs[i][:, target_col]\n",
    "    path_sig = esig.stream2sig(path, sig_order)\n",
    "    sigs2.append(path_sig)\n",
    "sigs2 = np.array(sigs2)\n",
    "\n",
    "res = process_discriminator.test(sigs1, sigs2, order=sig_order, compute_sigs=False, confidence_level=0.99)\n",
    "\n",
    "print(\"Are the generated and real distributions DIFFERENT? {}\".format(res))"
   ]
  },
  {
   "cell_type": "code",
   "execution_count": 39,
   "metadata": {},
   "outputs": [
    {
     "data": {
      "image/png": "[encoded data removed]",
      "text/plain": [
       "<Figure size 432x288 with 1 Axes>"
      ]
     },
     "metadata": {
      "needs_background": "light"
     },
     "output_type": "display_data"
    }
   ],
   "source": [
    "fig, ax = plt.subplots()\n",
    "for path1, path2 in zip(DATAs[:100], generated_path):\n",
    "    vol_path = path1[:, 2] -  path1[0, 2]\n",
    "    \n",
    "    ax.plot(vol_path, 'darkgray', alpha=0.25)\n",
    "    ax.plot(path2, '#79c266', alpha=0.25)\n",
    "\n",
    "gray_patch = mpatches.Patch(color = 'darkgray', label = 'volatility paths')\n",
    "green_patch = mpatches.Patch(color = '#79c266', label = 'Generated paths')\n",
    "\n",
    "\n",
    "\n",
    "x = range(0, 101, 20)\n",
    "ax.set_xticks(x)\n",
    "ax.set_xticklabels([str(i/100) for i in x])\n",
    "ax.set_xlabel(\"Timestamp\", fontsize=14)\n",
    "\n",
    "plt.legend(handles=[green_patch, gray_patch], fontsize=12)    \n",
    "\n",
    "#外枠の削除\n",
    "plt.gca().spines['right'].set_visible(False)\n",
    "plt.gca().spines['top'].set_visible(False)\n",
    "plt.gca().spines['left'].set_visible(False)\n",
    "plt.gca().spines['bottom'].set_visible(True)\n",
    "\n",
    "fig.savefig(\"Figures/generatedVolFromPrice_{}.png\".format(sig_order), dpi=300, bbox_inches=\"tight\")\n",
    "plt.show();"
   ]
  },
  {
   "cell_type": "code",
   "execution_count": 40,
   "metadata": {},
   "outputs": [
    {
     "data": {
      "image/png": "[encoded data removed]",
      "text/plain": [
       "<Figure size 432x288 with 1 Axes>"
      ]
     },
     "metadata": {
      "needs_background": "light"
     },
     "output_type": "display_data"
    }
   ],
   "source": [
    "generated_vol = [path[40] for path in generated_path]\n",
    "real_vol = [path[40, 2] - path[0, 2] for path in DATAs[:100]]\n",
    "\n",
    "# 最小値\n",
    "x_min_gene = min(generated_vol)\n",
    "x_min_real = min(real_vol)\n",
    "\n",
    "x_min = min(x_min_gene, x_min_real)\n",
    "\n",
    "# 最大値\n",
    "x_max_gene = max(generated_vol)\n",
    "x_max_real = max(real_vol)\n",
    "\n",
    "x_max = min(x_max_gene, x_max_real)\n",
    "\n",
    "# 最小値から最大値の範囲で5間隔\n",
    "range_bin_width = np.arange(x_min, x_max, 0.001)\n",
    "\n",
    "fig, ax = plt.subplots()\n",
    "ax = sns.distplot(real_vol, color = 'darkgray', bins=range_bin_width, label=\"Real paths\", kde = True)\n",
    "ax = sns.distplot(generated_vol, color = '#79c266', bins=range_bin_width, label=\"Generated paths\", kde = True)\n",
    "\n",
    "\n",
    "#外枠の削除\n",
    "plt.gca().spines['right'].set_visible(False)\n",
    "plt.gca().spines['top'].set_visible(False)\n",
    "plt.gca().spines['left'].set_visible(False)\n",
    "plt.gca().spines['bottom'].set_visible(True)\n",
    "\n",
    "plt.xlabel(\"volatility\", fontsize=14)\n",
    "plt.legend(handles=[green_patch, gray_patch], fontsize=12)   \n",
    "fig.savefig(\"Figures/generatedVolFromPrice_40_{}.png\".format(sig_order), dpi=300, bbox_inches=\"tight\")\n",
    "plt.show();"
   ]
  },
  {
   "cell_type": "code",
   "execution_count": null,
   "metadata": {},
   "outputs": [],
   "source": []
  },
  {
   "cell_type": "code",
   "execution_count": null,
   "metadata": {},
   "outputs": [],
   "source": []
  }
 ],
 "metadata": {
  "kernelspec": {
   "display_name": "Python 3 (ipykernel)",
   "language": "python",
   "name": "python3"
  },
  "language_info": {
   "codemirror_mode": {
    "name": "ipython",
    "version": 3
   },
   "file_extension": ".py",
   "mimetype": "text/x-python",
   "name": "python",
   "nbconvert_exporter": "python",
   "pygments_lexer": "ipython3",
   "version": "3.9.6"
  }
 },
 "nbformat": 4,
 "nbformat_minor": 4
}
