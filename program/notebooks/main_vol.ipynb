{
 "cells": [
  {
   "cell_type": "code",
   "execution_count": 1,
   "id": "85d69567-3e9f-4398-af8a-1643fea156bd",
   "metadata": {},
   "outputs": [
    {
     "name": "stdout",
     "output_type": "stream",
     "text": [
      "/home/tkts0426/git/JAFEE_2022_winter/program\n"
     ]
    }
   ],
   "source": [
    "%cd .."
   ]
  },
  {
   "cell_type": "code",
   "execution_count": 5,
   "id": "a6814d97-beb3-48f6-84ad-4bcef939f18f",
   "metadata": {},
   "outputs": [],
   "source": [
    "import esig\n",
    "import esig.tosig as ts\n",
    "import numpy as np\n",
    "import pandas as pd\n",
    "import seaborn as sns\n",
    "import torch\n",
    "import matplotlib.pyplot as plt\n",
    "import math\n",
    "import warnings\n",
    "import matplotlib.patches as mpatches\n",
    "\n",
    "from sklearn.preprocessing import MinMaxScaler\n",
    "from torch import optim\n",
    "from tqdm import tqdm\n",
    "from sklearn import utils\n",
    "\n",
    "from src.cvae import CVAE\n",
    "from src.vae import VAE\n",
    "from src.create_dataset import MyDataset\n",
    "from src.custom_loss import CustomLoss\n",
    "from src.utils import tosig\n",
    "from src.utils.leadlag import leadlag\n",
    "from src import logsig_inversion\n",
    "from src import logsig_inversion_v2\n",
    "from src import process_discriminator\n",
    "from src.sig_calculus_func import Lead, Lag\n",
    "\n",
    "pd.set_option('display.max_columns', 1000)\n",
    "pd.set_option('display.max_rows', 1000)\n",
    "\n",
    "warnings.simplefilter('ignore')"
   ]
  },
  {
   "cell_type": "code",
   "execution_count": 6,
   "id": "a3c95b72-5936-4b23-8ead-374f0c43dbd3",
   "metadata": {},
   "outputs": [],
   "source": [
    "def generate(cond, input_dim, n_latent, n_samples = None):\n",
    "    if n_samples is not None:\n",
    "        randoms = []\n",
    "        for i in range(n_samples):\n",
    "            random = np.random.normal(0, 1, size=(1, n_latent))\n",
    "            randoms.append(random)\n",
    "    else:\n",
    "        randoms = np.random.normal(0, 1, size=(1, n_latent))\n",
    "        cond = torch.Tensor(cond)\n",
    "    \n",
    "    randoms = torch.Tensor(randoms).reshape(-1, n_latent)\n",
    "    cond = torch.Tensor(cond.float()).reshape(-1, input_dim)\n",
    "    \n",
    "    samples = generator.decoder(randoms, cond)\n",
    "    \n",
    "    return samples"
   ]
  },
  {
   "cell_type": "markdown",
   "id": "884f418a-c4dc-4982-b5d6-9864aa9d0d54",
   "metadata": {},
   "source": [
    "# Download the data"
   ]
  },
  {
   "cell_type": "code",
   "execution_count": 7,
   "id": "db1895a6-d578-421b-82d4-7c2ee55a0507",
   "metadata": {},
   "outputs": [],
   "source": [
    "DATAs = np.load('Data/DATAs_1000.npy')"
   ]
  },
  {
   "cell_type": "markdown",
   "id": "165f76ee-e4f5-4750-8950-ecd7e9cc4c75",
   "metadata": {},
   "source": [
    "# Create the data"
   ]
  },
  {
   "cell_type": "code",
   "execution_count": 8,
   "id": "2988aec4-5b44-4014-8eec-35261d689f27",
   "metadata": {},
   "outputs": [],
   "source": [
    "leadlag_DATAs = []\n",
    "for i in range(DATAs.shape[0]):\n",
    "    timestamp = DATAs[i, :, 0]\n",
    "    price = DATAs[i, :, 1] - DATAs[i, 0, 1]\n",
    "    vol = DATAs[i, :, 2] - DATAs[i, 0, 2]\n",
    "    spot_vol = DATAs[i, :, 3] - DATAs[i, 0, 3]\n",
    "\n",
    "    leadlag_timestamp = leadlag(timestamp)\n",
    "    leadlag_price = leadlag(price)\n",
    "    leadlag_vol = leadlag(vol)\n",
    "    leadlag_spot_vol = leadlag(spot_vol)\n",
    "\n",
    "    leadlag_DATA = np.c_[leadlag_timestamp, leadlag_price, leadlag_vol, leadlag_spot_vol]\n",
    "    leadlag_DATAs.append(leadlag_DATA)\n",
    "\n",
    "leadlag_DATAs = np.array(leadlag_DATAs)"
   ]
  },
  {
   "cell_type": "markdown",
   "id": "f108bdf7-d9c6-4fa8-a2cb-1b0c024fe3f2",
   "metadata": {},
   "source": [
    "# Make the explanatory variable"
   ]
  },
  {
   "cell_type": "code",
   "execution_count": 9,
   "id": "39e18de5-cdec-4e87-901e-a8e7a3d424d0",
   "metadata": {},
   "outputs": [],
   "source": [
    "sig_order = 4\n",
    "exp_col = [2, 3, 4, 5]"
   ]
  },
  {
   "cell_type": "code",
   "execution_count": 10,
   "id": "404c5e38-8558-430b-a279-21c5057fd7e2",
   "metadata": {},
   "outputs": [
    {
     "name": "stderr",
     "output_type": "stream",
     "text": [
      "Computing log-signatures: 100%|███| 1000/1000 [00:00<00:00, 2270.23it/s]\n"
     ]
    }
   ],
   "source": [
    "orig_logsig = []\n",
    "for i in tqdm(range(leadlag_DATAs.shape[0]), desc=\"Computing log-signatures\"):\n",
    "    path = leadlag_DATAs[i, :, :]\n",
    "    \n",
    "    orig_logsig.append(esig.stream2logsig(path[:, exp_col], sig_order))\n",
    "    \n",
    "orig_logsig = np.array(orig_logsig)\n",
    "\n",
    "scaler = MinMaxScaler(feature_range=(0.00001, 0.99999))\n",
    "logsig = scaler.fit_transform(orig_logsig)\n",
    "\n",
    "logsigs = logsig[1:]\n",
    "conditions = logsig[:-1]\n",
    "\n",
    "data = utils.as_float_array(logsigs)\n",
    "data_cond = utils.as_float_array(conditions)\n",
    "\n",
    "input_dim = data.shape[1]\n",
    "cond_dim = data_cond.shape[1]"
   ]
  },
  {
   "cell_type": "code",
   "execution_count": 11,
   "id": "d32b7151-eabc-40e0-bbce-919f08e13626",
   "metadata": {},
   "outputs": [
    {
     "name": "stdout",
     "output_type": "stream",
     "text": [
      " 1 2 3 4 [1,2] [1,3] [1,4] [2,3] [2,4] [3,4] [1,[1,2]] [1,[1,3]] [1,[1,4]] [2,[1,2]] [2,[1,3]] [2,[1,4]] [2,[2,3]] [2,[2,4]] [3,[1,2]] [3,[1,3]] [3,[1,4]] [3,[2,3]] [3,[2,4]] [3,[3,4]] [4,[1,2]] [4,[1,3]] [4,[1,4]] [4,[2,3]] [4,[2,4]] [4,[3,4]] [1,[1,[1,2]]] [1,[1,[1,3]]] [1,[1,[1,4]]] [2,[1,[1,2]]] [2,[1,[1,3]]] [2,[1,[1,4]]] [2,[2,[1,2]]] [2,[2,[1,3]]] [2,[2,[1,4]]] [2,[2,[2,3]]] [2,[2,[2,4]]] [3,[1,[1,2]]] [3,[1,[1,3]]] [3,[1,[1,4]]] [3,[2,[1,2]]] [3,[2,[1,3]]] [3,[2,[1,4]]] [3,[2,[2,3]]] [3,[2,[2,4]]] [3,[3,[1,2]]] [3,[3,[1,3]]] [3,[3,[1,4]]] [3,[3,[2,3]]] [3,[3,[2,4]]] [3,[3,[3,4]]] [4,[1,[1,2]]] [4,[1,[1,3]]] [4,[1,[1,4]]] [4,[2,[1,2]]] [4,[2,[1,3]]] [4,[2,[1,4]]] [4,[2,[2,3]]] [4,[2,[2,4]]] [4,[3,[1,2]]] [4,[3,[1,3]]] [4,[3,[1,4]]] [4,[3,[2,3]]] [4,[3,[2,4]]] [4,[3,[3,4]]] [4,[4,[1,2]]] [4,[4,[1,3]]] [4,[4,[1,4]]] [4,[4,[2,3]]] [4,[4,[2,4]]] [4,[4,[3,4]]] [[1,2],[1,3]] [[1,2],[1,4]] [[1,2],[2,3]] [[1,2],[2,4]] [[1,2],[3,4]] [[1,3],[1,4]] [[1,3],[2,3]] [[1,3],[2,4]] [[1,3],[3,4]] [[1,4],[2,3]] [[1,4],[2,4]] [[1,4],[3,4]] [[2,3],[2,4]] [[2,3],[3,4]] [[2,4],[3,4]]\n"
     ]
    }
   ],
   "source": [
    "log_sig_keys = esig.logsigkeys(len(exp_col), sig_order)\n",
    "print(log_sig_keys) "
   ]
  },
  {
   "cell_type": "markdown",
   "id": "e19126b8-d6bd-4148-8824-5cd71f49836d",
   "metadata": {},
   "source": [
    "# Make the target variable"
   ]
  },
  {
   "cell_type": "code",
   "execution_count": 12,
   "id": "cfc57997-67fd-41ec-a8b0-0f17eb045e28",
   "metadata": {},
   "outputs": [],
   "source": [
    "target_col = [2, 3, 4, 5]"
   ]
  },
  {
   "cell_type": "code",
   "execution_count": 13,
   "id": "b02e8cae-8434-483c-939e-ed6c3826e539",
   "metadata": {},
   "outputs": [
    {
     "name": "stderr",
     "output_type": "stream",
     "text": [
      "Computing log-signatures: 100%|███| 1000/1000 [00:00<00:00, 2296.98it/s]\n"
     ]
    }
   ],
   "source": [
    "orig_logsig_target = []\n",
    "for i in tqdm(range(leadlag_DATAs.shape[0]), desc=\"Computing log-signatures\"):\n",
    "    path = leadlag_DATAs[i, :, :]\n",
    "    \n",
    "    orig_logsig_target.append(esig.stream2logsig(path[:, target_col], sig_order))\n",
    "    \n",
    "orig_logsig_target = np.array(orig_logsig_target)\n",
    "\n",
    "scaler = MinMaxScaler(feature_range=(0.00001, 0.99999))\n",
    "logsig_target = scaler.fit_transform(orig_logsig_target)\n",
    "\n",
    "target_data = utils.as_float_array(logsig_target)\n",
    "\n",
    "input_dim_target = target_data.shape[1]"
   ]
  },
  {
   "cell_type": "code",
   "execution_count": 14,
   "id": "6aab5728-6875-4d21-a192-9da6794420d9",
   "metadata": {},
   "outputs": [
    {
     "name": "stdout",
     "output_type": "stream",
     "text": [
      " 1 2 3 4 [1,2] [1,3] [1,4] [2,3] [2,4] [3,4] [1,[1,2]] [1,[1,3]] [1,[1,4]] [2,[1,2]] [2,[1,3]] [2,[1,4]] [2,[2,3]] [2,[2,4]] [3,[1,2]] [3,[1,3]] [3,[1,4]] [3,[2,3]] [3,[2,4]] [3,[3,4]] [4,[1,2]] [4,[1,3]] [4,[1,4]] [4,[2,3]] [4,[2,4]] [4,[3,4]] [1,[1,[1,2]]] [1,[1,[1,3]]] [1,[1,[1,4]]] [2,[1,[1,2]]] [2,[1,[1,3]]] [2,[1,[1,4]]] [2,[2,[1,2]]] [2,[2,[1,3]]] [2,[2,[1,4]]] [2,[2,[2,3]]] [2,[2,[2,4]]] [3,[1,[1,2]]] [3,[1,[1,3]]] [3,[1,[1,4]]] [3,[2,[1,2]]] [3,[2,[1,3]]] [3,[2,[1,4]]] [3,[2,[2,3]]] [3,[2,[2,4]]] [3,[3,[1,2]]] [3,[3,[1,3]]] [3,[3,[1,4]]] [3,[3,[2,3]]] [3,[3,[2,4]]] [3,[3,[3,4]]] [4,[1,[1,2]]] [4,[1,[1,3]]] [4,[1,[1,4]]] [4,[2,[1,2]]] [4,[2,[1,3]]] [4,[2,[1,4]]] [4,[2,[2,3]]] [4,[2,[2,4]]] [4,[3,[1,2]]] [4,[3,[1,3]]] [4,[3,[1,4]]] [4,[3,[2,3]]] [4,[3,[2,4]]] [4,[3,[3,4]]] [4,[4,[1,2]]] [4,[4,[1,3]]] [4,[4,[1,4]]] [4,[4,[2,3]]] [4,[4,[2,4]]] [4,[4,[3,4]]] [[1,2],[1,3]] [[1,2],[1,4]] [[1,2],[2,3]] [[1,2],[2,4]] [[1,2],[3,4]] [[1,3],[1,4]] [[1,3],[2,3]] [[1,3],[2,4]] [[1,3],[3,4]] [[1,4],[2,3]] [[1,4],[2,4]] [[1,4],[3,4]] [[2,3],[2,4]] [[2,3],[3,4]] [[2,4],[3,4]]\n"
     ]
    }
   ],
   "source": [
    "log_sig_keys = esig.logsigkeys(len(target_col), sig_order)\n",
    "print(log_sig_keys) "
   ]
  },
  {
   "cell_type": "markdown",
   "id": "e8b63fd2-7d57-47bb-96e5-71dbd028749c",
   "metadata": {},
   "source": [
    "# Make the dataset"
   ]
  },
  {
   "cell_type": "code",
   "execution_count": 15,
   "id": "7525d456-ec82-44e6-bd16-c393cb901534",
   "metadata": {},
   "outputs": [],
   "source": [
    "dataset = MyDataset(data, data_cond, target_data)\n",
    "dataloader = torch.utils.data.DataLoader(dataset, batch_size=25, shuffle=True)"
   ]
  },
  {
   "cell_type": "markdown",
   "id": "f97044ba-06a5-43b9-a72b-223e83201a94",
   "metadata": {},
   "source": [
    "# Train"
   ]
  },
  {
   "cell_type": "code",
   "execution_count": 16,
   "id": "fbf29475-846e-440e-b169-099326c13f82",
   "metadata": {},
   "outputs": [],
   "source": [
    "n_epochs = 1000\n",
    "learning_rate=0.005\n",
    "\n",
    "input_dim = input_dim\n",
    "input_dim_target = input_dim_target\n",
    "n_latent = 10"
   ]
  },
  {
   "cell_type": "code",
   "execution_count": 17,
   "id": "bd18eccc-d01c-4a4b-9291-ba1191961352",
   "metadata": {},
   "outputs": [],
   "source": [
    "generator = CVAE(input_dim = input_dim, cond_dim = cond_dim, input_dim_target = input_dim_target, n_latent = n_latent, alpha=0.003)\n",
    "\n",
    "criterion = CustomLoss()\n",
    "optimizer = optim.SGD(generator.parameters(), lr=learning_rate, momentum=0.9, weight_decay=0.005)"
   ]
  },
  {
   "cell_type": "code",
   "execution_count": 18,
   "id": "bd90b700-73a8-48ab-be92-10ff6be95dc7",
   "metadata": {},
   "outputs": [
    {
     "name": "stdout",
     "output_type": "stream",
     "text": [
      "tensor(1.2684, dtype=torch.float64, grad_fn=<DivBackward0>)\n",
      "tensor(0.5478, dtype=torch.float64, grad_fn=<DivBackward0>)\n",
      "tensor(0.5032, dtype=torch.float64, grad_fn=<DivBackward0>)\n",
      "tensor(0.4432, dtype=torch.float64, grad_fn=<DivBackward0>)\n",
      "tensor(0.3686, dtype=torch.float64, grad_fn=<DivBackward0>)\n",
      "tensor(0.3037, dtype=torch.float64, grad_fn=<DivBackward0>)\n",
      "tensor(0.2589, dtype=torch.float64, grad_fn=<DivBackward0>)\n",
      "tensor(0.2293, dtype=torch.float64, grad_fn=<DivBackward0>)\n",
      "tensor(0.2086, dtype=torch.float64, grad_fn=<DivBackward0>)\n",
      "tensor(0.1930, dtype=torch.float64, grad_fn=<DivBackward0>)\n",
      "tensor(0.1798, dtype=torch.float64, grad_fn=<DivBackward0>)\n",
      "tensor(0.1687, dtype=torch.float64, grad_fn=<DivBackward0>)\n",
      "tensor(0.1600, dtype=torch.float64, grad_fn=<DivBackward0>)\n",
      "tensor(0.1522, dtype=torch.float64, grad_fn=<DivBackward0>)\n",
      "tensor(0.1450, dtype=torch.float64, grad_fn=<DivBackward0>)\n",
      "tensor(0.1387, dtype=torch.float64, grad_fn=<DivBackward0>)\n",
      "tensor(0.1331, dtype=torch.float64, grad_fn=<DivBackward0>)\n",
      "tensor(0.1285, dtype=torch.float64, grad_fn=<DivBackward0>)\n",
      "tensor(0.1245, dtype=torch.float64, grad_fn=<DivBackward0>)\n",
      "tensor(0.1207, dtype=torch.float64, grad_fn=<DivBackward0>)\n",
      "tensor(0.1176, dtype=torch.float64, grad_fn=<DivBackward0>)\n",
      "tensor(0.1148, dtype=torch.float64, grad_fn=<DivBackward0>)\n",
      "tensor(0.1128, dtype=torch.float64, grad_fn=<DivBackward0>)\n",
      "tensor(0.1106, dtype=torch.float64, grad_fn=<DivBackward0>)\n",
      "tensor(0.1088, dtype=torch.float64, grad_fn=<DivBackward0>)\n",
      "tensor(0.1072, dtype=torch.float64, grad_fn=<DivBackward0>)\n",
      "tensor(0.1058, dtype=torch.float64, grad_fn=<DivBackward0>)\n",
      "tensor(0.1047, dtype=torch.float64, grad_fn=<DivBackward0>)\n",
      "tensor(0.1039, dtype=torch.float64, grad_fn=<DivBackward0>)\n",
      "tensor(0.1028, dtype=torch.float64, grad_fn=<DivBackward0>)\n",
      "tensor(0.1022, dtype=torch.float64, grad_fn=<DivBackward0>)\n",
      "tensor(0.1015, dtype=torch.float64, grad_fn=<DivBackward0>)\n",
      "tensor(0.1010, dtype=torch.float64, grad_fn=<DivBackward0>)\n",
      "tensor(0.1003, dtype=torch.float64, grad_fn=<DivBackward0>)\n",
      "tensor(0.1002, dtype=torch.float64, grad_fn=<DivBackward0>)\n",
      "tensor(0.0993, dtype=torch.float64, grad_fn=<DivBackward0>)\n",
      "tensor(0.0992, dtype=torch.float64, grad_fn=<DivBackward0>)\n",
      "tensor(0.0987, dtype=torch.float64, grad_fn=<DivBackward0>)\n",
      "tensor(0.0982, dtype=torch.float64, grad_fn=<DivBackward0>)\n",
      "tensor(0.0983, dtype=torch.float64, grad_fn=<DivBackward0>)\n",
      "tensor(0.0977, dtype=torch.float64, grad_fn=<DivBackward0>)\n",
      "tensor(0.0975, dtype=torch.float64, grad_fn=<DivBackward0>)\n",
      "tensor(0.0972, dtype=torch.float64, grad_fn=<DivBackward0>)\n",
      "tensor(0.0972, dtype=torch.float64, grad_fn=<DivBackward0>)\n",
      "tensor(0.0969, dtype=torch.float64, grad_fn=<DivBackward0>)\n",
      "tensor(0.0969, dtype=torch.float64, grad_fn=<DivBackward0>)\n",
      "tensor(0.0965, dtype=torch.float64, grad_fn=<DivBackward0>)\n",
      "tensor(0.0966, dtype=torch.float64, grad_fn=<DivBackward0>)\n",
      "tensor(0.0962, dtype=torch.float64, grad_fn=<DivBackward0>)\n",
      "tensor(0.0963, dtype=torch.float64, grad_fn=<DivBackward0>)\n",
      "tensor(0.0959, dtype=torch.float64, grad_fn=<DivBackward0>)\n",
      "tensor(0.0957, dtype=torch.float64, grad_fn=<DivBackward0>)\n",
      "tensor(0.0958, dtype=torch.float64, grad_fn=<DivBackward0>)\n",
      "tensor(0.0955, dtype=torch.float64, grad_fn=<DivBackward0>)\n",
      "tensor(0.0956, dtype=torch.float64, grad_fn=<DivBackward0>)\n",
      "tensor(0.0953, dtype=torch.float64, grad_fn=<DivBackward0>)\n",
      "tensor(0.0951, dtype=torch.float64, grad_fn=<DivBackward0>)\n",
      "tensor(0.0952, dtype=torch.float64, grad_fn=<DivBackward0>)\n",
      "tensor(0.0951, dtype=torch.float64, grad_fn=<DivBackward0>)\n",
      "tensor(0.0949, dtype=torch.float64, grad_fn=<DivBackward0>)\n",
      "tensor(0.0950, dtype=torch.float64, grad_fn=<DivBackward0>)\n",
      "tensor(0.0950, dtype=torch.float64, grad_fn=<DivBackward0>)\n",
      "tensor(0.0945, dtype=torch.float64, grad_fn=<DivBackward0>)\n",
      "tensor(0.0944, dtype=torch.float64, grad_fn=<DivBackward0>)\n",
      "tensor(0.0945, dtype=torch.float64, grad_fn=<DivBackward0>)\n",
      "tensor(0.0947, dtype=torch.float64, grad_fn=<DivBackward0>)\n",
      "tensor(0.0943, dtype=torch.float64, grad_fn=<DivBackward0>)\n",
      "tensor(0.0945, dtype=torch.float64, grad_fn=<DivBackward0>)\n",
      "tensor(0.0940, dtype=torch.float64, grad_fn=<DivBackward0>)\n",
      "tensor(0.0939, dtype=torch.float64, grad_fn=<DivBackward0>)\n",
      "tensor(0.0940, dtype=torch.float64, grad_fn=<DivBackward0>)\n",
      "tensor(0.0940, dtype=torch.float64, grad_fn=<DivBackward0>)\n",
      "tensor(0.0939, dtype=torch.float64, grad_fn=<DivBackward0>)\n",
      "tensor(0.0940, dtype=torch.float64, grad_fn=<DivBackward0>)\n",
      "tensor(0.0942, dtype=torch.float64, grad_fn=<DivBackward0>)\n",
      "tensor(0.0939, dtype=torch.float64, grad_fn=<DivBackward0>)\n",
      "tensor(0.0938, dtype=torch.float64, grad_fn=<DivBackward0>)\n",
      "tensor(0.0938, dtype=torch.float64, grad_fn=<DivBackward0>)\n",
      "tensor(0.0936, dtype=torch.float64, grad_fn=<DivBackward0>)\n",
      "tensor(0.0939, dtype=torch.float64, grad_fn=<DivBackward0>)\n",
      "tensor(0.0938, dtype=torch.float64, grad_fn=<DivBackward0>)\n",
      "tensor(0.0935, dtype=torch.float64, grad_fn=<DivBackward0>)\n",
      "tensor(0.0937, dtype=torch.float64, grad_fn=<DivBackward0>)\n",
      "tensor(0.0936, dtype=torch.float64, grad_fn=<DivBackward0>)\n",
      "tensor(0.0936, dtype=torch.float64, grad_fn=<DivBackward0>)\n",
      "tensor(0.0936, dtype=torch.float64, grad_fn=<DivBackward0>)\n",
      "tensor(0.0933, dtype=torch.float64, grad_fn=<DivBackward0>)\n",
      "tensor(0.0933, dtype=torch.float64, grad_fn=<DivBackward0>)\n",
      "tensor(0.0935, dtype=torch.float64, grad_fn=<DivBackward0>)\n",
      "tensor(0.0935, dtype=torch.float64, grad_fn=<DivBackward0>)\n",
      "tensor(0.0934, dtype=torch.float64, grad_fn=<DivBackward0>)\n",
      "tensor(0.0933, dtype=torch.float64, grad_fn=<DivBackward0>)\n",
      "tensor(0.0933, dtype=torch.float64, grad_fn=<DivBackward0>)\n",
      "tensor(0.0931, dtype=torch.float64, grad_fn=<DivBackward0>)\n",
      "tensor(0.0932, dtype=torch.float64, grad_fn=<DivBackward0>)\n",
      "tensor(0.0934, dtype=torch.float64, grad_fn=<DivBackward0>)\n",
      "tensor(0.0932, dtype=torch.float64, grad_fn=<DivBackward0>)\n",
      "tensor(0.0934, dtype=torch.float64, grad_fn=<DivBackward0>)\n",
      "tensor(0.0935, dtype=torch.float64, grad_fn=<DivBackward0>)\n",
      "tensor(0.0934, dtype=torch.float64, grad_fn=<DivBackward0>)\n"
     ]
    }
   ],
   "source": [
    "for i in range(n_epochs):\n",
    "    loss_sum = 0\n",
    "    for _, (inputs, target) in enumerate(dataloader):\n",
    "        data = inputs[0]\n",
    "        cond = inputs[1]\n",
    "        \n",
    "        optimizer.zero_grad()\n",
    "        \n",
    "        mn, sd, sample_z, output = generator(data, cond)\n",
    "        \n",
    "        loss = criterion(mn = mn, sd = sd, outputs = output, targets = target, alpha = 0.003)\n",
    "        loss.backward()\n",
    "        \n",
    "        optimizer.step()\n",
    "        \n",
    "        loss_sum += loss\n",
    "    \n",
    "    if i % 10 == 0:\n",
    "        print(loss_sum / len(dataloader))"
   ]
  },
  {
   "cell_type": "markdown",
   "id": "033c47e1-24d5-4e20-b4d0-0cbc13e6277b",
   "metadata": {},
   "source": [
    "# Generate the process"
   ]
  },
  {
   "cell_type": "code",
   "execution_count": 19,
   "id": "a8fd1e4a-0ed1-4cba-b387-2d7bf6942a89",
   "metadata": {},
   "outputs": [],
   "source": [
    "# Pip size\n",
    "price_pip = 0.01\n",
    "spot_vol_pip = 0.0000045\n",
    "\n",
    "# Number of pips for search space\n",
    "price_n_pips = 100\n",
    "spot_vol_n_pips = 1000 \n",
    "# Number of points\n",
    "n_points = 100\n",
    "\n",
    "n_iterations = 50\n",
    "n_organisms = 100"
   ]
  },
  {
   "cell_type": "code",
   "execution_count": 20,
   "id": "202cc51b-e348-4356-b0a8-7768e7658c06",
   "metadata": {},
   "outputs": [
    {
     "data": {
      "application/vnd.jupyter.widget-view+json": {
       "model_id": "4e3c9ecf57d0405aa98b70a50ac842b2",
       "version_major": 2,
       "version_minor": 0
      },
      "text/plain": [
       "HBox(children=(FloatProgress(value=0.0, max=50.0), HTML(value='')))"
      ]
     },
     "metadata": {},
     "output_type": "display_data"
    },
    {
     "name": "stdout",
     "output_type": "stream",
     "text": [
      "\n"
     ]
    },
    {
     "data": {
      "application/vnd.jupyter.widget-view+json": {
       "model_id": "af3e92a37b5b4d2a8e96512e185e8b57",
       "version_major": 2,
       "version_minor": 0
      },
      "text/plain": [
       "HBox(children=(FloatProgress(value=0.0, max=50.0), HTML(value='')))"
      ]
     },
     "metadata": {},
     "output_type": "display_data"
    },
    {
     "name": "stdout",
     "output_type": "stream",
     "text": [
      "\n"
     ]
    },
    {
     "data": {
      "application/vnd.jupyter.widget-view+json": {
       "model_id": "eb641bdd66664a6db09663987a17dbde",
       "version_major": 2,
       "version_minor": 0
      },
      "text/plain": [
       "HBox(children=(FloatProgress(value=0.0, max=50.0), HTML(value='')))"
      ]
     },
     "metadata": {},
     "output_type": "display_data"
    },
    {
     "name": "stdout",
     "output_type": "stream",
     "text": [
      "\n"
     ]
    },
    {
     "data": {
      "application/vnd.jupyter.widget-view+json": {
       "model_id": "5315fe9c661b4dfc9c8f56192633cbb5",
       "version_major": 2,
       "version_minor": 0
      },
      "text/plain": [
       "HBox(children=(FloatProgress(value=0.0, max=50.0), HTML(value='')))"
      ]
     },
     "metadata": {},
     "output_type": "display_data"
    },
    {
     "name": "stdout",
     "output_type": "stream",
     "text": [
      "\n"
     ]
    },
    {
     "data": {
      "application/vnd.jupyter.widget-view+json": {
       "model_id": "e292c14b72c147ed8dcfe4d3806aa476",
       "version_major": 2,
       "version_minor": 0
      },
      "text/plain": [
       "HBox(children=(FloatProgress(value=0.0, max=50.0), HTML(value='')))"
      ]
     },
     "metadata": {},
     "output_type": "display_data"
    },
    {
     "name": "stdout",
     "output_type": "stream",
     "text": [
      "\n"
     ]
    },
    {
     "data": {
      "application/vnd.jupyter.widget-view+json": {
       "model_id": "a98773e1f5214aeeb98d4e0ce39124a1",
       "version_major": 2,
       "version_minor": 0
      },
      "text/plain": [
       "HBox(children=(FloatProgress(value=0.0, max=50.0), HTML(value='')))"
      ]
     },
     "metadata": {},
     "output_type": "display_data"
    },
    {
     "name": "stdout",
     "output_type": "stream",
     "text": [
      "\n"
     ]
    },
    {
     "data": {
      "application/vnd.jupyter.widget-view+json": {
       "model_id": "169e9abf7b9e468da593db1b57f5292a",
       "version_major": 2,
       "version_minor": 0
      },
      "text/plain": [
       "HBox(children=(FloatProgress(value=0.0, max=50.0), HTML(value='')))"
      ]
     },
     "metadata": {},
     "output_type": "display_data"
    },
    {
     "name": "stdout",
     "output_type": "stream",
     "text": [
      "\n"
     ]
    },
    {
     "data": {
      "application/vnd.jupyter.widget-view+json": {
       "model_id": "dffe8caa5bb542519006b3dbac6746b1",
       "version_major": 2,
       "version_minor": 0
      },
      "text/plain": [
       "HBox(children=(FloatProgress(value=0.0, max=50.0), HTML(value='')))"
      ]
     },
     "metadata": {},
     "output_type": "display_data"
    },
    {
     "name": "stdout",
     "output_type": "stream",
     "text": [
      "\n"
     ]
    },
    {
     "data": {
      "application/vnd.jupyter.widget-view+json": {
       "model_id": "90d0b3dfc24048cfbdb56973663549cb",
       "version_major": 2,
       "version_minor": 0
      },
      "text/plain": [
       "HBox(children=(FloatProgress(value=0.0, max=50.0), HTML(value='')))"
      ]
     },
     "metadata": {},
     "output_type": "display_data"
    },
    {
     "name": "stdout",
     "output_type": "stream",
     "text": [
      "\n"
     ]
    },
    {
     "data": {
      "application/vnd.jupyter.widget-view+json": {
       "model_id": "ca313fac704c4ce282fb99ef0c07ad8d",
       "version_major": 2,
       "version_minor": 0
      },
      "text/plain": [
       "HBox(children=(FloatProgress(value=0.0, max=50.0), HTML(value='')))"
      ]
     },
     "metadata": {},
     "output_type": "display_data"
    },
    {
     "name": "stdout",
     "output_type": "stream",
     "text": [
      "\n"
     ]
    },
    {
     "data": {
      "application/vnd.jupyter.widget-view+json": {
       "model_id": "a51318ad4f1f4710b32957ec0e18e2a7",
       "version_major": 2,
       "version_minor": 0
      },
      "text/plain": [
       "HBox(children=(FloatProgress(value=0.0, max=50.0), HTML(value='')))"
      ]
     },
     "metadata": {},
     "output_type": "display_data"
    },
    {
     "name": "stdout",
     "output_type": "stream",
     "text": [
      "\n"
     ]
    },
    {
     "data": {
      "application/vnd.jupyter.widget-view+json": {
       "model_id": "1f29f474d64c4623bf7f9c873807d16b",
       "version_major": 2,
       "version_minor": 0
      },
      "text/plain": [
       "HBox(children=(FloatProgress(value=0.0, max=50.0), HTML(value='')))"
      ]
     },
     "metadata": {},
     "output_type": "display_data"
    },
    {
     "name": "stdout",
     "output_type": "stream",
     "text": [
      "\n"
     ]
    },
    {
     "data": {
      "application/vnd.jupyter.widget-view+json": {
       "model_id": "da5bd628a4f04c8da059fffdd2e41849",
       "version_major": 2,
       "version_minor": 0
      },
      "text/plain": [
       "HBox(children=(FloatProgress(value=0.0, max=50.0), HTML(value='')))"
      ]
     },
     "metadata": {},
     "output_type": "display_data"
    },
    {
     "name": "stdout",
     "output_type": "stream",
     "text": [
      "\n"
     ]
    },
    {
     "data": {
      "application/vnd.jupyter.widget-view+json": {
       "model_id": "2a0c6c7f970b453e887b7ee4d3ac9ab2",
       "version_major": 2,
       "version_minor": 0
      },
      "text/plain": [
       "HBox(children=(FloatProgress(value=0.0, max=50.0), HTML(value='')))"
      ]
     },
     "metadata": {},
     "output_type": "display_data"
    },
    {
     "name": "stdout",
     "output_type": "stream",
     "text": [
      "\n"
     ]
    },
    {
     "data": {
      "application/vnd.jupyter.widget-view+json": {
       "model_id": "b1282b411ff9400bb148961eeb28d708",
       "version_major": 2,
       "version_minor": 0
      },
      "text/plain": [
       "HBox(children=(FloatProgress(value=0.0, max=50.0), HTML(value='')))"
      ]
     },
     "metadata": {},
     "output_type": "display_data"
    },
    {
     "name": "stdout",
     "output_type": "stream",
     "text": [
      "\n"
     ]
    },
    {
     "data": {
      "application/vnd.jupyter.widget-view+json": {
       "model_id": "2e5dd998651e4c84bdd1d7127d3ca2f2",
       "version_major": 2,
       "version_minor": 0
      },
      "text/plain": [
       "HBox(children=(FloatProgress(value=0.0, max=50.0), HTML(value='')))"
      ]
     },
     "metadata": {},
     "output_type": "display_data"
    },
    {
     "name": "stdout",
     "output_type": "stream",
     "text": [
      "\n"
     ]
    },
    {
     "data": {
      "application/vnd.jupyter.widget-view+json": {
       "model_id": "9cb91cc11b754c4e941b48dc1544043d",
       "version_major": 2,
       "version_minor": 0
      },
      "text/plain": [
       "HBox(children=(FloatProgress(value=0.0, max=50.0), HTML(value='')))"
      ]
     },
     "metadata": {},
     "output_type": "display_data"
    },
    {
     "name": "stdout",
     "output_type": "stream",
     "text": [
      "\n"
     ]
    },
    {
     "data": {
      "application/vnd.jupyter.widget-view+json": {
       "model_id": "aa5f33ba5c4f4adf94ab7d0a42306a74",
       "version_major": 2,
       "version_minor": 0
      },
      "text/plain": [
       "HBox(children=(FloatProgress(value=0.0, max=50.0), HTML(value='')))"
      ]
     },
     "metadata": {},
     "output_type": "display_data"
    },
    {
     "name": "stdout",
     "output_type": "stream",
     "text": [
      "\n"
     ]
    },
    {
     "data": {
      "application/vnd.jupyter.widget-view+json": {
       "model_id": "68ffaca12908456e97182770f9f5e186",
       "version_major": 2,
       "version_minor": 0
      },
      "text/plain": [
       "HBox(children=(FloatProgress(value=0.0, max=50.0), HTML(value='')))"
      ]
     },
     "metadata": {},
     "output_type": "display_data"
    },
    {
     "name": "stdout",
     "output_type": "stream",
     "text": [
      "\n"
     ]
    },
    {
     "data": {
      "application/vnd.jupyter.widget-view+json": {
       "model_id": "c38277471e7d4ea991594b6fe71b6bf5",
       "version_major": 2,
       "version_minor": 0
      },
      "text/plain": [
       "HBox(children=(FloatProgress(value=0.0, max=50.0), HTML(value='')))"
      ]
     },
     "metadata": {},
     "output_type": "display_data"
    },
    {
     "name": "stdout",
     "output_type": "stream",
     "text": [
      "\n"
     ]
    },
    {
     "data": {
      "application/vnd.jupyter.widget-view+json": {
       "model_id": "c180395d55214ff8b997b58f1591ebe8",
       "version_major": 2,
       "version_minor": 0
      },
      "text/plain": [
       "HBox(children=(FloatProgress(value=0.0, max=50.0), HTML(value='')))"
      ]
     },
     "metadata": {},
     "output_type": "display_data"
    },
    {
     "name": "stdout",
     "output_type": "stream",
     "text": [
      "\n"
     ]
    },
    {
     "data": {
      "application/vnd.jupyter.widget-view+json": {
       "model_id": "25d1fd8cf4924a35adc7614f2cdb70d9",
       "version_major": 2,
       "version_minor": 0
      },
      "text/plain": [
       "HBox(children=(FloatProgress(value=0.0, max=50.0), HTML(value='')))"
      ]
     },
     "metadata": {},
     "output_type": "display_data"
    },
    {
     "name": "stdout",
     "output_type": "stream",
     "text": [
      "\n"
     ]
    },
    {
     "data": {
      "application/vnd.jupyter.widget-view+json": {
       "model_id": "616b6989a78048d9bbb033afd4943db8",
       "version_major": 2,
       "version_minor": 0
      },
      "text/plain": [
       "HBox(children=(FloatProgress(value=0.0, max=50.0), HTML(value='')))"
      ]
     },
     "metadata": {},
     "output_type": "display_data"
    },
    {
     "name": "stdout",
     "output_type": "stream",
     "text": [
      "\n"
     ]
    },
    {
     "data": {
      "application/vnd.jupyter.widget-view+json": {
       "model_id": "280d54892cb341b4a32530cd524cdb55",
       "version_major": 2,
       "version_minor": 0
      },
      "text/plain": [
       "HBox(children=(FloatProgress(value=0.0, max=50.0), HTML(value='')))"
      ]
     },
     "metadata": {},
     "output_type": "display_data"
    },
    {
     "name": "stdout",
     "output_type": "stream",
     "text": [
      "\n"
     ]
    },
    {
     "data": {
      "application/vnd.jupyter.widget-view+json": {
       "model_id": "3875fd3d06c9402bb5380fb6683853cb",
       "version_major": 2,
       "version_minor": 0
      },
      "text/plain": [
       "HBox(children=(FloatProgress(value=0.0, max=50.0), HTML(value='')))"
      ]
     },
     "metadata": {},
     "output_type": "display_data"
    },
    {
     "name": "stdout",
     "output_type": "stream",
     "text": [
      "\n"
     ]
    },
    {
     "data": {
      "application/vnd.jupyter.widget-view+json": {
       "model_id": "8b1bcb4024fa415782237b56690c8435",
       "version_major": 2,
       "version_minor": 0
      },
      "text/plain": [
       "HBox(children=(FloatProgress(value=0.0, max=50.0), HTML(value='')))"
      ]
     },
     "metadata": {},
     "output_type": "display_data"
    },
    {
     "name": "stdout",
     "output_type": "stream",
     "text": [
      "\n"
     ]
    },
    {
     "data": {
      "application/vnd.jupyter.widget-view+json": {
       "model_id": "de3bc40cbf354c5192b905de04ce9883",
       "version_major": 2,
       "version_minor": 0
      },
      "text/plain": [
       "HBox(children=(FloatProgress(value=0.0, max=50.0), HTML(value='')))"
      ]
     },
     "metadata": {},
     "output_type": "display_data"
    },
    {
     "name": "stdout",
     "output_type": "stream",
     "text": [
      "\n"
     ]
    },
    {
     "data": {
      "application/vnd.jupyter.widget-view+json": {
       "model_id": "b19f951a28894c8c8802c9cecc0c54a6",
       "version_major": 2,
       "version_minor": 0
      },
      "text/plain": [
       "HBox(children=(FloatProgress(value=0.0, max=50.0), HTML(value='')))"
      ]
     },
     "metadata": {},
     "output_type": "display_data"
    },
    {
     "name": "stdout",
     "output_type": "stream",
     "text": [
      "\n"
     ]
    },
    {
     "data": {
      "application/vnd.jupyter.widget-view+json": {
       "model_id": "6da8866a3b444cda96894f0b06959558",
       "version_major": 2,
       "version_minor": 0
      },
      "text/plain": [
       "HBox(children=(FloatProgress(value=0.0, max=50.0), HTML(value='')))"
      ]
     },
     "metadata": {},
     "output_type": "display_data"
    },
    {
     "name": "stdout",
     "output_type": "stream",
     "text": [
      "\n"
     ]
    },
    {
     "data": {
      "application/vnd.jupyter.widget-view+json": {
       "model_id": "8d59830590a74f959be058035daf2ef0",
       "version_major": 2,
       "version_minor": 0
      },
      "text/plain": [
       "HBox(children=(FloatProgress(value=0.0, max=50.0), HTML(value='')))"
      ]
     },
     "metadata": {},
     "output_type": "display_data"
    },
    {
     "name": "stdout",
     "output_type": "stream",
     "text": [
      "\n"
     ]
    },
    {
     "data": {
      "application/vnd.jupyter.widget-view+json": {
       "model_id": "1546c40f3f2a484a96c800f7bb048d17",
       "version_major": 2,
       "version_minor": 0
      },
      "text/plain": [
       "HBox(children=(FloatProgress(value=0.0, max=50.0), HTML(value='')))"
      ]
     },
     "metadata": {},
     "output_type": "display_data"
    },
    {
     "name": "stdout",
     "output_type": "stream",
     "text": [
      "\n"
     ]
    },
    {
     "data": {
      "application/vnd.jupyter.widget-view+json": {
       "model_id": "cb3bebb4e29f4a7a8474f254d1854aa8",
       "version_major": 2,
       "version_minor": 0
      },
      "text/plain": [
       "HBox(children=(FloatProgress(value=0.0, max=50.0), HTML(value='')))"
      ]
     },
     "metadata": {},
     "output_type": "display_data"
    },
    {
     "name": "stdout",
     "output_type": "stream",
     "text": [
      "\n"
     ]
    },
    {
     "data": {
      "application/vnd.jupyter.widget-view+json": {
       "model_id": "36b41c09a0194f55a20b5efcf08736dd",
       "version_major": 2,
       "version_minor": 0
      },
      "text/plain": [
       "HBox(children=(FloatProgress(value=0.0, max=50.0), HTML(value='')))"
      ]
     },
     "metadata": {},
     "output_type": "display_data"
    },
    {
     "name": "stdout",
     "output_type": "stream",
     "text": [
      "\n"
     ]
    },
    {
     "data": {
      "application/vnd.jupyter.widget-view+json": {
       "model_id": "d5dc4cb2171349a0b584245bdc68cd1e",
       "version_major": 2,
       "version_minor": 0
      },
      "text/plain": [
       "HBox(children=(FloatProgress(value=0.0, max=50.0), HTML(value='')))"
      ]
     },
     "metadata": {},
     "output_type": "display_data"
    },
    {
     "name": "stdout",
     "output_type": "stream",
     "text": [
      "\n"
     ]
    },
    {
     "data": {
      "application/vnd.jupyter.widget-view+json": {
       "model_id": "71f89f4ec0174309a3c1f85a388d91a5",
       "version_major": 2,
       "version_minor": 0
      },
      "text/plain": [
       "HBox(children=(FloatProgress(value=0.0, max=50.0), HTML(value='')))"
      ]
     },
     "metadata": {},
     "output_type": "display_data"
    },
    {
     "name": "stdout",
     "output_type": "stream",
     "text": [
      "\n"
     ]
    },
    {
     "data": {
      "application/vnd.jupyter.widget-view+json": {
       "model_id": "5105d5c86d724e90933f76e1b3940445",
       "version_major": 2,
       "version_minor": 0
      },
      "text/plain": [
       "HBox(children=(FloatProgress(value=0.0, max=50.0), HTML(value='')))"
      ]
     },
     "metadata": {},
     "output_type": "display_data"
    },
    {
     "name": "stdout",
     "output_type": "stream",
     "text": [
      "\n"
     ]
    },
    {
     "data": {
      "application/vnd.jupyter.widget-view+json": {
       "model_id": "231177d594ee4c2c8fe2ff27cab2e526",
       "version_major": 2,
       "version_minor": 0
      },
      "text/plain": [
       "HBox(children=(FloatProgress(value=0.0, max=50.0), HTML(value='')))"
      ]
     },
     "metadata": {},
     "output_type": "display_data"
    },
    {
     "name": "stdout",
     "output_type": "stream",
     "text": [
      "\n"
     ]
    },
    {
     "data": {
      "application/vnd.jupyter.widget-view+json": {
       "model_id": "ffc71ccff6e6413d902d12ab265df2d4",
       "version_major": 2,
       "version_minor": 0
      },
      "text/plain": [
       "HBox(children=(FloatProgress(value=0.0, max=50.0), HTML(value='')))"
      ]
     },
     "metadata": {},
     "output_type": "display_data"
    },
    {
     "name": "stdout",
     "output_type": "stream",
     "text": [
      "\n"
     ]
    },
    {
     "data": {
      "application/vnd.jupyter.widget-view+json": {
       "model_id": "84718d022c324ba8a796b6fdeca3bcc2",
       "version_major": 2,
       "version_minor": 0
      },
      "text/plain": [
       "HBox(children=(FloatProgress(value=0.0, max=50.0), HTML(value='')))"
      ]
     },
     "metadata": {},
     "output_type": "display_data"
    },
    {
     "name": "stdout",
     "output_type": "stream",
     "text": [
      "\n"
     ]
    },
    {
     "data": {
      "application/vnd.jupyter.widget-view+json": {
       "model_id": "69a7f13e419846bebcbcab24e78453dd",
       "version_major": 2,
       "version_minor": 0
      },
      "text/plain": [
       "HBox(children=(FloatProgress(value=0.0, max=50.0), HTML(value='')))"
      ]
     },
     "metadata": {},
     "output_type": "display_data"
    },
    {
     "name": "stdout",
     "output_type": "stream",
     "text": [
      "\n"
     ]
    },
    {
     "data": {
      "application/vnd.jupyter.widget-view+json": {
       "model_id": "49082128350c48858ebaea0d7cb974ec",
       "version_major": 2,
       "version_minor": 0
      },
      "text/plain": [
       "HBox(children=(FloatProgress(value=0.0, max=50.0), HTML(value='')))"
      ]
     },
     "metadata": {},
     "output_type": "display_data"
    },
    {
     "name": "stdout",
     "output_type": "stream",
     "text": [
      "\n"
     ]
    },
    {
     "data": {
      "application/vnd.jupyter.widget-view+json": {
       "model_id": "c0cf01a30c2d4bb9ab07d7f95f29805d",
       "version_major": 2,
       "version_minor": 0
      },
      "text/plain": [
       "HBox(children=(FloatProgress(value=0.0, max=50.0), HTML(value='')))"
      ]
     },
     "metadata": {},
     "output_type": "display_data"
    },
    {
     "name": "stdout",
     "output_type": "stream",
     "text": [
      "\n"
     ]
    },
    {
     "data": {
      "application/vnd.jupyter.widget-view+json": {
       "model_id": "54c2d7a9d91e4bd2a9e38b2786c26b96",
       "version_major": 2,
       "version_minor": 0
      },
      "text/plain": [
       "HBox(children=(FloatProgress(value=0.0, max=50.0), HTML(value='')))"
      ]
     },
     "metadata": {},
     "output_type": "display_data"
    },
    {
     "name": "stdout",
     "output_type": "stream",
     "text": [
      "\n"
     ]
    },
    {
     "data": {
      "application/vnd.jupyter.widget-view+json": {
       "model_id": "dd1805a24e0c489f963575ce8555219e",
       "version_major": 2,
       "version_minor": 0
      },
      "text/plain": [
       "HBox(children=(FloatProgress(value=0.0, max=50.0), HTML(value='')))"
      ]
     },
     "metadata": {},
     "output_type": "display_data"
    },
    {
     "name": "stdout",
     "output_type": "stream",
     "text": [
      "\n"
     ]
    },
    {
     "data": {
      "application/vnd.jupyter.widget-view+json": {
       "model_id": "b7a1966eeb9748269643e0c8f84b9c10",
       "version_major": 2,
       "version_minor": 0
      },
      "text/plain": [
       "HBox(children=(FloatProgress(value=0.0, max=50.0), HTML(value='')))"
      ]
     },
     "metadata": {},
     "output_type": "display_data"
    },
    {
     "name": "stdout",
     "output_type": "stream",
     "text": [
      "\n"
     ]
    },
    {
     "data": {
      "application/vnd.jupyter.widget-view+json": {
       "model_id": "9dbc927e78ea42bf8a2926ff7d6abb37",
       "version_major": 2,
       "version_minor": 0
      },
      "text/plain": [
       "HBox(children=(FloatProgress(value=0.0, max=50.0), HTML(value='')))"
      ]
     },
     "metadata": {},
     "output_type": "display_data"
    },
    {
     "name": "stdout",
     "output_type": "stream",
     "text": [
      "\n"
     ]
    },
    {
     "data": {
      "application/vnd.jupyter.widget-view+json": {
       "model_id": "1e022ccc43de43afac1ebc55768b3a2d",
       "version_major": 2,
       "version_minor": 0
      },
      "text/plain": [
       "HBox(children=(FloatProgress(value=0.0, max=50.0), HTML(value='')))"
      ]
     },
     "metadata": {},
     "output_type": "display_data"
    },
    {
     "name": "stdout",
     "output_type": "stream",
     "text": [
      "\n"
     ]
    },
    {
     "data": {
      "application/vnd.jupyter.widget-view+json": {
       "model_id": "acc16b71f67f44ab8ebd3afcb7f53b4a",
       "version_major": 2,
       "version_minor": 0
      },
      "text/plain": [
       "HBox(children=(FloatProgress(value=0.0, max=50.0), HTML(value='')))"
      ]
     },
     "metadata": {},
     "output_type": "display_data"
    },
    {
     "name": "stdout",
     "output_type": "stream",
     "text": [
      "\n"
     ]
    },
    {
     "data": {
      "application/vnd.jupyter.widget-view+json": {
       "model_id": "b9a03ec1749645ad8d08618beba4bff6",
       "version_major": 2,
       "version_minor": 0
      },
      "text/plain": [
       "HBox(children=(FloatProgress(value=0.0, max=50.0), HTML(value='')))"
      ]
     },
     "metadata": {},
     "output_type": "display_data"
    },
    {
     "name": "stdout",
     "output_type": "stream",
     "text": [
      "\n"
     ]
    },
    {
     "data": {
      "application/vnd.jupyter.widget-view+json": {
       "model_id": "bd6926213efc4558a8ed9661e24f255e",
       "version_major": 2,
       "version_minor": 0
      },
      "text/plain": [
       "HBox(children=(FloatProgress(value=0.0, max=50.0), HTML(value='')))"
      ]
     },
     "metadata": {},
     "output_type": "display_data"
    },
    {
     "name": "stdout",
     "output_type": "stream",
     "text": [
      "\n"
     ]
    },
    {
     "data": {
      "application/vnd.jupyter.widget-view+json": {
       "model_id": "4392c86e42384742b5eb4e34538799ef",
       "version_major": 2,
       "version_minor": 0
      },
      "text/plain": [
       "HBox(children=(FloatProgress(value=0.0, max=50.0), HTML(value='')))"
      ]
     },
     "metadata": {},
     "output_type": "display_data"
    },
    {
     "name": "stdout",
     "output_type": "stream",
     "text": [
      "\n"
     ]
    },
    {
     "data": {
      "application/vnd.jupyter.widget-view+json": {
       "model_id": "94056e2fda5245eaa53b844d414c62c5",
       "version_major": 2,
       "version_minor": 0
      },
      "text/plain": [
       "HBox(children=(FloatProgress(value=0.0, max=50.0), HTML(value='')))"
      ]
     },
     "metadata": {},
     "output_type": "display_data"
    },
    {
     "name": "stdout",
     "output_type": "stream",
     "text": [
      "\n"
     ]
    },
    {
     "data": {
      "application/vnd.jupyter.widget-view+json": {
       "model_id": "3ef78116e76146e4b32d7718e6546f55",
       "version_major": 2,
       "version_minor": 0
      },
      "text/plain": [
       "HBox(children=(FloatProgress(value=0.0, max=50.0), HTML(value='')))"
      ]
     },
     "metadata": {},
     "output_type": "display_data"
    },
    {
     "name": "stdout",
     "output_type": "stream",
     "text": [
      "\n"
     ]
    },
    {
     "data": {
      "application/vnd.jupyter.widget-view+json": {
       "model_id": "db56e25e9d684031b084f3416ee2b447",
       "version_major": 2,
       "version_minor": 0
      },
      "text/plain": [
       "HBox(children=(FloatProgress(value=0.0, max=50.0), HTML(value='')))"
      ]
     },
     "metadata": {},
     "output_type": "display_data"
    },
    {
     "name": "stdout",
     "output_type": "stream",
     "text": [
      "\n"
     ]
    },
    {
     "data": {
      "application/vnd.jupyter.widget-view+json": {
       "model_id": "4e0df6eed4a6424a984aa688c6868956",
       "version_major": 2,
       "version_minor": 0
      },
      "text/plain": [
       "HBox(children=(FloatProgress(value=0.0, max=50.0), HTML(value='')))"
      ]
     },
     "metadata": {},
     "output_type": "display_data"
    },
    {
     "name": "stdout",
     "output_type": "stream",
     "text": [
      "\n"
     ]
    },
    {
     "data": {
      "application/vnd.jupyter.widget-view+json": {
       "model_id": "f5efc10f207443d0878318a5082c661a",
       "version_major": 2,
       "version_minor": 0
      },
      "text/plain": [
       "HBox(children=(FloatProgress(value=0.0, max=50.0), HTML(value='')))"
      ]
     },
     "metadata": {},
     "output_type": "display_data"
    },
    {
     "name": "stdout",
     "output_type": "stream",
     "text": [
      "\n"
     ]
    },
    {
     "data": {
      "application/vnd.jupyter.widget-view+json": {
       "model_id": "85ca3a8a79a14e69b722a346f5b58661",
       "version_major": 2,
       "version_minor": 0
      },
      "text/plain": [
       "HBox(children=(FloatProgress(value=0.0, max=50.0), HTML(value='')))"
      ]
     },
     "metadata": {},
     "output_type": "display_data"
    },
    {
     "name": "stdout",
     "output_type": "stream",
     "text": [
      "\n"
     ]
    },
    {
     "data": {
      "application/vnd.jupyter.widget-view+json": {
       "model_id": "b05953aaea854c0b8e2a7e9959137a8e",
       "version_major": 2,
       "version_minor": 0
      },
      "text/plain": [
       "HBox(children=(FloatProgress(value=0.0, max=50.0), HTML(value='')))"
      ]
     },
     "metadata": {},
     "output_type": "display_data"
    },
    {
     "name": "stdout",
     "output_type": "stream",
     "text": [
      "\n"
     ]
    },
    {
     "data": {
      "application/vnd.jupyter.widget-view+json": {
       "model_id": "4bfaec0c88cc4998b171e6b4fc733f07",
       "version_major": 2,
       "version_minor": 0
      },
      "text/plain": [
       "HBox(children=(FloatProgress(value=0.0, max=50.0), HTML(value='')))"
      ]
     },
     "metadata": {},
     "output_type": "display_data"
    },
    {
     "name": "stdout",
     "output_type": "stream",
     "text": [
      "\n"
     ]
    },
    {
     "data": {
      "application/vnd.jupyter.widget-view+json": {
       "model_id": "7324a308a8194b3389c88d0791109dfa",
       "version_major": 2,
       "version_minor": 0
      },
      "text/plain": [
       "HBox(children=(FloatProgress(value=0.0, max=50.0), HTML(value='')))"
      ]
     },
     "metadata": {},
     "output_type": "display_data"
    },
    {
     "name": "stdout",
     "output_type": "stream",
     "text": [
      "\n"
     ]
    },
    {
     "data": {
      "application/vnd.jupyter.widget-view+json": {
       "model_id": "da4cf7b93a4e4de7b273a7ab02cbce2c",
       "version_major": 2,
       "version_minor": 0
      },
      "text/plain": [
       "HBox(children=(FloatProgress(value=0.0, max=50.0), HTML(value='')))"
      ]
     },
     "metadata": {},
     "output_type": "display_data"
    },
    {
     "name": "stdout",
     "output_type": "stream",
     "text": [
      "\n"
     ]
    },
    {
     "data": {
      "application/vnd.jupyter.widget-view+json": {
       "model_id": "a7d2b3edcd31432098ca115c874917b2",
       "version_major": 2,
       "version_minor": 0
      },
      "text/plain": [
       "HBox(children=(FloatProgress(value=0.0, max=50.0), HTML(value='')))"
      ]
     },
     "metadata": {},
     "output_type": "display_data"
    },
    {
     "name": "stdout",
     "output_type": "stream",
     "text": [
      "\n"
     ]
    },
    {
     "data": {
      "application/vnd.jupyter.widget-view+json": {
       "model_id": "ea4261caf9bc42cfb27a09b02c14df90",
       "version_major": 2,
       "version_minor": 0
      },
      "text/plain": [
       "HBox(children=(FloatProgress(value=0.0, max=50.0), HTML(value='')))"
      ]
     },
     "metadata": {},
     "output_type": "display_data"
    },
    {
     "name": "stdout",
     "output_type": "stream",
     "text": [
      "\n"
     ]
    },
    {
     "data": {
      "application/vnd.jupyter.widget-view+json": {
       "model_id": "ad946f8e084d4278a2af3f331d88979f",
       "version_major": 2,
       "version_minor": 0
      },
      "text/plain": [
       "HBox(children=(FloatProgress(value=0.0, max=50.0), HTML(value='')))"
      ]
     },
     "metadata": {},
     "output_type": "display_data"
    },
    {
     "name": "stdout",
     "output_type": "stream",
     "text": [
      "\n"
     ]
    },
    {
     "data": {
      "application/vnd.jupyter.widget-view+json": {
       "model_id": "dcf4f4ab06814d96b4ac5b1f9f21a168",
       "version_major": 2,
       "version_minor": 0
      },
      "text/plain": [
       "HBox(children=(FloatProgress(value=0.0, max=50.0), HTML(value='')))"
      ]
     },
     "metadata": {},
     "output_type": "display_data"
    },
    {
     "name": "stdout",
     "output_type": "stream",
     "text": [
      "\n"
     ]
    },
    {
     "data": {
      "application/vnd.jupyter.widget-view+json": {
       "model_id": "52e4cff09349431e834ff88a2dca7fb7",
       "version_major": 2,
       "version_minor": 0
      },
      "text/plain": [
       "HBox(children=(FloatProgress(value=0.0, max=50.0), HTML(value='')))"
      ]
     },
     "metadata": {},
     "output_type": "display_data"
    },
    {
     "name": "stdout",
     "output_type": "stream",
     "text": [
      "\n"
     ]
    },
    {
     "data": {
      "application/vnd.jupyter.widget-view+json": {
       "model_id": "615e19bd81b04c3fad5298c9b390c00e",
       "version_major": 2,
       "version_minor": 0
      },
      "text/plain": [
       "HBox(children=(FloatProgress(value=0.0, max=50.0), HTML(value='')))"
      ]
     },
     "metadata": {},
     "output_type": "display_data"
    },
    {
     "name": "stdout",
     "output_type": "stream",
     "text": [
      "\n"
     ]
    },
    {
     "data": {
      "application/vnd.jupyter.widget-view+json": {
       "model_id": "f118f6d54e6644529565e155fe04892c",
       "version_major": 2,
       "version_minor": 0
      },
      "text/plain": [
       "HBox(children=(FloatProgress(value=0.0, max=50.0), HTML(value='')))"
      ]
     },
     "metadata": {},
     "output_type": "display_data"
    },
    {
     "name": "stdout",
     "output_type": "stream",
     "text": [
      "\n"
     ]
    },
    {
     "data": {
      "application/vnd.jupyter.widget-view+json": {
       "model_id": "7843f6b6a33e405e80fe97d747c91cd6",
       "version_major": 2,
       "version_minor": 0
      },
      "text/plain": [
       "HBox(children=(FloatProgress(value=0.0, max=50.0), HTML(value='')))"
      ]
     },
     "metadata": {},
     "output_type": "display_data"
    },
    {
     "name": "stdout",
     "output_type": "stream",
     "text": [
      "\n"
     ]
    },
    {
     "data": {
      "application/vnd.jupyter.widget-view+json": {
       "model_id": "c8d8205b6a0b40a3ae10321cd7df553b",
       "version_major": 2,
       "version_minor": 0
      },
      "text/plain": [
       "HBox(children=(FloatProgress(value=0.0, max=50.0), HTML(value='')))"
      ]
     },
     "metadata": {},
     "output_type": "display_data"
    },
    {
     "name": "stdout",
     "output_type": "stream",
     "text": [
      "\n"
     ]
    },
    {
     "data": {
      "application/vnd.jupyter.widget-view+json": {
       "model_id": "03c0bf3fc3c945ffbbd22d52004899c1",
       "version_major": 2,
       "version_minor": 0
      },
      "text/plain": [
       "HBox(children=(FloatProgress(value=0.0, max=50.0), HTML(value='')))"
      ]
     },
     "metadata": {},
     "output_type": "display_data"
    },
    {
     "name": "stdout",
     "output_type": "stream",
     "text": [
      "\n"
     ]
    },
    {
     "data": {
      "application/vnd.jupyter.widget-view+json": {
       "model_id": "a3bf5e8903624257ba1c7f53bb9b213f",
       "version_major": 2,
       "version_minor": 0
      },
      "text/plain": [
       "HBox(children=(FloatProgress(value=0.0, max=50.0), HTML(value='')))"
      ]
     },
     "metadata": {},
     "output_type": "display_data"
    },
    {
     "name": "stdout",
     "output_type": "stream",
     "text": [
      "\n"
     ]
    },
    {
     "data": {
      "application/vnd.jupyter.widget-view+json": {
       "model_id": "b73c46eec9f343a9b785de5bb551853e",
       "version_major": 2,
       "version_minor": 0
      },
      "text/plain": [
       "HBox(children=(FloatProgress(value=0.0, max=50.0), HTML(value='')))"
      ]
     },
     "metadata": {},
     "output_type": "display_data"
    },
    {
     "name": "stdout",
     "output_type": "stream",
     "text": [
      "\n"
     ]
    },
    {
     "data": {
      "application/vnd.jupyter.widget-view+json": {
       "model_id": "121ff2b9c6a34856a6b93e3c9967cbfc",
       "version_major": 2,
       "version_minor": 0
      },
      "text/plain": [
       "HBox(children=(FloatProgress(value=0.0, max=50.0), HTML(value='')))"
      ]
     },
     "metadata": {},
     "output_type": "display_data"
    },
    {
     "name": "stdout",
     "output_type": "stream",
     "text": [
      "\n"
     ]
    },
    {
     "data": {
      "application/vnd.jupyter.widget-view+json": {
       "model_id": "186b1430e7de49b38a13ecec65a5da8f",
       "version_major": 2,
       "version_minor": 0
      },
      "text/plain": [
       "HBox(children=(FloatProgress(value=0.0, max=50.0), HTML(value='')))"
      ]
     },
     "metadata": {},
     "output_type": "display_data"
    },
    {
     "name": "stdout",
     "output_type": "stream",
     "text": [
      "\n"
     ]
    },
    {
     "data": {
      "application/vnd.jupyter.widget-view+json": {
       "model_id": "37bfe9afff284e918682ec5d9821925b",
       "version_major": 2,
       "version_minor": 0
      },
      "text/plain": [
       "HBox(children=(FloatProgress(value=0.0, max=50.0), HTML(value='')))"
      ]
     },
     "metadata": {},
     "output_type": "display_data"
    },
    {
     "name": "stdout",
     "output_type": "stream",
     "text": [
      "\n"
     ]
    },
    {
     "data": {
      "application/vnd.jupyter.widget-view+json": {
       "model_id": "fa697b020df74437a431e79eb7f630bb",
       "version_major": 2,
       "version_minor": 0
      },
      "text/plain": [
       "HBox(children=(FloatProgress(value=0.0, max=50.0), HTML(value='')))"
      ]
     },
     "metadata": {},
     "output_type": "display_data"
    },
    {
     "name": "stdout",
     "output_type": "stream",
     "text": [
      "\n"
     ]
    },
    {
     "data": {
      "application/vnd.jupyter.widget-view+json": {
       "model_id": "c70b21c2c9594f8aaebd56b32046dc8c",
       "version_major": 2,
       "version_minor": 0
      },
      "text/plain": [
       "HBox(children=(FloatProgress(value=0.0, max=50.0), HTML(value='')))"
      ]
     },
     "metadata": {},
     "output_type": "display_data"
    },
    {
     "name": "stdout",
     "output_type": "stream",
     "text": [
      "\n"
     ]
    },
    {
     "data": {
      "application/vnd.jupyter.widget-view+json": {
       "model_id": "36503a712f7c46a68389598193d5cbdd",
       "version_major": 2,
       "version_minor": 0
      },
      "text/plain": [
       "HBox(children=(FloatProgress(value=0.0, max=50.0), HTML(value='')))"
      ]
     },
     "metadata": {},
     "output_type": "display_data"
    },
    {
     "name": "stdout",
     "output_type": "stream",
     "text": [
      "\n"
     ]
    },
    {
     "data": {
      "application/vnd.jupyter.widget-view+json": {
       "model_id": "bfe3d89b89e843828ca08f8386bf97a6",
       "version_major": 2,
       "version_minor": 0
      },
      "text/plain": [
       "HBox(children=(FloatProgress(value=0.0, max=50.0), HTML(value='')))"
      ]
     },
     "metadata": {},
     "output_type": "display_data"
    },
    {
     "name": "stdout",
     "output_type": "stream",
     "text": [
      "\n"
     ]
    },
    {
     "data": {
      "application/vnd.jupyter.widget-view+json": {
       "model_id": "ec5bf34eca2f484e9e63bbd46f595b35",
       "version_major": 2,
       "version_minor": 0
      },
      "text/plain": [
       "HBox(children=(FloatProgress(value=0.0, max=50.0), HTML(value='')))"
      ]
     },
     "metadata": {},
     "output_type": "display_data"
    },
    {
     "name": "stdout",
     "output_type": "stream",
     "text": [
      "\n"
     ]
    },
    {
     "data": {
      "application/vnd.jupyter.widget-view+json": {
       "model_id": "8d3de9842eb142bfb0377da46fc670f5",
       "version_major": 2,
       "version_minor": 0
      },
      "text/plain": [
       "HBox(children=(FloatProgress(value=0.0, max=50.0), HTML(value='')))"
      ]
     },
     "metadata": {},
     "output_type": "display_data"
    },
    {
     "name": "stdout",
     "output_type": "stream",
     "text": [
      "\n"
     ]
    },
    {
     "data": {
      "application/vnd.jupyter.widget-view+json": {
       "model_id": "c6dda4b3456641f8acfd8bef95060890",
       "version_major": 2,
       "version_minor": 0
      },
      "text/plain": [
       "HBox(children=(FloatProgress(value=0.0, max=50.0), HTML(value='')))"
      ]
     },
     "metadata": {},
     "output_type": "display_data"
    },
    {
     "name": "stdout",
     "output_type": "stream",
     "text": [
      "\n"
     ]
    },
    {
     "data": {
      "application/vnd.jupyter.widget-view+json": {
       "model_id": "64f30aa824794dd8a13c9b06b3badc63",
       "version_major": 2,
       "version_minor": 0
      },
      "text/plain": [
       "HBox(children=(FloatProgress(value=0.0, max=50.0), HTML(value='')))"
      ]
     },
     "metadata": {},
     "output_type": "display_data"
    },
    {
     "name": "stdout",
     "output_type": "stream",
     "text": [
      "\n"
     ]
    },
    {
     "data": {
      "application/vnd.jupyter.widget-view+json": {
       "model_id": "6a387f141e204f20a77b595d6862b39e",
       "version_major": 2,
       "version_minor": 0
      },
      "text/plain": [
       "HBox(children=(FloatProgress(value=0.0, max=50.0), HTML(value='')))"
      ]
     },
     "metadata": {},
     "output_type": "display_data"
    },
    {
     "name": "stdout",
     "output_type": "stream",
     "text": [
      "\n"
     ]
    },
    {
     "data": {
      "application/vnd.jupyter.widget-view+json": {
       "model_id": "f83d1d0ffb4c46ba8f5027d60884ba3c",
       "version_major": 2,
       "version_minor": 0
      },
      "text/plain": [
       "HBox(children=(FloatProgress(value=0.0, max=50.0), HTML(value='')))"
      ]
     },
     "metadata": {},
     "output_type": "display_data"
    },
    {
     "name": "stdout",
     "output_type": "stream",
     "text": [
      "\n"
     ]
    },
    {
     "data": {
      "application/vnd.jupyter.widget-view+json": {
       "model_id": "9518c4f8fa574603905e0dd8e69d6dbf",
       "version_major": 2,
       "version_minor": 0
      },
      "text/plain": [
       "HBox(children=(FloatProgress(value=0.0, max=50.0), HTML(value='')))"
      ]
     },
     "metadata": {},
     "output_type": "display_data"
    },
    {
     "name": "stdout",
     "output_type": "stream",
     "text": [
      "\n"
     ]
    },
    {
     "data": {
      "application/vnd.jupyter.widget-view+json": {
       "model_id": "afeef91aa3064d9bb980911907b11b6a",
       "version_major": 2,
       "version_minor": 0
      },
      "text/plain": [
       "HBox(children=(FloatProgress(value=0.0, max=50.0), HTML(value='')))"
      ]
     },
     "metadata": {},
     "output_type": "display_data"
    },
    {
     "name": "stdout",
     "output_type": "stream",
     "text": [
      "\n"
     ]
    },
    {
     "data": {
      "application/vnd.jupyter.widget-view+json": {
       "model_id": "22b6dea5e29e4df894c3d1695c7ca0bf",
       "version_major": 2,
       "version_minor": 0
      },
      "text/plain": [
       "HBox(children=(FloatProgress(value=0.0, max=50.0), HTML(value='')))"
      ]
     },
     "metadata": {},
     "output_type": "display_data"
    },
    {
     "name": "stdout",
     "output_type": "stream",
     "text": [
      "\n"
     ]
    },
    {
     "data": {
      "application/vnd.jupyter.widget-view+json": {
       "model_id": "e28ce427ebfe45d88f9702f3c614306b",
       "version_major": 2,
       "version_minor": 0
      },
      "text/plain": [
       "HBox(children=(FloatProgress(value=0.0, max=50.0), HTML(value='')))"
      ]
     },
     "metadata": {},
     "output_type": "display_data"
    },
    {
     "name": "stdout",
     "output_type": "stream",
     "text": [
      "\n"
     ]
    },
    {
     "data": {
      "application/vnd.jupyter.widget-view+json": {
       "model_id": "0e3cb9651adc454d81573b32cbf9ab1f",
       "version_major": 2,
       "version_minor": 0
      },
      "text/plain": [
       "HBox(children=(FloatProgress(value=0.0, max=50.0), HTML(value='')))"
      ]
     },
     "metadata": {},
     "output_type": "display_data"
    },
    {
     "name": "stdout",
     "output_type": "stream",
     "text": [
      "\n"
     ]
    },
    {
     "data": {
      "application/vnd.jupyter.widget-view+json": {
       "model_id": "a0a3e8f207fc4182ad044b069c3d5a2e",
       "version_major": 2,
       "version_minor": 0
      },
      "text/plain": [
       "HBox(children=(FloatProgress(value=0.0, max=50.0), HTML(value='')))"
      ]
     },
     "metadata": {},
     "output_type": "display_data"
    },
    {
     "name": "stdout",
     "output_type": "stream",
     "text": [
      "\n"
     ]
    },
    {
     "data": {
      "application/vnd.jupyter.widget-view+json": {
       "model_id": "c1ac71111f2146489e1d97ae4a39f034",
       "version_major": 2,
       "version_minor": 0
      },
      "text/plain": [
       "HBox(children=(FloatProgress(value=0.0, max=50.0), HTML(value='')))"
      ]
     },
     "metadata": {},
     "output_type": "display_data"
    },
    {
     "name": "stdout",
     "output_type": "stream",
     "text": [
      "\n"
     ]
    },
    {
     "data": {
      "application/vnd.jupyter.widget-view+json": {
       "model_id": "769def33f7004b41b3c1a54b942db256",
       "version_major": 2,
       "version_minor": 0
      },
      "text/plain": [
       "HBox(children=(FloatProgress(value=0.0, max=50.0), HTML(value='')))"
      ]
     },
     "metadata": {},
     "output_type": "display_data"
    },
    {
     "name": "stdout",
     "output_type": "stream",
     "text": [
      "\n"
     ]
    },
    {
     "data": {
      "application/vnd.jupyter.widget-view+json": {
       "model_id": "1cfe095b72ec424e8a6f27089bdea08b",
       "version_major": 2,
       "version_minor": 0
      },
      "text/plain": [
       "HBox(children=(FloatProgress(value=0.0, max=50.0), HTML(value='')))"
      ]
     },
     "metadata": {},
     "output_type": "display_data"
    },
    {
     "name": "stdout",
     "output_type": "stream",
     "text": [
      "\n"
     ]
    },
    {
     "data": {
      "application/vnd.jupyter.widget-view+json": {
       "model_id": "486537256ed7460dbaab9f4b01a5059e",
       "version_major": 2,
       "version_minor": 0
      },
      "text/plain": [
       "HBox(children=(FloatProgress(value=0.0, max=50.0), HTML(value='')))"
      ]
     },
     "metadata": {},
     "output_type": "display_data"
    },
    {
     "name": "stdout",
     "output_type": "stream",
     "text": [
      "\n"
     ]
    },
    {
     "data": {
      "application/vnd.jupyter.widget-view+json": {
       "model_id": "fdb822e6f5e34bdda3c0c7ffe335f3f8",
       "version_major": 2,
       "version_minor": 0
      },
      "text/plain": [
       "HBox(children=(FloatProgress(value=0.0, max=50.0), HTML(value='')))"
      ]
     },
     "metadata": {},
     "output_type": "display_data"
    },
    {
     "name": "stdout",
     "output_type": "stream",
     "text": [
      "\n"
     ]
    },
    {
     "data": {
      "application/vnd.jupyter.widget-view+json": {
       "model_id": "ab46d8532a7946e3956311e3ee9ad670",
       "version_major": 2,
       "version_minor": 0
      },
      "text/plain": [
       "HBox(children=(FloatProgress(value=0.0, max=50.0), HTML(value='')))"
      ]
     },
     "metadata": {},
     "output_type": "display_data"
    },
    {
     "name": "stdout",
     "output_type": "stream",
     "text": [
      "\n"
     ]
    },
    {
     "data": {
      "application/vnd.jupyter.widget-view+json": {
       "model_id": "6cde62a05f094b2e83fe79d6bab9e0c1",
       "version_major": 2,
       "version_minor": 0
      },
      "text/plain": [
       "HBox(children=(FloatProgress(value=0.0, max=50.0), HTML(value='')))"
      ]
     },
     "metadata": {},
     "output_type": "display_data"
    },
    {
     "name": "stdout",
     "output_type": "stream",
     "text": [
      "\n"
     ]
    },
    {
     "data": {
      "application/vnd.jupyter.widget-view+json": {
       "model_id": "cbabd63f17ac40569e016fb82774ed52",
       "version_major": 2,
       "version_minor": 0
      },
      "text/plain": [
       "HBox(children=(FloatProgress(value=0.0, max=50.0), HTML(value='')))"
      ]
     },
     "metadata": {},
     "output_type": "display_data"
    },
    {
     "name": "stdout",
     "output_type": "stream",
     "text": [
      "\n"
     ]
    }
   ],
   "source": [
    "generated_path = []\n",
    "generated_logsigs = []\n",
    "for cond in data_cond[:100]:\n",
    "    generated_logsig = generate(cond, cond_dim, n_latent).to('cpu').detach().numpy().copy()\n",
    "    recovered_path, loss = logsig_inversion_v2.train(generated_logsig, sig_order, n_iterations, n_organisms, n_points, price_pip, spot_vol_pip, price_n_pips, spot_vol_n_pips)\n",
    "    \n",
    "    generated_path.append(recovered_path)\n",
    "    generated_logsigs.append(generated_logsig)"
   ]
  },
  {
   "cell_type": "code",
   "execution_count": 21,
   "id": "32465b9f-86e8-49d6-bcaa-3235a725c438",
   "metadata": {},
   "outputs": [],
   "source": [
    "sigs1 = []\n",
    "for i, path in enumerate(generated_path):\n",
    "    path_sig = esig.stream2sig(leadlag(path), sig_order)\n",
    "    sigs1.append(path_sig)\n",
    "sigs1 = np.array(sigs1)\n",
    "    \n",
    "sigs2 = []\n",
    "for i in range(100):\n",
    "    path = leadlag_DATAs[i][:, [4, 5]]\n",
    "    path_sig = esig.stream2sig(path, sig_order)\n",
    "    sigs2.append(path_sig)\n",
    "sigs2 = np.array(sigs2)"
   ]
  },
  {
   "cell_type": "code",
   "execution_count": 22,
   "id": "495a10fe-155d-4cf7-95cd-ed34e196d096",
   "metadata": {},
   "outputs": [
    {
     "data": {
      "application/vnd.jupyter.widget-view+json": {
       "model_id": "03bdd6e161e24d7db8becb5653c54928",
       "version_major": 2,
       "version_minor": 0
      },
      "text/plain": [
       "HBox(children=(FloatProgress(value=0.0, description='Computing signatures of population 1', style=ProgressStyl…"
      ]
     },
     "metadata": {},
     "output_type": "display_data"
    },
    {
     "name": "stdout",
     "output_type": "stream",
     "text": [
      "\n"
     ]
    },
    {
     "data": {
      "application/vnd.jupyter.widget-view+json": {
       "model_id": "67cf958cfcd4479f90838e7bc504dcff",
       "version_major": 2,
       "version_minor": 0
      },
      "text/plain": [
       "HBox(children=(FloatProgress(value=0.0, description='Computing signatures of population 2', style=ProgressStyl…"
      ]
     },
     "metadata": {},
     "output_type": "display_data"
    },
    {
     "name": "stdout",
     "output_type": "stream",
     "text": [
      "\n",
      "Are the generated and real distributions DIFFERENT? False\n"
     ]
    }
   ],
   "source": [
    "res = process_discriminator.test(sigs1, sigs2, order=sig_order, compute_sigs=False, confidence_level=0.99)\n",
    "\n",
    "print(\"Are the generated and real distributions DIFFERENT? {}\".format(res))"
   ]
  },
  {
   "cell_type": "code",
   "execution_count": 23,
   "id": "ea90618e-e3a5-4757-b01f-a6a99269f8dd",
   "metadata": {},
   "outputs": [
    {
     "data": {
      "image/png": "[encoded data removed]",
      "text/plain": [
       "<Figure size 432x288 with 1 Axes>"
      ]
     },
     "metadata": {
      "needs_background": "light"
     },
     "output_type": "display_data"
    }
   ],
   "source": [
    "fig, ax = plt.subplots()\n",
    "for path1, path2 in zip(DATAs[:100], generated_path):\n",
    "    vol_path = path1[:, 2] -  path1[0, 2]\n",
    "    ax.plot(vol_path, 'orange', alpha=0.25)\n",
    "\n",
    "    ax.plot(path2, 'blue', alpha=0.2)\n",
    "\n",
    "gray_patch = mpatches.Patch(color = 'orange', label = 'volatility paths')\n",
    "blue_patch = mpatches.Patch(color = 'blue', label = 'Generated paths')\n",
    "\n",
    "\n",
    "x = range(0, 101, 20)\n",
    "ax.set_xticks(x)\n",
    "ax.set_xticklabels([str(i/100) for i in x])\n",
    "ax.set_xlabel(\"Timestamp\", fontsize=14)\n",
    "\n",
    "plt.legend(handles=[blue_patch, gray_patch], fontsize=10)    \n",
    "#外枠の削除\n",
    "plt.gca().spines['right'].set_visible(False)\n",
    "plt.gca().spines['top'].set_visible(False)\n",
    "plt.gca().spines['left'].set_visible(False)\n",
    "plt.gca().spines['bottom'].set_visible(True)\n",
    "\n",
    "fig.savefig(\"Figures/generatedVolFromVol_{}.png\".format(sig_order), dpi=300, bbox_inches=\"tight\")\n",
    "plt.show();"
   ]
  },
  {
   "cell_type": "code",
   "execution_count": 24,
   "id": "9482c420-de7d-4810-b269-811c8e8adb00",
   "metadata": {},
   "outputs": [
    {
     "data": {
      "image/png": "[encoded data removed]",
      "text/plain": [
       "<Figure size 432x288 with 1 Axes>"
      ]
     },
     "metadata": {
      "needs_background": "light"
     },
     "output_type": "display_data"
    }
   ],
   "source": [
    "generated_vol = [path[40] for path in generated_path]\n",
    "real_vol = [path[40, 2] - path[0, 2] for path in DATAs[:100]]\n",
    "\n",
    "# 最小値\n",
    "x_min_gene = min(generated_vol)\n",
    "x_min_real = min(real_vol)\n",
    "\n",
    "x_min = min(x_min_gene, x_min_real)\n",
    "\n",
    "# 最大値\n",
    "x_max_gene = max(generated_vol)\n",
    "x_max_real = max(real_vol)\n",
    "\n",
    "x_max = min(x_max_gene, x_max_real)\n",
    "\n",
    "# 最小値から最大値の範囲で5間隔\n",
    "range_bin_width = np.arange(x_min, x_max, 0.001)\n",
    "\n",
    "fig, ax = plt.subplots()\n",
    "ax = sns.distplot(real_vol, color = 'orange', bins=range_bin_width, label=\"Real paths\", kde = True)\n",
    "ax = sns.distplot(generated_vol, color = 'blue', bins=range_bin_width, label=\"Generated paths\", kde = True)\n",
    "\n",
    "\n",
    "#外枠の削除\n",
    "plt.gca().spines['right'].set_visible(False)\n",
    "plt.gca().spines['top'].set_visible(False)\n",
    "plt.gca().spines['left'].set_visible(False)\n",
    "plt.gca().spines['bottom'].set_visible(True)\n",
    "\n",
    "plt.xlabel(\"volatility\", fontsize=14)\n",
    "plt.legend(fontsize=12)\n",
    "fig.savefig(\"Figures/generatedVolFromVol_40_{}.png\".format(sig_order), dpi=300, bbox_inches=\"tight\")\n",
    "plt.show();"
   ]
  },
  {
   "cell_type": "code",
   "execution_count": null,
   "id": "0937aa30-9973-46da-a839-18bbee285f44",
   "metadata": {},
   "outputs": [],
   "source": []
  }
 ],
 "metadata": {
  "kernelspec": {
   "display_name": "Python 3 (ipykernel)",
   "language": "python",
   "name": "python3"
  },
  "language_info": {
   "codemirror_mode": {
    "name": "ipython",
    "version": 3
   },
   "file_extension": ".py",
   "mimetype": "text/x-python",
   "name": "python",
   "nbconvert_exporter": "python",
   "pygments_lexer": "ipython3",
   "version": "3.9.6"
  }
 },
 "nbformat": 4,
 "nbformat_minor": 5
}
