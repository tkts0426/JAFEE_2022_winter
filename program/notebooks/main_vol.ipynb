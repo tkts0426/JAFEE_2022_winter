{
 "cells": [
  {
   "cell_type": "code",
   "execution_count": 1,
   "id": "85d69567-3e9f-4398-af8a-1643fea156bd",
   "metadata": {},
   "outputs": [
    {
     "name": "stdout",
     "output_type": "stream",
     "text": [
      "/home/tkts0426/git/JAFEE_2022_winter/program\n"
     ]
    }
   ],
   "source": [
    "%cd .."
   ]
  },
  {
   "cell_type": "code",
   "execution_count": 2,
   "id": "a6814d97-beb3-48f6-84ad-4bcef939f18f",
   "metadata": {},
   "outputs": [],
   "source": [
    "import esig\n",
    "import esig.tosig as ts\n",
    "import numpy as np\n",
    "import pandas as pd\n",
    "import seaborn as sns\n",
    "import torch\n",
    "import matplotlib.pyplot as plt\n",
    "import math\n",
    "import warnings\n",
    "import matplotlib.patches as mpatches\n",
    "\n",
    "from sklearn.preprocessing import MinMaxScaler\n",
    "from torch import optim\n",
    "from tqdm import tqdm\n",
    "from sklearn import utils\n",
    "\n",
    "from src.cvae import CVAE\n",
    "from src.vae import VAE\n",
    "from src.create_dataset import MyDataset\n",
    "from src.custom_loss import CustomLoss\n",
    "from src.utils import tosig\n",
    "from src.utils.leadlag import leadlag\n",
    "from src import logsig_inversion\n",
    "from src import logsig_inversion_v2\n",
    "from src import process_discriminator\n",
    "from src.sig_calculus_func import Lead, Lag\n",
    "\n",
    "pd.set_option('display.max_columns', 1000)\n",
    "pd.set_option('display.max_rows', 1000)\n",
    "\n",
    "warnings.simplefilter('ignore')"
   ]
  },
  {
   "cell_type": "code",
   "execution_count": 3,
   "id": "a3c95b72-5936-4b23-8ead-374f0c43dbd3",
   "metadata": {},
   "outputs": [],
   "source": [
    "def generate(cond, input_dim, n_latent, n_samples = None):\n",
    "    if n_samples is not None:\n",
    "        randoms = []\n",
    "        for i in range(n_samples):\n",
    "            random = np.random.normal(0, 1, size=(1, n_latent))\n",
    "            randoms.append(random)\n",
    "    else:\n",
    "        randoms = np.random.normal(0, 1, size=(1, n_latent))\n",
    "        cond = torch.Tensor(cond)\n",
    "    \n",
    "    randoms = torch.Tensor(randoms).reshape(-1, n_latent)\n",
    "    cond = torch.Tensor(cond.float()).reshape(-1, input_dim)\n",
    "    \n",
    "    samples = generator.decoder(randoms, cond)\n",
    "    \n",
    "    return samples"
   ]
  },
  {
   "cell_type": "markdown",
   "id": "884f418a-c4dc-4982-b5d6-9864aa9d0d54",
   "metadata": {},
   "source": [
    "# Download the data"
   ]
  },
  {
   "cell_type": "code",
   "execution_count": 4,
   "id": "db1895a6-d578-421b-82d4-7c2ee55a0507",
   "metadata": {},
   "outputs": [],
   "source": [
    "DATAs = np.load('Data/DATAs_1000.npy')"
   ]
  },
  {
   "cell_type": "markdown",
   "id": "165f76ee-e4f5-4750-8950-ecd7e9cc4c75",
   "metadata": {},
   "source": [
    "# Create the data"
   ]
  },
  {
   "cell_type": "code",
   "execution_count": 5,
   "id": "2988aec4-5b44-4014-8eec-35261d689f27",
   "metadata": {},
   "outputs": [],
   "source": [
    "leadlag_DATAs = []\n",
    "for i in range(DATAs.shape[0]):\n",
    "    timestamp = DATAs[i, :, 0]\n",
    "    price = DATAs[i, :, 1] - DATAs[i, 0, 1]\n",
    "    vol = DATAs[i, :, 2] - DATAs[i, 0, 2]\n",
    "    spot_vol = DATAs[i, :, 3] - DATAs[i, 0, 3]\n",
    "\n",
    "    leadlag_timestamp = leadlag(timestamp)\n",
    "    leadlag_price = leadlag(price)\n",
    "    leadlag_vol = leadlag(vol)\n",
    "    leadlag_spot_vol = leadlag(spot_vol)\n",
    "\n",
    "    leadlag_DATA = np.c_[leadlag_timestamp, leadlag_price, leadlag_vol, leadlag_spot_vol]\n",
    "    leadlag_DATAs.append(leadlag_DATA)\n",
    "\n",
    "leadlag_DATAs = np.array(leadlag_DATAs)"
   ]
  },
  {
   "cell_type": "markdown",
   "id": "f108bdf7-d9c6-4fa8-a2cb-1b0c024fe3f2",
   "metadata": {},
   "source": [
    "# Make the explanatory variable"
   ]
  },
  {
   "cell_type": "code",
   "execution_count": 6,
   "id": "39e18de5-cdec-4e87-901e-a8e7a3d424d0",
   "metadata": {},
   "outputs": [],
   "source": [
    "sig_order = 3\n",
    "exp_col = [2, 3, 4, 5]"
   ]
  },
  {
   "cell_type": "code",
   "execution_count": 7,
   "id": "404c5e38-8558-430b-a279-21c5057fd7e2",
   "metadata": {},
   "outputs": [
    {
     "name": "stderr",
     "output_type": "stream",
     "text": [
      "Computing log-signatures: 100%|███████████████████████████████████████████████| 1000/1000 [00:00<00:00, 4685.96it/s]\n"
     ]
    }
   ],
   "source": [
    "orig_logsig = []\n",
    "for i in tqdm(range(leadlag_DATAs.shape[0]), desc=\"Computing log-signatures\"):\n",
    "    path = leadlag_DATAs[i, :, :]\n",
    "    \n",
    "    orig_logsig.append(esig.stream2logsig(path[:, exp_col], sig_order))\n",
    "    \n",
    "orig_logsig = np.array(orig_logsig)\n",
    "\n",
    "scaler = MinMaxScaler(feature_range=(0.00001, 0.99999))\n",
    "logsig = scaler.fit_transform(orig_logsig)\n",
    "\n",
    "logsigs = logsig[1:]\n",
    "conditions = logsig[:-1]\n",
    "\n",
    "data = utils.as_float_array(logsigs)\n",
    "data_cond = utils.as_float_array(conditions)\n",
    "\n",
    "input_dim = data.shape[1]\n",
    "cond_dim = data_cond.shape[1]"
   ]
  },
  {
   "cell_type": "code",
   "execution_count": 8,
   "id": "d32b7151-eabc-40e0-bbce-919f08e13626",
   "metadata": {},
   "outputs": [
    {
     "name": "stdout",
     "output_type": "stream",
     "text": [
      " 1 2 3 4 [1,2] [1,3] [1,4] [2,3] [2,4] [3,4] [1,[1,2]] [1,[1,3]] [1,[1,4]] [2,[1,2]] [2,[1,3]] [2,[1,4]] [2,[2,3]] [2,[2,4]] [3,[1,2]] [3,[1,3]] [3,[1,4]] [3,[2,3]] [3,[2,4]] [3,[3,4]] [4,[1,2]] [4,[1,3]] [4,[1,4]] [4,[2,3]] [4,[2,4]] [4,[3,4]]\n"
     ]
    }
   ],
   "source": [
    "log_sig_keys = esig.logsigkeys(len(exp_col), sig_order)\n",
    "print(log_sig_keys) "
   ]
  },
  {
   "cell_type": "markdown",
   "id": "e19126b8-d6bd-4148-8824-5cd71f49836d",
   "metadata": {},
   "source": [
    "# Make the target variable"
   ]
  },
  {
   "cell_type": "code",
   "execution_count": 9,
   "id": "cfc57997-67fd-41ec-a8b0-0f17eb045e28",
   "metadata": {},
   "outputs": [],
   "source": [
    "target_col = [2, 3, 4, 5]"
   ]
  },
  {
   "cell_type": "code",
   "execution_count": 10,
   "id": "b02e8cae-8434-483c-939e-ed6c3826e539",
   "metadata": {},
   "outputs": [
    {
     "name": "stderr",
     "output_type": "stream",
     "text": [
      "Computing log-signatures: 100%|███████████████████████████████████████████████| 1000/1000 [00:00<00:00, 4766.40it/s]\n"
     ]
    }
   ],
   "source": [
    "orig_logsig_target = []\n",
    "for i in tqdm(range(leadlag_DATAs.shape[0]), desc=\"Computing log-signatures\"):\n",
    "    path = leadlag_DATAs[i, :, :]\n",
    "    \n",
    "    orig_logsig_target.append(esig.stream2logsig(path[:, target_col], sig_order))\n",
    "    \n",
    "orig_logsig_target = np.array(orig_logsig_target)\n",
    "\n",
    "scaler = MinMaxScaler(feature_range=(0.00001, 0.99999))\n",
    "logsig_target = scaler.fit_transform(orig_logsig_target)\n",
    "\n",
    "target_data = utils.as_float_array(logsig_target)\n",
    "\n",
    "input_dim_target = target_data.shape[1]"
   ]
  },
  {
   "cell_type": "code",
   "execution_count": 11,
   "id": "6aab5728-6875-4d21-a192-9da6794420d9",
   "metadata": {},
   "outputs": [
    {
     "name": "stdout",
     "output_type": "stream",
     "text": [
      " 1 2 3 4 [1,2] [1,3] [1,4] [2,3] [2,4] [3,4] [1,[1,2]] [1,[1,3]] [1,[1,4]] [2,[1,2]] [2,[1,3]] [2,[1,4]] [2,[2,3]] [2,[2,4]] [3,[1,2]] [3,[1,3]] [3,[1,4]] [3,[2,3]] [3,[2,4]] [3,[3,4]] [4,[1,2]] [4,[1,3]] [4,[1,4]] [4,[2,3]] [4,[2,4]] [4,[3,4]]\n"
     ]
    }
   ],
   "source": [
    "log_sig_keys = esig.logsigkeys(len(target_col), sig_order)\n",
    "print(log_sig_keys) "
   ]
  },
  {
   "cell_type": "markdown",
   "id": "e8b63fd2-7d57-47bb-96e5-71dbd028749c",
   "metadata": {},
   "source": [
    "# Make the dataset"
   ]
  },
  {
   "cell_type": "code",
   "execution_count": 12,
   "id": "7525d456-ec82-44e6-bd16-c393cb901534",
   "metadata": {},
   "outputs": [],
   "source": [
    "dataset = MyDataset(data, data_cond, target_data)\n",
    "dataloader = torch.utils.data.DataLoader(dataset, batch_size=25, shuffle=True)"
   ]
  },
  {
   "cell_type": "markdown",
   "id": "f97044ba-06a5-43b9-a72b-223e83201a94",
   "metadata": {},
   "source": [
    "# Train"
   ]
  },
  {
   "cell_type": "code",
   "execution_count": 13,
   "id": "fbf29475-846e-440e-b169-099326c13f82",
   "metadata": {},
   "outputs": [],
   "source": [
    "n_epochs = 1000\n",
    "learning_rate=0.005\n",
    "\n",
    "input_dim = input_dim\n",
    "input_dim_target = input_dim_target\n",
    "n_latent = 10"
   ]
  },
  {
   "cell_type": "code",
   "execution_count": 14,
   "id": "bd18eccc-d01c-4a4b-9291-ba1191961352",
   "metadata": {},
   "outputs": [],
   "source": [
    "generator = CVAE(input_dim = input_dim, cond_dim = cond_dim, input_dim_target = input_dim_target, n_latent = n_latent, alpha=0.003)\n",
    "\n",
    "criterion = CustomLoss()\n",
    "optimizer = optim.SGD(generator.parameters(), lr=learning_rate, momentum=0.9, weight_decay=0.005)"
   ]
  },
  {
   "cell_type": "code",
   "execution_count": 15,
   "id": "bd90b700-73a8-48ab-be92-10ff6be95dc7",
   "metadata": {},
   "outputs": [
    {
     "name": "stdout",
     "output_type": "stream",
     "text": [
      "tensor(0.4842, dtype=torch.float64, grad_fn=<DivBackward0>)\n",
      "tensor(0.3103, dtype=torch.float64, grad_fn=<DivBackward0>)\n",
      "tensor(0.2823, dtype=torch.float64, grad_fn=<DivBackward0>)\n",
      "tensor(0.2460, dtype=torch.float64, grad_fn=<DivBackward0>)\n",
      "tensor(0.2076, dtype=torch.float64, grad_fn=<DivBackward0>)\n",
      "tensor(0.1767, dtype=torch.float64, grad_fn=<DivBackward0>)\n",
      "tensor(0.1543, dtype=torch.float64, grad_fn=<DivBackward0>)\n",
      "tensor(0.1366, dtype=torch.float64, grad_fn=<DivBackward0>)\n",
      "tensor(0.1219, dtype=torch.float64, grad_fn=<DivBackward0>)\n",
      "tensor(0.1105, dtype=torch.float64, grad_fn=<DivBackward0>)\n",
      "tensor(0.1013, dtype=torch.float64, grad_fn=<DivBackward0>)\n",
      "tensor(0.0938, dtype=torch.float64, grad_fn=<DivBackward0>)\n",
      "tensor(0.0880, dtype=torch.float64, grad_fn=<DivBackward0>)\n",
      "tensor(0.0832, dtype=torch.float64, grad_fn=<DivBackward0>)\n",
      "tensor(0.0790, dtype=torch.float64, grad_fn=<DivBackward0>)\n",
      "tensor(0.0757, dtype=torch.float64, grad_fn=<DivBackward0>)\n",
      "tensor(0.0728, dtype=torch.float64, grad_fn=<DivBackward0>)\n",
      "tensor(0.0702, dtype=torch.float64, grad_fn=<DivBackward0>)\n",
      "tensor(0.0683, dtype=torch.float64, grad_fn=<DivBackward0>)\n",
      "tensor(0.0664, dtype=torch.float64, grad_fn=<DivBackward0>)\n",
      "tensor(0.0649, dtype=torch.float64, grad_fn=<DivBackward0>)\n",
      "tensor(0.0635, dtype=torch.float64, grad_fn=<DivBackward0>)\n",
      "tensor(0.0626, dtype=torch.float64, grad_fn=<DivBackward0>)\n",
      "tensor(0.0616, dtype=torch.float64, grad_fn=<DivBackward0>)\n",
      "tensor(0.0608, dtype=torch.float64, grad_fn=<DivBackward0>)\n",
      "tensor(0.0601, dtype=torch.float64, grad_fn=<DivBackward0>)\n",
      "tensor(0.0595, dtype=torch.float64, grad_fn=<DivBackward0>)\n",
      "tensor(0.0589, dtype=torch.float64, grad_fn=<DivBackward0>)\n",
      "tensor(0.0586, dtype=torch.float64, grad_fn=<DivBackward0>)\n",
      "tensor(0.0582, dtype=torch.float64, grad_fn=<DivBackward0>)\n",
      "tensor(0.0578, dtype=torch.float64, grad_fn=<DivBackward0>)\n",
      "tensor(0.0574, dtype=torch.float64, grad_fn=<DivBackward0>)\n",
      "tensor(0.0571, dtype=torch.float64, grad_fn=<DivBackward0>)\n",
      "tensor(0.0569, dtype=torch.float64, grad_fn=<DivBackward0>)\n",
      "tensor(0.0567, dtype=torch.float64, grad_fn=<DivBackward0>)\n",
      "tensor(0.0563, dtype=torch.float64, grad_fn=<DivBackward0>)\n",
      "tensor(0.0561, dtype=torch.float64, grad_fn=<DivBackward0>)\n",
      "tensor(0.0558, dtype=torch.float64, grad_fn=<DivBackward0>)\n",
      "tensor(0.0557, dtype=torch.float64, grad_fn=<DivBackward0>)\n",
      "tensor(0.0555, dtype=torch.float64, grad_fn=<DivBackward0>)\n",
      "tensor(0.0555, dtype=torch.float64, grad_fn=<DivBackward0>)\n",
      "tensor(0.0552, dtype=torch.float64, grad_fn=<DivBackward0>)\n",
      "tensor(0.0552, dtype=torch.float64, grad_fn=<DivBackward0>)\n",
      "tensor(0.0550, dtype=torch.float64, grad_fn=<DivBackward0>)\n",
      "tensor(0.0549, dtype=torch.float64, grad_fn=<DivBackward0>)\n",
      "tensor(0.0548, dtype=torch.float64, grad_fn=<DivBackward0>)\n",
      "tensor(0.0547, dtype=torch.float64, grad_fn=<DivBackward0>)\n",
      "tensor(0.0545, dtype=torch.float64, grad_fn=<DivBackward0>)\n",
      "tensor(0.0545, dtype=torch.float64, grad_fn=<DivBackward0>)\n",
      "tensor(0.0545, dtype=torch.float64, grad_fn=<DivBackward0>)\n",
      "tensor(0.0543, dtype=torch.float64, grad_fn=<DivBackward0>)\n",
      "tensor(0.0544, dtype=torch.float64, grad_fn=<DivBackward0>)\n",
      "tensor(0.0543, dtype=torch.float64, grad_fn=<DivBackward0>)\n",
      "tensor(0.0541, dtype=torch.float64, grad_fn=<DivBackward0>)\n",
      "tensor(0.0540, dtype=torch.float64, grad_fn=<DivBackward0>)\n",
      "tensor(0.0542, dtype=torch.float64, grad_fn=<DivBackward0>)\n",
      "tensor(0.0542, dtype=torch.float64, grad_fn=<DivBackward0>)\n",
      "tensor(0.0539, dtype=torch.float64, grad_fn=<DivBackward0>)\n",
      "tensor(0.0540, dtype=torch.float64, grad_fn=<DivBackward0>)\n",
      "tensor(0.0540, dtype=torch.float64, grad_fn=<DivBackward0>)\n",
      "tensor(0.0539, dtype=torch.float64, grad_fn=<DivBackward0>)\n",
      "tensor(0.0539, dtype=torch.float64, grad_fn=<DivBackward0>)\n",
      "tensor(0.0538, dtype=torch.float64, grad_fn=<DivBackward0>)\n",
      "tensor(0.0538, dtype=torch.float64, grad_fn=<DivBackward0>)\n",
      "tensor(0.0538, dtype=torch.float64, grad_fn=<DivBackward0>)\n",
      "tensor(0.0538, dtype=torch.float64, grad_fn=<DivBackward0>)\n",
      "tensor(0.0537, dtype=torch.float64, grad_fn=<DivBackward0>)\n",
      "tensor(0.0538, dtype=torch.float64, grad_fn=<DivBackward0>)\n",
      "tensor(0.0537, dtype=torch.float64, grad_fn=<DivBackward0>)\n",
      "tensor(0.0537, dtype=torch.float64, grad_fn=<DivBackward0>)\n",
      "tensor(0.0538, dtype=torch.float64, grad_fn=<DivBackward0>)\n",
      "tensor(0.0538, dtype=torch.float64, grad_fn=<DivBackward0>)\n",
      "tensor(0.0537, dtype=torch.float64, grad_fn=<DivBackward0>)\n",
      "tensor(0.0537, dtype=torch.float64, grad_fn=<DivBackward0>)\n",
      "tensor(0.0536, dtype=torch.float64, grad_fn=<DivBackward0>)\n",
      "tensor(0.0537, dtype=torch.float64, grad_fn=<DivBackward0>)\n",
      "tensor(0.0537, dtype=torch.float64, grad_fn=<DivBackward0>)\n",
      "tensor(0.0537, dtype=torch.float64, grad_fn=<DivBackward0>)\n",
      "tensor(0.0536, dtype=torch.float64, grad_fn=<DivBackward0>)\n",
      "tensor(0.0536, dtype=torch.float64, grad_fn=<DivBackward0>)\n",
      "tensor(0.0536, dtype=torch.float64, grad_fn=<DivBackward0>)\n",
      "tensor(0.0536, dtype=torch.float64, grad_fn=<DivBackward0>)\n",
      "tensor(0.0536, dtype=torch.float64, grad_fn=<DivBackward0>)\n",
      "tensor(0.0535, dtype=torch.float64, grad_fn=<DivBackward0>)\n",
      "tensor(0.0537, dtype=torch.float64, grad_fn=<DivBackward0>)\n",
      "tensor(0.0535, dtype=torch.float64, grad_fn=<DivBackward0>)\n",
      "tensor(0.0536, dtype=torch.float64, grad_fn=<DivBackward0>)\n",
      "tensor(0.0536, dtype=torch.float64, grad_fn=<DivBackward0>)\n",
      "tensor(0.0535, dtype=torch.float64, grad_fn=<DivBackward0>)\n",
      "tensor(0.0536, dtype=torch.float64, grad_fn=<DivBackward0>)\n",
      "tensor(0.0536, dtype=torch.float64, grad_fn=<DivBackward0>)\n",
      "tensor(0.0536, dtype=torch.float64, grad_fn=<DivBackward0>)\n",
      "tensor(0.0535, dtype=torch.float64, grad_fn=<DivBackward0>)\n",
      "tensor(0.0536, dtype=torch.float64, grad_fn=<DivBackward0>)\n",
      "tensor(0.0535, dtype=torch.float64, grad_fn=<DivBackward0>)\n",
      "tensor(0.0536, dtype=torch.float64, grad_fn=<DivBackward0>)\n",
      "tensor(0.0537, dtype=torch.float64, grad_fn=<DivBackward0>)\n",
      "tensor(0.0535, dtype=torch.float64, grad_fn=<DivBackward0>)\n",
      "tensor(0.0535, dtype=torch.float64, grad_fn=<DivBackward0>)\n",
      "tensor(0.0536, dtype=torch.float64, grad_fn=<DivBackward0>)\n"
     ]
    }
   ],
   "source": [
    "for i in range(n_epochs):\n",
    "    loss_sum = 0\n",
    "    for _, (inputs, target) in enumerate(dataloader):\n",
    "        data = inputs[0]\n",
    "        cond = inputs[1]\n",
    "        \n",
    "        optimizer.zero_grad()\n",
    "        \n",
    "        mn, sd, sample_z, output = generator(data, cond)\n",
    "        \n",
    "        loss = criterion(mn = mn, sd = sd, outputs = output, targets = target, alpha = 0.003)\n",
    "        loss.backward()\n",
    "        \n",
    "        optimizer.step()\n",
    "        \n",
    "        loss_sum += loss\n",
    "    \n",
    "    if i % 10 == 0:\n",
    "        print(loss_sum / len(dataloader))"
   ]
  },
  {
   "cell_type": "markdown",
   "id": "033c47e1-24d5-4e20-b4d0-0cbc13e6277b",
   "metadata": {},
   "source": [
    "# Generate the process"
   ]
  },
  {
   "cell_type": "code",
   "execution_count": 16,
   "id": "a8fd1e4a-0ed1-4cba-b387-2d7bf6942a89",
   "metadata": {},
   "outputs": [],
   "source": [
    "# Pip size\n",
    "price_pip = 0.01\n",
    "spot_vol_pip = 0.0000045\n",
    "\n",
    "# Number of pips for search space\n",
    "price_n_pips = 100\n",
    "spot_vol_n_pips = 1000 \n",
    "# Number of points\n",
    "n_points = 100\n",
    "\n",
    "n_iterations = 50\n",
    "n_organisms = 100"
   ]
  },
  {
   "cell_type": "code",
   "execution_count": 17,
   "id": "202cc51b-e348-4356-b0a8-7768e7658c06",
   "metadata": {},
   "outputs": [
    {
     "data": {
      "application/vnd.jupyter.widget-view+json": {
       "model_id": "f8708886543d4d79802852e4e32ace8b",
       "version_major": 2,
       "version_minor": 0
      },
      "text/plain": [
       "HBox(children=(FloatProgress(value=0.0, max=50.0), HTML(value='')))"
      ]
     },
     "metadata": {},
     "output_type": "display_data"
    },
    {
     "name": "stdout",
     "output_type": "stream",
     "text": [
      "\n"
     ]
    },
    {
     "data": {
      "application/vnd.jupyter.widget-view+json": {
       "model_id": "453da9b28cc3425b815fb7cf3033bdc5",
       "version_major": 2,
       "version_minor": 0
      },
      "text/plain": [
       "HBox(children=(FloatProgress(value=0.0, max=50.0), HTML(value='')))"
      ]
     },
     "metadata": {},
     "output_type": "display_data"
    },
    {
     "name": "stdout",
     "output_type": "stream",
     "text": [
      "\n"
     ]
    },
    {
     "data": {
      "application/vnd.jupyter.widget-view+json": {
       "model_id": "beac49a193fa4b4eb5e6e601d29c241c",
       "version_major": 2,
       "version_minor": 0
      },
      "text/plain": [
       "HBox(children=(FloatProgress(value=0.0, max=50.0), HTML(value='')))"
      ]
     },
     "metadata": {},
     "output_type": "display_data"
    },
    {
     "name": "stdout",
     "output_type": "stream",
     "text": [
      "\n"
     ]
    },
    {
     "data": {
      "application/vnd.jupyter.widget-view+json": {
       "model_id": "bdb48f3573314619860cf92a7fe225cb",
       "version_major": 2,
       "version_minor": 0
      },
      "text/plain": [
       "HBox(children=(FloatProgress(value=0.0, max=50.0), HTML(value='')))"
      ]
     },
     "metadata": {},
     "output_type": "display_data"
    },
    {
     "name": "stdout",
     "output_type": "stream",
     "text": [
      "\n"
     ]
    },
    {
     "data": {
      "application/vnd.jupyter.widget-view+json": {
       "model_id": "17f5aeb0280641819d2da270ecaf8c7e",
       "version_major": 2,
       "version_minor": 0
      },
      "text/plain": [
       "HBox(children=(FloatProgress(value=0.0, max=50.0), HTML(value='')))"
      ]
     },
     "metadata": {},
     "output_type": "display_data"
    },
    {
     "name": "stdout",
     "output_type": "stream",
     "text": [
      "\n"
     ]
    },
    {
     "data": {
      "application/vnd.jupyter.widget-view+json": {
       "model_id": "bb8f195d5da54e7cbe5f7cb106d196c9",
       "version_major": 2,
       "version_minor": 0
      },
      "text/plain": [
       "HBox(children=(FloatProgress(value=0.0, max=50.0), HTML(value='')))"
      ]
     },
     "metadata": {},
     "output_type": "display_data"
    },
    {
     "name": "stdout",
     "output_type": "stream",
     "text": [
      "\n"
     ]
    },
    {
     "data": {
      "application/vnd.jupyter.widget-view+json": {
       "model_id": "b7eb6b11cf4243a4b171bbc6d78eb576",
       "version_major": 2,
       "version_minor": 0
      },
      "text/plain": [
       "HBox(children=(FloatProgress(value=0.0, max=50.0), HTML(value='')))"
      ]
     },
     "metadata": {},
     "output_type": "display_data"
    },
    {
     "name": "stdout",
     "output_type": "stream",
     "text": [
      "\n"
     ]
    },
    {
     "data": {
      "application/vnd.jupyter.widget-view+json": {
       "model_id": "307e4288488d44f686c69bcdc19a379c",
       "version_major": 2,
       "version_minor": 0
      },
      "text/plain": [
       "HBox(children=(FloatProgress(value=0.0, max=50.0), HTML(value='')))"
      ]
     },
     "metadata": {},
     "output_type": "display_data"
    },
    {
     "name": "stdout",
     "output_type": "stream",
     "text": [
      "\n"
     ]
    },
    {
     "data": {
      "application/vnd.jupyter.widget-view+json": {
       "model_id": "71a6d65bbbc34fb9a224f057b87e8613",
       "version_major": 2,
       "version_minor": 0
      },
      "text/plain": [
       "HBox(children=(FloatProgress(value=0.0, max=50.0), HTML(value='')))"
      ]
     },
     "metadata": {},
     "output_type": "display_data"
    },
    {
     "name": "stdout",
     "output_type": "stream",
     "text": [
      "\n"
     ]
    },
    {
     "data": {
      "application/vnd.jupyter.widget-view+json": {
       "model_id": "8cf1ab839e4f47e197f12c548128945a",
       "version_major": 2,
       "version_minor": 0
      },
      "text/plain": [
       "HBox(children=(FloatProgress(value=0.0, max=50.0), HTML(value='')))"
      ]
     },
     "metadata": {},
     "output_type": "display_data"
    },
    {
     "name": "stdout",
     "output_type": "stream",
     "text": [
      "\n"
     ]
    },
    {
     "data": {
      "application/vnd.jupyter.widget-view+json": {
       "model_id": "167de3889c8346da82706081cb0ebd88",
       "version_major": 2,
       "version_minor": 0
      },
      "text/plain": [
       "HBox(children=(FloatProgress(value=0.0, max=50.0), HTML(value='')))"
      ]
     },
     "metadata": {},
     "output_type": "display_data"
    },
    {
     "name": "stdout",
     "output_type": "stream",
     "text": [
      "\n"
     ]
    },
    {
     "data": {
      "application/vnd.jupyter.widget-view+json": {
       "model_id": "a6527372e03c406587f178897256eaa1",
       "version_major": 2,
       "version_minor": 0
      },
      "text/plain": [
       "HBox(children=(FloatProgress(value=0.0, max=50.0), HTML(value='')))"
      ]
     },
     "metadata": {},
     "output_type": "display_data"
    },
    {
     "name": "stdout",
     "output_type": "stream",
     "text": [
      "\n"
     ]
    },
    {
     "data": {
      "application/vnd.jupyter.widget-view+json": {
       "model_id": "92eb66b9e7c8488ea084df456c64276e",
       "version_major": 2,
       "version_minor": 0
      },
      "text/plain": [
       "HBox(children=(FloatProgress(value=0.0, max=50.0), HTML(value='')))"
      ]
     },
     "metadata": {},
     "output_type": "display_data"
    },
    {
     "name": "stdout",
     "output_type": "stream",
     "text": [
      "\n"
     ]
    },
    {
     "data": {
      "application/vnd.jupyter.widget-view+json": {
       "model_id": "4630157fc8bb4bb8b207f30d535d65e6",
       "version_major": 2,
       "version_minor": 0
      },
      "text/plain": [
       "HBox(children=(FloatProgress(value=0.0, max=50.0), HTML(value='')))"
      ]
     },
     "metadata": {},
     "output_type": "display_data"
    },
    {
     "name": "stdout",
     "output_type": "stream",
     "text": [
      "\n"
     ]
    },
    {
     "data": {
      "application/vnd.jupyter.widget-view+json": {
       "model_id": "fcd3eda460f544b88950e1cbf92848a7",
       "version_major": 2,
       "version_minor": 0
      },
      "text/plain": [
       "HBox(children=(FloatProgress(value=0.0, max=50.0), HTML(value='')))"
      ]
     },
     "metadata": {},
     "output_type": "display_data"
    },
    {
     "name": "stdout",
     "output_type": "stream",
     "text": [
      "\n"
     ]
    },
    {
     "data": {
      "application/vnd.jupyter.widget-view+json": {
       "model_id": "79a58a8dccf14eb08f7d735785d61de5",
       "version_major": 2,
       "version_minor": 0
      },
      "text/plain": [
       "HBox(children=(FloatProgress(value=0.0, max=50.0), HTML(value='')))"
      ]
     },
     "metadata": {},
     "output_type": "display_data"
    },
    {
     "name": "stdout",
     "output_type": "stream",
     "text": [
      "\n"
     ]
    },
    {
     "data": {
      "application/vnd.jupyter.widget-view+json": {
       "model_id": "ecb893a8fcf6468397215a8f803e2097",
       "version_major": 2,
       "version_minor": 0
      },
      "text/plain": [
       "HBox(children=(FloatProgress(value=0.0, max=50.0), HTML(value='')))"
      ]
     },
     "metadata": {},
     "output_type": "display_data"
    },
    {
     "name": "stdout",
     "output_type": "stream",
     "text": [
      "\n"
     ]
    },
    {
     "data": {
      "application/vnd.jupyter.widget-view+json": {
       "model_id": "ccf7fddb244c4e29b67a1765e9ea0387",
       "version_major": 2,
       "version_minor": 0
      },
      "text/plain": [
       "HBox(children=(FloatProgress(value=0.0, max=50.0), HTML(value='')))"
      ]
     },
     "metadata": {},
     "output_type": "display_data"
    },
    {
     "name": "stdout",
     "output_type": "stream",
     "text": [
      "\n"
     ]
    },
    {
     "data": {
      "application/vnd.jupyter.widget-view+json": {
       "model_id": "c36d0b371b274a4bb5ad9f9531e7e4ec",
       "version_major": 2,
       "version_minor": 0
      },
      "text/plain": [
       "HBox(children=(FloatProgress(value=0.0, max=50.0), HTML(value='')))"
      ]
     },
     "metadata": {},
     "output_type": "display_data"
    },
    {
     "name": "stdout",
     "output_type": "stream",
     "text": [
      "\n"
     ]
    },
    {
     "data": {
      "application/vnd.jupyter.widget-view+json": {
       "model_id": "d0530ce2dbd9448d88d363e130672b2e",
       "version_major": 2,
       "version_minor": 0
      },
      "text/plain": [
       "HBox(children=(FloatProgress(value=0.0, max=50.0), HTML(value='')))"
      ]
     },
     "metadata": {},
     "output_type": "display_data"
    },
    {
     "name": "stdout",
     "output_type": "stream",
     "text": [
      "\n"
     ]
    },
    {
     "data": {
      "application/vnd.jupyter.widget-view+json": {
       "model_id": "5b55b746a9204c8986ed068d184f1108",
       "version_major": 2,
       "version_minor": 0
      },
      "text/plain": [
       "HBox(children=(FloatProgress(value=0.0, max=50.0), HTML(value='')))"
      ]
     },
     "metadata": {},
     "output_type": "display_data"
    },
    {
     "name": "stdout",
     "output_type": "stream",
     "text": [
      "\n"
     ]
    },
    {
     "data": {
      "application/vnd.jupyter.widget-view+json": {
       "model_id": "12be1d3700d448329a1e75bbdd4880de",
       "version_major": 2,
       "version_minor": 0
      },
      "text/plain": [
       "HBox(children=(FloatProgress(value=0.0, max=50.0), HTML(value='')))"
      ]
     },
     "metadata": {},
     "output_type": "display_data"
    },
    {
     "name": "stdout",
     "output_type": "stream",
     "text": [
      "\n"
     ]
    },
    {
     "data": {
      "application/vnd.jupyter.widget-view+json": {
       "model_id": "33bcd622f0bc48029e3533320dbb466b",
       "version_major": 2,
       "version_minor": 0
      },
      "text/plain": [
       "HBox(children=(FloatProgress(value=0.0, max=50.0), HTML(value='')))"
      ]
     },
     "metadata": {},
     "output_type": "display_data"
    },
    {
     "name": "stdout",
     "output_type": "stream",
     "text": [
      "\n"
     ]
    },
    {
     "data": {
      "application/vnd.jupyter.widget-view+json": {
       "model_id": "b84a754e58ce439c9cd5b0946ebd3678",
       "version_major": 2,
       "version_minor": 0
      },
      "text/plain": [
       "HBox(children=(FloatProgress(value=0.0, max=50.0), HTML(value='')))"
      ]
     },
     "metadata": {},
     "output_type": "display_data"
    },
    {
     "name": "stdout",
     "output_type": "stream",
     "text": [
      "\n"
     ]
    },
    {
     "data": {
      "application/vnd.jupyter.widget-view+json": {
       "model_id": "86b62c0913d248ffa9457e69414746e9",
       "version_major": 2,
       "version_minor": 0
      },
      "text/plain": [
       "HBox(children=(FloatProgress(value=0.0, max=50.0), HTML(value='')))"
      ]
     },
     "metadata": {},
     "output_type": "display_data"
    },
    {
     "name": "stdout",
     "output_type": "stream",
     "text": [
      "\n"
     ]
    },
    {
     "data": {
      "application/vnd.jupyter.widget-view+json": {
       "model_id": "b36e33a3ddb44a83ae6847819d0482c4",
       "version_major": 2,
       "version_minor": 0
      },
      "text/plain": [
       "HBox(children=(FloatProgress(value=0.0, max=50.0), HTML(value='')))"
      ]
     },
     "metadata": {},
     "output_type": "display_data"
    },
    {
     "name": "stdout",
     "output_type": "stream",
     "text": [
      "\n"
     ]
    },
    {
     "data": {
      "application/vnd.jupyter.widget-view+json": {
       "model_id": "b62d647d542b4d4bb31d8ca6e0ce641e",
       "version_major": 2,
       "version_minor": 0
      },
      "text/plain": [
       "HBox(children=(FloatProgress(value=0.0, max=50.0), HTML(value='')))"
      ]
     },
     "metadata": {},
     "output_type": "display_data"
    },
    {
     "name": "stdout",
     "output_type": "stream",
     "text": [
      "\n"
     ]
    },
    {
     "data": {
      "application/vnd.jupyter.widget-view+json": {
       "model_id": "6a0ec0264ee349bba9a4387473cf6e60",
       "version_major": 2,
       "version_minor": 0
      },
      "text/plain": [
       "HBox(children=(FloatProgress(value=0.0, max=50.0), HTML(value='')))"
      ]
     },
     "metadata": {},
     "output_type": "display_data"
    },
    {
     "name": "stdout",
     "output_type": "stream",
     "text": [
      "\n"
     ]
    },
    {
     "data": {
      "application/vnd.jupyter.widget-view+json": {
       "model_id": "16b8e6cea7c140daa0375f9d5ab311db",
       "version_major": 2,
       "version_minor": 0
      },
      "text/plain": [
       "HBox(children=(FloatProgress(value=0.0, max=50.0), HTML(value='')))"
      ]
     },
     "metadata": {},
     "output_type": "display_data"
    },
    {
     "name": "stdout",
     "output_type": "stream",
     "text": [
      "\n"
     ]
    },
    {
     "data": {
      "application/vnd.jupyter.widget-view+json": {
       "model_id": "3052b56fb9804c37aece0e86649203b9",
       "version_major": 2,
       "version_minor": 0
      },
      "text/plain": [
       "HBox(children=(FloatProgress(value=0.0, max=50.0), HTML(value='')))"
      ]
     },
     "metadata": {},
     "output_type": "display_data"
    },
    {
     "name": "stdout",
     "output_type": "stream",
     "text": [
      "\n"
     ]
    },
    {
     "data": {
      "application/vnd.jupyter.widget-view+json": {
       "model_id": "b4d9c78c88da47edab9320e6a0c15212",
       "version_major": 2,
       "version_minor": 0
      },
      "text/plain": [
       "HBox(children=(FloatProgress(value=0.0, max=50.0), HTML(value='')))"
      ]
     },
     "metadata": {},
     "output_type": "display_data"
    },
    {
     "name": "stdout",
     "output_type": "stream",
     "text": [
      "\n"
     ]
    },
    {
     "data": {
      "application/vnd.jupyter.widget-view+json": {
       "model_id": "e06a82b7dc0a4dc98f89884d7b4c561a",
       "version_major": 2,
       "version_minor": 0
      },
      "text/plain": [
       "HBox(children=(FloatProgress(value=0.0, max=50.0), HTML(value='')))"
      ]
     },
     "metadata": {},
     "output_type": "display_data"
    },
    {
     "name": "stdout",
     "output_type": "stream",
     "text": [
      "\n"
     ]
    },
    {
     "data": {
      "application/vnd.jupyter.widget-view+json": {
       "model_id": "d439be23812a4521960bfc8b41799f39",
       "version_major": 2,
       "version_minor": 0
      },
      "text/plain": [
       "HBox(children=(FloatProgress(value=0.0, max=50.0), HTML(value='')))"
      ]
     },
     "metadata": {},
     "output_type": "display_data"
    },
    {
     "name": "stdout",
     "output_type": "stream",
     "text": [
      "\n"
     ]
    },
    {
     "data": {
      "application/vnd.jupyter.widget-view+json": {
       "model_id": "bed25700d4d84d0dabff3724f7bd1e97",
       "version_major": 2,
       "version_minor": 0
      },
      "text/plain": [
       "HBox(children=(FloatProgress(value=0.0, max=50.0), HTML(value='')))"
      ]
     },
     "metadata": {},
     "output_type": "display_data"
    },
    {
     "name": "stdout",
     "output_type": "stream",
     "text": [
      "\n"
     ]
    },
    {
     "data": {
      "application/vnd.jupyter.widget-view+json": {
       "model_id": "a82d56e94cbc418d8cedd500672a3404",
       "version_major": 2,
       "version_minor": 0
      },
      "text/plain": [
       "HBox(children=(FloatProgress(value=0.0, max=50.0), HTML(value='')))"
      ]
     },
     "metadata": {},
     "output_type": "display_data"
    },
    {
     "name": "stdout",
     "output_type": "stream",
     "text": [
      "\n"
     ]
    },
    {
     "data": {
      "application/vnd.jupyter.widget-view+json": {
       "model_id": "c8e4d21503f243f2b7d47efd91f89965",
       "version_major": 2,
       "version_minor": 0
      },
      "text/plain": [
       "HBox(children=(FloatProgress(value=0.0, max=50.0), HTML(value='')))"
      ]
     },
     "metadata": {},
     "output_type": "display_data"
    },
    {
     "name": "stdout",
     "output_type": "stream",
     "text": [
      "\n"
     ]
    },
    {
     "data": {
      "application/vnd.jupyter.widget-view+json": {
       "model_id": "97fbec93711a4708a543da1c8da8d278",
       "version_major": 2,
       "version_minor": 0
      },
      "text/plain": [
       "HBox(children=(FloatProgress(value=0.0, max=50.0), HTML(value='')))"
      ]
     },
     "metadata": {},
     "output_type": "display_data"
    },
    {
     "name": "stdout",
     "output_type": "stream",
     "text": [
      "\n"
     ]
    },
    {
     "data": {
      "application/vnd.jupyter.widget-view+json": {
       "model_id": "1dcc667ec23c428385daea0785dfee96",
       "version_major": 2,
       "version_minor": 0
      },
      "text/plain": [
       "HBox(children=(FloatProgress(value=0.0, max=50.0), HTML(value='')))"
      ]
     },
     "metadata": {},
     "output_type": "display_data"
    },
    {
     "name": "stdout",
     "output_type": "stream",
     "text": [
      "\n"
     ]
    },
    {
     "data": {
      "application/vnd.jupyter.widget-view+json": {
       "model_id": "ab02ae2c66db4991b425092566734e7c",
       "version_major": 2,
       "version_minor": 0
      },
      "text/plain": [
       "HBox(children=(FloatProgress(value=0.0, max=50.0), HTML(value='')))"
      ]
     },
     "metadata": {},
     "output_type": "display_data"
    },
    {
     "name": "stdout",
     "output_type": "stream",
     "text": [
      "\n"
     ]
    },
    {
     "data": {
      "application/vnd.jupyter.widget-view+json": {
       "model_id": "eef6336e5cca4118a4c913d2989ec3ae",
       "version_major": 2,
       "version_minor": 0
      },
      "text/plain": [
       "HBox(children=(FloatProgress(value=0.0, max=50.0), HTML(value='')))"
      ]
     },
     "metadata": {},
     "output_type": "display_data"
    },
    {
     "name": "stdout",
     "output_type": "stream",
     "text": [
      "\n"
     ]
    },
    {
     "data": {
      "application/vnd.jupyter.widget-view+json": {
       "model_id": "879da2a41fc04d2cac6e27afc1571ee9",
       "version_major": 2,
       "version_minor": 0
      },
      "text/plain": [
       "HBox(children=(FloatProgress(value=0.0, max=50.0), HTML(value='')))"
      ]
     },
     "metadata": {},
     "output_type": "display_data"
    },
    {
     "name": "stdout",
     "output_type": "stream",
     "text": [
      "\n"
     ]
    },
    {
     "data": {
      "application/vnd.jupyter.widget-view+json": {
       "model_id": "4d9d191760134179954436544a731931",
       "version_major": 2,
       "version_minor": 0
      },
      "text/plain": [
       "HBox(children=(FloatProgress(value=0.0, max=50.0), HTML(value='')))"
      ]
     },
     "metadata": {},
     "output_type": "display_data"
    },
    {
     "name": "stdout",
     "output_type": "stream",
     "text": [
      "\n"
     ]
    },
    {
     "data": {
      "application/vnd.jupyter.widget-view+json": {
       "model_id": "81fd681fe7604575b8accaf024c983d3",
       "version_major": 2,
       "version_minor": 0
      },
      "text/plain": [
       "HBox(children=(FloatProgress(value=0.0, max=50.0), HTML(value='')))"
      ]
     },
     "metadata": {},
     "output_type": "display_data"
    },
    {
     "name": "stdout",
     "output_type": "stream",
     "text": [
      "\n"
     ]
    },
    {
     "data": {
      "application/vnd.jupyter.widget-view+json": {
       "model_id": "1ebfd2d3b2044067b407f66312ffcd15",
       "version_major": 2,
       "version_minor": 0
      },
      "text/plain": [
       "HBox(children=(FloatProgress(value=0.0, max=50.0), HTML(value='')))"
      ]
     },
     "metadata": {},
     "output_type": "display_data"
    },
    {
     "name": "stdout",
     "output_type": "stream",
     "text": [
      "\n"
     ]
    },
    {
     "data": {
      "application/vnd.jupyter.widget-view+json": {
       "model_id": "1f4d267878f24898aad6a919be43f073",
       "version_major": 2,
       "version_minor": 0
      },
      "text/plain": [
       "HBox(children=(FloatProgress(value=0.0, max=50.0), HTML(value='')))"
      ]
     },
     "metadata": {},
     "output_type": "display_data"
    },
    {
     "name": "stdout",
     "output_type": "stream",
     "text": [
      "\n"
     ]
    },
    {
     "data": {
      "application/vnd.jupyter.widget-view+json": {
       "model_id": "52512deba7bc4918bc1935d351db02e9",
       "version_major": 2,
       "version_minor": 0
      },
      "text/plain": [
       "HBox(children=(FloatProgress(value=0.0, max=50.0), HTML(value='')))"
      ]
     },
     "metadata": {},
     "output_type": "display_data"
    },
    {
     "name": "stdout",
     "output_type": "stream",
     "text": [
      "\n"
     ]
    },
    {
     "data": {
      "application/vnd.jupyter.widget-view+json": {
       "model_id": "84f8d7564731486189bb0d33a5b7c9fb",
       "version_major": 2,
       "version_minor": 0
      },
      "text/plain": [
       "HBox(children=(FloatProgress(value=0.0, max=50.0), HTML(value='')))"
      ]
     },
     "metadata": {},
     "output_type": "display_data"
    },
    {
     "name": "stdout",
     "output_type": "stream",
     "text": [
      "\n"
     ]
    },
    {
     "data": {
      "application/vnd.jupyter.widget-view+json": {
       "model_id": "e95b3151591d4241b2513eb5aecc6828",
       "version_major": 2,
       "version_minor": 0
      },
      "text/plain": [
       "HBox(children=(FloatProgress(value=0.0, max=50.0), HTML(value='')))"
      ]
     },
     "metadata": {},
     "output_type": "display_data"
    },
    {
     "name": "stdout",
     "output_type": "stream",
     "text": [
      "\n"
     ]
    },
    {
     "data": {
      "application/vnd.jupyter.widget-view+json": {
       "model_id": "2e173c20eb504069a2f7cd984556eed9",
       "version_major": 2,
       "version_minor": 0
      },
      "text/plain": [
       "HBox(children=(FloatProgress(value=0.0, max=50.0), HTML(value='')))"
      ]
     },
     "metadata": {},
     "output_type": "display_data"
    },
    {
     "name": "stdout",
     "output_type": "stream",
     "text": [
      "\n"
     ]
    },
    {
     "data": {
      "application/vnd.jupyter.widget-view+json": {
       "model_id": "42b85310c83446b0831caeb4cbe5f488",
       "version_major": 2,
       "version_minor": 0
      },
      "text/plain": [
       "HBox(children=(FloatProgress(value=0.0, max=50.0), HTML(value='')))"
      ]
     },
     "metadata": {},
     "output_type": "display_data"
    },
    {
     "name": "stdout",
     "output_type": "stream",
     "text": [
      "\n"
     ]
    },
    {
     "data": {
      "application/vnd.jupyter.widget-view+json": {
       "model_id": "fb6bc7dfff874ca08eb7413a32aa150f",
       "version_major": 2,
       "version_minor": 0
      },
      "text/plain": [
       "HBox(children=(FloatProgress(value=0.0, max=50.0), HTML(value='')))"
      ]
     },
     "metadata": {},
     "output_type": "display_data"
    },
    {
     "name": "stdout",
     "output_type": "stream",
     "text": [
      "\n"
     ]
    },
    {
     "data": {
      "application/vnd.jupyter.widget-view+json": {
       "model_id": "491d96bcdee649d5a5244b5c7c057282",
       "version_major": 2,
       "version_minor": 0
      },
      "text/plain": [
       "HBox(children=(FloatProgress(value=0.0, max=50.0), HTML(value='')))"
      ]
     },
     "metadata": {},
     "output_type": "display_data"
    },
    {
     "name": "stdout",
     "output_type": "stream",
     "text": [
      "\n"
     ]
    },
    {
     "data": {
      "application/vnd.jupyter.widget-view+json": {
       "model_id": "55e5fecb5cd5445b8f813424f4eaa798",
       "version_major": 2,
       "version_minor": 0
      },
      "text/plain": [
       "HBox(children=(FloatProgress(value=0.0, max=50.0), HTML(value='')))"
      ]
     },
     "metadata": {},
     "output_type": "display_data"
    },
    {
     "name": "stdout",
     "output_type": "stream",
     "text": [
      "\n"
     ]
    },
    {
     "data": {
      "application/vnd.jupyter.widget-view+json": {
       "model_id": "9536d1a5a3fb490199a914501adc365a",
       "version_major": 2,
       "version_minor": 0
      },
      "text/plain": [
       "HBox(children=(FloatProgress(value=0.0, max=50.0), HTML(value='')))"
      ]
     },
     "metadata": {},
     "output_type": "display_data"
    },
    {
     "name": "stdout",
     "output_type": "stream",
     "text": [
      "\n"
     ]
    },
    {
     "data": {
      "application/vnd.jupyter.widget-view+json": {
       "model_id": "3017b10fd24e4fb88ea999a7bc39e87f",
       "version_major": 2,
       "version_minor": 0
      },
      "text/plain": [
       "HBox(children=(FloatProgress(value=0.0, max=50.0), HTML(value='')))"
      ]
     },
     "metadata": {},
     "output_type": "display_data"
    },
    {
     "name": "stdout",
     "output_type": "stream",
     "text": [
      "\n"
     ]
    },
    {
     "data": {
      "application/vnd.jupyter.widget-view+json": {
       "model_id": "5aa4af09fa7b4b3384545da20ab3e228",
       "version_major": 2,
       "version_minor": 0
      },
      "text/plain": [
       "HBox(children=(FloatProgress(value=0.0, max=50.0), HTML(value='')))"
      ]
     },
     "metadata": {},
     "output_type": "display_data"
    },
    {
     "name": "stdout",
     "output_type": "stream",
     "text": [
      "\n"
     ]
    },
    {
     "data": {
      "application/vnd.jupyter.widget-view+json": {
       "model_id": "26ce64fb07094b6b8297782b75f2c4b6",
       "version_major": 2,
       "version_minor": 0
      },
      "text/plain": [
       "HBox(children=(FloatProgress(value=0.0, max=50.0), HTML(value='')))"
      ]
     },
     "metadata": {},
     "output_type": "display_data"
    },
    {
     "name": "stdout",
     "output_type": "stream",
     "text": [
      "\n"
     ]
    },
    {
     "data": {
      "application/vnd.jupyter.widget-view+json": {
       "model_id": "b0d2898b2a0e4d498b5785d629d8a43f",
       "version_major": 2,
       "version_minor": 0
      },
      "text/plain": [
       "HBox(children=(FloatProgress(value=0.0, max=50.0), HTML(value='')))"
      ]
     },
     "metadata": {},
     "output_type": "display_data"
    },
    {
     "name": "stdout",
     "output_type": "stream",
     "text": [
      "\n"
     ]
    },
    {
     "data": {
      "application/vnd.jupyter.widget-view+json": {
       "model_id": "b3ddce325d814e8ebd7d1b7b5c0b4aaa",
       "version_major": 2,
       "version_minor": 0
      },
      "text/plain": [
       "HBox(children=(FloatProgress(value=0.0, max=50.0), HTML(value='')))"
      ]
     },
     "metadata": {},
     "output_type": "display_data"
    },
    {
     "name": "stdout",
     "output_type": "stream",
     "text": [
      "\n"
     ]
    },
    {
     "data": {
      "application/vnd.jupyter.widget-view+json": {
       "model_id": "7c4eea9ec76048e0ac2953e66d3d772e",
       "version_major": 2,
       "version_minor": 0
      },
      "text/plain": [
       "HBox(children=(FloatProgress(value=0.0, max=50.0), HTML(value='')))"
      ]
     },
     "metadata": {},
     "output_type": "display_data"
    },
    {
     "name": "stdout",
     "output_type": "stream",
     "text": [
      "\n"
     ]
    },
    {
     "data": {
      "application/vnd.jupyter.widget-view+json": {
       "model_id": "070ad9a8c5b747b1a86dce082362eb5e",
       "version_major": 2,
       "version_minor": 0
      },
      "text/plain": [
       "HBox(children=(FloatProgress(value=0.0, max=50.0), HTML(value='')))"
      ]
     },
     "metadata": {},
     "output_type": "display_data"
    },
    {
     "name": "stdout",
     "output_type": "stream",
     "text": [
      "\n"
     ]
    },
    {
     "data": {
      "application/vnd.jupyter.widget-view+json": {
       "model_id": "dc74e7013c244aeb9ba6fbf2a2dbd31c",
       "version_major": 2,
       "version_minor": 0
      },
      "text/plain": [
       "HBox(children=(FloatProgress(value=0.0, max=50.0), HTML(value='')))"
      ]
     },
     "metadata": {},
     "output_type": "display_data"
    },
    {
     "name": "stdout",
     "output_type": "stream",
     "text": [
      "\n"
     ]
    },
    {
     "data": {
      "application/vnd.jupyter.widget-view+json": {
       "model_id": "b7ed0cf6cea44e29a211143a0e4807c5",
       "version_major": 2,
       "version_minor": 0
      },
      "text/plain": [
       "HBox(children=(FloatProgress(value=0.0, max=50.0), HTML(value='')))"
      ]
     },
     "metadata": {},
     "output_type": "display_data"
    },
    {
     "name": "stdout",
     "output_type": "stream",
     "text": [
      "\n"
     ]
    },
    {
     "data": {
      "application/vnd.jupyter.widget-view+json": {
       "model_id": "0a9dfa14cc134cfc91eb99e4a81a5730",
       "version_major": 2,
       "version_minor": 0
      },
      "text/plain": [
       "HBox(children=(FloatProgress(value=0.0, max=50.0), HTML(value='')))"
      ]
     },
     "metadata": {},
     "output_type": "display_data"
    },
    {
     "name": "stdout",
     "output_type": "stream",
     "text": [
      "\n"
     ]
    },
    {
     "data": {
      "application/vnd.jupyter.widget-view+json": {
       "model_id": "70300f552ba44b10b7aadb12ca136ac3",
       "version_major": 2,
       "version_minor": 0
      },
      "text/plain": [
       "HBox(children=(FloatProgress(value=0.0, max=50.0), HTML(value='')))"
      ]
     },
     "metadata": {},
     "output_type": "display_data"
    },
    {
     "name": "stdout",
     "output_type": "stream",
     "text": [
      "\n"
     ]
    },
    {
     "data": {
      "application/vnd.jupyter.widget-view+json": {
       "model_id": "30e2f635203d49af8089a7ff7a831128",
       "version_major": 2,
       "version_minor": 0
      },
      "text/plain": [
       "HBox(children=(FloatProgress(value=0.0, max=50.0), HTML(value='')))"
      ]
     },
     "metadata": {},
     "output_type": "display_data"
    },
    {
     "name": "stdout",
     "output_type": "stream",
     "text": [
      "\n"
     ]
    },
    {
     "data": {
      "application/vnd.jupyter.widget-view+json": {
       "model_id": "2467eb700cd34006bae7dd51f2000f85",
       "version_major": 2,
       "version_minor": 0
      },
      "text/plain": [
       "HBox(children=(FloatProgress(value=0.0, max=50.0), HTML(value='')))"
      ]
     },
     "metadata": {},
     "output_type": "display_data"
    },
    {
     "name": "stdout",
     "output_type": "stream",
     "text": [
      "\n"
     ]
    },
    {
     "data": {
      "application/vnd.jupyter.widget-view+json": {
       "model_id": "ea235f68c57e4eb29661705fd0190095",
       "version_major": 2,
       "version_minor": 0
      },
      "text/plain": [
       "HBox(children=(FloatProgress(value=0.0, max=50.0), HTML(value='')))"
      ]
     },
     "metadata": {},
     "output_type": "display_data"
    },
    {
     "name": "stdout",
     "output_type": "stream",
     "text": [
      "\n"
     ]
    },
    {
     "data": {
      "application/vnd.jupyter.widget-view+json": {
       "model_id": "3c836a1d9ff54550a3d2bf363dab1f3d",
       "version_major": 2,
       "version_minor": 0
      },
      "text/plain": [
       "HBox(children=(FloatProgress(value=0.0, max=50.0), HTML(value='')))"
      ]
     },
     "metadata": {},
     "output_type": "display_data"
    },
    {
     "name": "stdout",
     "output_type": "stream",
     "text": [
      "\n"
     ]
    },
    {
     "data": {
      "application/vnd.jupyter.widget-view+json": {
       "model_id": "db35e7e361e64a7da9d0278df75ce854",
       "version_major": 2,
       "version_minor": 0
      },
      "text/plain": [
       "HBox(children=(FloatProgress(value=0.0, max=50.0), HTML(value='')))"
      ]
     },
     "metadata": {},
     "output_type": "display_data"
    },
    {
     "name": "stdout",
     "output_type": "stream",
     "text": [
      "\n"
     ]
    },
    {
     "data": {
      "application/vnd.jupyter.widget-view+json": {
       "model_id": "fbcf26ff61df430c997ecc91711bb511",
       "version_major": 2,
       "version_minor": 0
      },
      "text/plain": [
       "HBox(children=(FloatProgress(value=0.0, max=50.0), HTML(value='')))"
      ]
     },
     "metadata": {},
     "output_type": "display_data"
    },
    {
     "name": "stdout",
     "output_type": "stream",
     "text": [
      "\n"
     ]
    },
    {
     "data": {
      "application/vnd.jupyter.widget-view+json": {
       "model_id": "bb055659c62a4116b9e7c1240a53083a",
       "version_major": 2,
       "version_minor": 0
      },
      "text/plain": [
       "HBox(children=(FloatProgress(value=0.0, max=50.0), HTML(value='')))"
      ]
     },
     "metadata": {},
     "output_type": "display_data"
    },
    {
     "name": "stdout",
     "output_type": "stream",
     "text": [
      "\n"
     ]
    },
    {
     "data": {
      "application/vnd.jupyter.widget-view+json": {
       "model_id": "5247c215f3f44f5ba43a995211601d51",
       "version_major": 2,
       "version_minor": 0
      },
      "text/plain": [
       "HBox(children=(FloatProgress(value=0.0, max=50.0), HTML(value='')))"
      ]
     },
     "metadata": {},
     "output_type": "display_data"
    },
    {
     "name": "stdout",
     "output_type": "stream",
     "text": [
      "\n"
     ]
    },
    {
     "data": {
      "application/vnd.jupyter.widget-view+json": {
       "model_id": "2c00948cef854d7cb09a0909d6884ee4",
       "version_major": 2,
       "version_minor": 0
      },
      "text/plain": [
       "HBox(children=(FloatProgress(value=0.0, max=50.0), HTML(value='')))"
      ]
     },
     "metadata": {},
     "output_type": "display_data"
    },
    {
     "name": "stdout",
     "output_type": "stream",
     "text": [
      "\n"
     ]
    },
    {
     "data": {
      "application/vnd.jupyter.widget-view+json": {
       "model_id": "e08fe82cd56a441eba554bf9bc176c28",
       "version_major": 2,
       "version_minor": 0
      },
      "text/plain": [
       "HBox(children=(FloatProgress(value=0.0, max=50.0), HTML(value='')))"
      ]
     },
     "metadata": {},
     "output_type": "display_data"
    },
    {
     "name": "stdout",
     "output_type": "stream",
     "text": [
      "\n"
     ]
    },
    {
     "data": {
      "application/vnd.jupyter.widget-view+json": {
       "model_id": "6c201477973a4cefb6f4dde4c4562f83",
       "version_major": 2,
       "version_minor": 0
      },
      "text/plain": [
       "HBox(children=(FloatProgress(value=0.0, max=50.0), HTML(value='')))"
      ]
     },
     "metadata": {},
     "output_type": "display_data"
    },
    {
     "name": "stdout",
     "output_type": "stream",
     "text": [
      "\n"
     ]
    },
    {
     "data": {
      "application/vnd.jupyter.widget-view+json": {
       "model_id": "aee8f7d8e9e14ba2b654ed0fff37bdf9",
       "version_major": 2,
       "version_minor": 0
      },
      "text/plain": [
       "HBox(children=(FloatProgress(value=0.0, max=50.0), HTML(value='')))"
      ]
     },
     "metadata": {},
     "output_type": "display_data"
    },
    {
     "name": "stdout",
     "output_type": "stream",
     "text": [
      "\n"
     ]
    },
    {
     "data": {
      "application/vnd.jupyter.widget-view+json": {
       "model_id": "8642b5c05cdd4f4f99e979d74adfdf82",
       "version_major": 2,
       "version_minor": 0
      },
      "text/plain": [
       "HBox(children=(FloatProgress(value=0.0, max=50.0), HTML(value='')))"
      ]
     },
     "metadata": {},
     "output_type": "display_data"
    },
    {
     "name": "stdout",
     "output_type": "stream",
     "text": [
      "\n"
     ]
    },
    {
     "data": {
      "application/vnd.jupyter.widget-view+json": {
       "model_id": "dd6d23225e9d4d458b9334ec39d7c70d",
       "version_major": 2,
       "version_minor": 0
      },
      "text/plain": [
       "HBox(children=(FloatProgress(value=0.0, max=50.0), HTML(value='')))"
      ]
     },
     "metadata": {},
     "output_type": "display_data"
    },
    {
     "name": "stdout",
     "output_type": "stream",
     "text": [
      "\n"
     ]
    },
    {
     "data": {
      "application/vnd.jupyter.widget-view+json": {
       "model_id": "8cf8ac3654d8473fabc23fc7ac498a10",
       "version_major": 2,
       "version_minor": 0
      },
      "text/plain": [
       "HBox(children=(FloatProgress(value=0.0, max=50.0), HTML(value='')))"
      ]
     },
     "metadata": {},
     "output_type": "display_data"
    },
    {
     "name": "stdout",
     "output_type": "stream",
     "text": [
      "\n"
     ]
    },
    {
     "data": {
      "application/vnd.jupyter.widget-view+json": {
       "model_id": "8fc7264757f44508bbeb21100dfb765f",
       "version_major": 2,
       "version_minor": 0
      },
      "text/plain": [
       "HBox(children=(FloatProgress(value=0.0, max=50.0), HTML(value='')))"
      ]
     },
     "metadata": {},
     "output_type": "display_data"
    },
    {
     "name": "stdout",
     "output_type": "stream",
     "text": [
      "\n"
     ]
    },
    {
     "data": {
      "application/vnd.jupyter.widget-view+json": {
       "model_id": "0e3e2392a2f14aa186b6b354b9ff77c6",
       "version_major": 2,
       "version_minor": 0
      },
      "text/plain": [
       "HBox(children=(FloatProgress(value=0.0, max=50.0), HTML(value='')))"
      ]
     },
     "metadata": {},
     "output_type": "display_data"
    },
    {
     "name": "stdout",
     "output_type": "stream",
     "text": [
      "\n"
     ]
    },
    {
     "data": {
      "application/vnd.jupyter.widget-view+json": {
       "model_id": "1fe8e342fcff4fb89e071ed3854e6d63",
       "version_major": 2,
       "version_minor": 0
      },
      "text/plain": [
       "HBox(children=(FloatProgress(value=0.0, max=50.0), HTML(value='')))"
      ]
     },
     "metadata": {},
     "output_type": "display_data"
    },
    {
     "name": "stdout",
     "output_type": "stream",
     "text": [
      "\n"
     ]
    },
    {
     "data": {
      "application/vnd.jupyter.widget-view+json": {
       "model_id": "3475e643714440d9b9afd546f2db761d",
       "version_major": 2,
       "version_minor": 0
      },
      "text/plain": [
       "HBox(children=(FloatProgress(value=0.0, max=50.0), HTML(value='')))"
      ]
     },
     "metadata": {},
     "output_type": "display_data"
    },
    {
     "name": "stdout",
     "output_type": "stream",
     "text": [
      "\n"
     ]
    },
    {
     "data": {
      "application/vnd.jupyter.widget-view+json": {
       "model_id": "81947812e0374f4e9da6fc24e7b38b29",
       "version_major": 2,
       "version_minor": 0
      },
      "text/plain": [
       "HBox(children=(FloatProgress(value=0.0, max=50.0), HTML(value='')))"
      ]
     },
     "metadata": {},
     "output_type": "display_data"
    },
    {
     "name": "stdout",
     "output_type": "stream",
     "text": [
      "\n"
     ]
    },
    {
     "data": {
      "application/vnd.jupyter.widget-view+json": {
       "model_id": "3457a6c375674eafbf28d44f278dad18",
       "version_major": 2,
       "version_minor": 0
      },
      "text/plain": [
       "HBox(children=(FloatProgress(value=0.0, max=50.0), HTML(value='')))"
      ]
     },
     "metadata": {},
     "output_type": "display_data"
    },
    {
     "name": "stdout",
     "output_type": "stream",
     "text": [
      "\n"
     ]
    },
    {
     "data": {
      "application/vnd.jupyter.widget-view+json": {
       "model_id": "87d0ea7f5f174e4883df01e0970ea631",
       "version_major": 2,
       "version_minor": 0
      },
      "text/plain": [
       "HBox(children=(FloatProgress(value=0.0, max=50.0), HTML(value='')))"
      ]
     },
     "metadata": {},
     "output_type": "display_data"
    },
    {
     "name": "stdout",
     "output_type": "stream",
     "text": [
      "\n"
     ]
    },
    {
     "data": {
      "application/vnd.jupyter.widget-view+json": {
       "model_id": "62f7bea62d0f47699fe93bb5b39df07c",
       "version_major": 2,
       "version_minor": 0
      },
      "text/plain": [
       "HBox(children=(FloatProgress(value=0.0, max=50.0), HTML(value='')))"
      ]
     },
     "metadata": {},
     "output_type": "display_data"
    },
    {
     "name": "stdout",
     "output_type": "stream",
     "text": [
      "\n"
     ]
    },
    {
     "data": {
      "application/vnd.jupyter.widget-view+json": {
       "model_id": "e52662dc7ec342309f8594d249a2a2c4",
       "version_major": 2,
       "version_minor": 0
      },
      "text/plain": [
       "HBox(children=(FloatProgress(value=0.0, max=50.0), HTML(value='')))"
      ]
     },
     "metadata": {},
     "output_type": "display_data"
    },
    {
     "name": "stdout",
     "output_type": "stream",
     "text": [
      "\n"
     ]
    },
    {
     "data": {
      "application/vnd.jupyter.widget-view+json": {
       "model_id": "ff069349c5a540dea84cdd9a7ab01830",
       "version_major": 2,
       "version_minor": 0
      },
      "text/plain": [
       "HBox(children=(FloatProgress(value=0.0, max=50.0), HTML(value='')))"
      ]
     },
     "metadata": {},
     "output_type": "display_data"
    },
    {
     "name": "stdout",
     "output_type": "stream",
     "text": [
      "\n"
     ]
    },
    {
     "data": {
      "application/vnd.jupyter.widget-view+json": {
       "model_id": "27e2a3dd56954082aa40a666dec8924c",
       "version_major": 2,
       "version_minor": 0
      },
      "text/plain": [
       "HBox(children=(FloatProgress(value=0.0, max=50.0), HTML(value='')))"
      ]
     },
     "metadata": {},
     "output_type": "display_data"
    },
    {
     "name": "stdout",
     "output_type": "stream",
     "text": [
      "\n"
     ]
    },
    {
     "data": {
      "application/vnd.jupyter.widget-view+json": {
       "model_id": "2aca4e5538834c43aa9fffdbf4db37cb",
       "version_major": 2,
       "version_minor": 0
      },
      "text/plain": [
       "HBox(children=(FloatProgress(value=0.0, max=50.0), HTML(value='')))"
      ]
     },
     "metadata": {},
     "output_type": "display_data"
    },
    {
     "name": "stdout",
     "output_type": "stream",
     "text": [
      "\n"
     ]
    },
    {
     "data": {
      "application/vnd.jupyter.widget-view+json": {
       "model_id": "f6fada96f0b2446380c5d61086114f97",
       "version_major": 2,
       "version_minor": 0
      },
      "text/plain": [
       "HBox(children=(FloatProgress(value=0.0, max=50.0), HTML(value='')))"
      ]
     },
     "metadata": {},
     "output_type": "display_data"
    },
    {
     "name": "stdout",
     "output_type": "stream",
     "text": [
      "\n"
     ]
    },
    {
     "data": {
      "application/vnd.jupyter.widget-view+json": {
       "model_id": "ea4d6a1faefb4c858784b454bdc91e84",
       "version_major": 2,
       "version_minor": 0
      },
      "text/plain": [
       "HBox(children=(FloatProgress(value=0.0, max=50.0), HTML(value='')))"
      ]
     },
     "metadata": {},
     "output_type": "display_data"
    },
    {
     "name": "stdout",
     "output_type": "stream",
     "text": [
      "\n"
     ]
    },
    {
     "data": {
      "application/vnd.jupyter.widget-view+json": {
       "model_id": "407e8dd816014d9e93f0e57dee999544",
       "version_major": 2,
       "version_minor": 0
      },
      "text/plain": [
       "HBox(children=(FloatProgress(value=0.0, max=50.0), HTML(value='')))"
      ]
     },
     "metadata": {},
     "output_type": "display_data"
    },
    {
     "name": "stdout",
     "output_type": "stream",
     "text": [
      "\n"
     ]
    },
    {
     "data": {
      "application/vnd.jupyter.widget-view+json": {
       "model_id": "cf7224ceb9404d9a88005529ed419dd3",
       "version_major": 2,
       "version_minor": 0
      },
      "text/plain": [
       "HBox(children=(FloatProgress(value=0.0, max=50.0), HTML(value='')))"
      ]
     },
     "metadata": {},
     "output_type": "display_data"
    },
    {
     "name": "stdout",
     "output_type": "stream",
     "text": [
      "\n"
     ]
    },
    {
     "data": {
      "application/vnd.jupyter.widget-view+json": {
       "model_id": "15580ce690ca4a36805b6429532c6bf9",
       "version_major": 2,
       "version_minor": 0
      },
      "text/plain": [
       "HBox(children=(FloatProgress(value=0.0, max=50.0), HTML(value='')))"
      ]
     },
     "metadata": {},
     "output_type": "display_data"
    },
    {
     "name": "stdout",
     "output_type": "stream",
     "text": [
      "\n"
     ]
    },
    {
     "data": {
      "application/vnd.jupyter.widget-view+json": {
       "model_id": "af572c4e149b4d4cb39a1b9624342c2c",
       "version_major": 2,
       "version_minor": 0
      },
      "text/plain": [
       "HBox(children=(FloatProgress(value=0.0, max=50.0), HTML(value='')))"
      ]
     },
     "metadata": {},
     "output_type": "display_data"
    },
    {
     "name": "stdout",
     "output_type": "stream",
     "text": [
      "\n"
     ]
    },
    {
     "data": {
      "application/vnd.jupyter.widget-view+json": {
       "model_id": "df38ae7b72754d2e8eddd03b06de0f8e",
       "version_major": 2,
       "version_minor": 0
      },
      "text/plain": [
       "HBox(children=(FloatProgress(value=0.0, max=50.0), HTML(value='')))"
      ]
     },
     "metadata": {},
     "output_type": "display_data"
    },
    {
     "name": "stdout",
     "output_type": "stream",
     "text": [
      "\n"
     ]
    },
    {
     "data": {
      "application/vnd.jupyter.widget-view+json": {
       "model_id": "0cc43c9afbdd43ada0e5efe029a9fd1d",
       "version_major": 2,
       "version_minor": 0
      },
      "text/plain": [
       "HBox(children=(FloatProgress(value=0.0, max=50.0), HTML(value='')))"
      ]
     },
     "metadata": {},
     "output_type": "display_data"
    },
    {
     "name": "stdout",
     "output_type": "stream",
     "text": [
      "\n"
     ]
    }
   ],
   "source": [
    "generated_path = []\n",
    "generated_logsigs = []\n",
    "for cond in data_cond[:100]:\n",
    "    generated_logsig = generate(cond, cond_dim, n_latent).to('cpu').detach().numpy().copy()\n",
    "    recovered_path, loss = logsig_inversion_v2.train(generated_logsig, sig_order, n_iterations, n_organisms, n_points, price_pip, spot_vol_pip, price_n_pips, spot_vol_n_pips)\n",
    "    \n",
    "    generated_path.append(recovered_path)\n",
    "    generated_logsigs.append(generated_logsig)"
   ]
  },
  {
   "cell_type": "code",
   "execution_count": 18,
   "id": "32465b9f-86e8-49d6-bcaa-3235a725c438",
   "metadata": {},
   "outputs": [],
   "source": [
    "sigs1 = []\n",
    "for i, path in enumerate(generated_path):\n",
    "    path_sig = esig.stream2sig(leadlag(path), sig_order)\n",
    "    sigs1.append(path_sig)\n",
    "sigs1 = np.array(sigs1)\n",
    "    \n",
    "sigs2 = []\n",
    "for i in range(100):\n",
    "    path = leadlag_DATAs[i][:, [4, 5]]\n",
    "    path_sig = esig.stream2sig(path, sig_order)\n",
    "    sigs2.append(path_sig)\n",
    "sigs2 = np.array(sigs2)"
   ]
  },
  {
   "cell_type": "code",
   "execution_count": 19,
   "id": "495a10fe-155d-4cf7-95cd-ed34e196d096",
   "metadata": {},
   "outputs": [
    {
     "data": {
      "application/vnd.jupyter.widget-view+json": {
       "model_id": "ee30069fd78a4dafb890adadfba3ceb6",
       "version_major": 2,
       "version_minor": 0
      },
      "text/plain": [
       "HBox(children=(FloatProgress(value=0.0, description='Computing signatures of population 1', style=ProgressStyl…"
      ]
     },
     "metadata": {},
     "output_type": "display_data"
    },
    {
     "name": "stdout",
     "output_type": "stream",
     "text": [
      "\n"
     ]
    },
    {
     "data": {
      "application/vnd.jupyter.widget-view+json": {
       "model_id": "91b03bc8ae0f423ba19c7467fc9f3090",
       "version_major": 2,
       "version_minor": 0
      },
      "text/plain": [
       "HBox(children=(FloatProgress(value=0.0, description='Computing signatures of population 2', style=ProgressStyl…"
      ]
     },
     "metadata": {},
     "output_type": "display_data"
    },
    {
     "name": "stdout",
     "output_type": "stream",
     "text": [
      "\n",
      "Are the generated and real distributions DIFFERENT? False\n"
     ]
    }
   ],
   "source": [
    "res = process_discriminator.test(sigs1, sigs2, order=sig_order, compute_sigs=False, confidence_level=0.99)\n",
    "\n",
    "print(\"Are the generated and real distributions DIFFERENT? {}\".format(res))"
   ]
  },
  {
   "cell_type": "code",
   "execution_count": 20,
   "id": "ea90618e-e3a5-4757-b01f-a6a99269f8dd",
   "metadata": {},
   "outputs": [
    {
     "data": {
      "image/png": "[encoded data removed]",
      "text/plain": [
       "<Figure size 432x288 with 1 Axes>"
      ]
     },
     "metadata": {
      "needs_background": "light"
     },
     "output_type": "display_data"
    }
   ],
   "source": [
    "fig, ax = plt.subplots()\n",
    "for path1, path2 in zip(DATAs[:100], generated_path):\n",
    "    vol_path = path1[:, 2] -  path1[0, 2]\n",
    "    ax.plot(vol_path, 'orange', alpha=0.25)\n",
    "\n",
    "    ax.plot(path2, 'blue', alpha=0.2)\n",
    "\n",
    "orange_patch = mpatches.Patch(color = 'orange', label = 'volatility paths')\n",
    "blue_patch = mpatches.Patch(color = 'blue', label = 'Generated paths')\n",
    "\n",
    "\n",
    "x = range(0, 101, 20)\n",
    "ax.set_xticks(x)\n",
    "ax.set_xticklabels([str(i/100) for i in x])\n",
    "ax.set_xlabel(\"Timestamp\", fontsize=14)\n",
    "\n",
    "plt.legend(handles=[blue_patch, orange_patch], fontsize=10)    \n",
    "#外枠の削除\n",
    "plt.gca().spines['right'].set_visible(False)\n",
    "plt.gca().spines['top'].set_visible(False)\n",
    "plt.gca().spines['left'].set_visible(False)\n",
    "plt.gca().spines['bottom'].set_visible(True)\n",
    "\n",
    "fig.savefig(\"Figures/generatedVolFromVol_{}.png\".format(sig_order), dpi=300, bbox_inches=\"tight\")\n",
    "plt.show();"
   ]
  },
  {
   "cell_type": "code",
   "execution_count": 21,
   "id": "9482c420-de7d-4810-b269-811c8e8adb00",
   "metadata": {},
   "outputs": [
    {
     "data": {
      "image/png": "[encoded data removed]",
      "text/plain": [
       "<Figure size 432x288 with 1 Axes>"
      ]
     },
     "metadata": {
      "needs_background": "light"
     },
     "output_type": "display_data"
    }
   ],
   "source": [
    "generated_vol = [path[40] for path in generated_path]\n",
    "real_vol = [path[40, 2] - path[0, 2] for path in DATAs[:100]]\n",
    "\n",
    "# 最小値\n",
    "x_min_gene = min(generated_vol)\n",
    "x_min_real = min(real_vol)\n",
    "\n",
    "x_min = min(x_min_gene, x_min_real)\n",
    "\n",
    "# 最大値\n",
    "x_max_gene = max(generated_vol)\n",
    "x_max_real = max(real_vol)\n",
    "\n",
    "x_max = min(x_max_gene, x_max_real)\n",
    "\n",
    "# 最小値から最大値の範囲で5間隔\n",
    "range_bin_width = np.arange(x_min, x_max, 0.001)\n",
    "\n",
    "fig, ax = plt.subplots()\n",
    "ax = sns.distplot(real_vol, color = 'orange', bins=range_bin_width, label=\"Real paths\", kde = True)\n",
    "ax = sns.distplot(generated_vol, color = 'blue', bins=range_bin_width, label=\"Generated paths\", kde = True)\n",
    "\n",
    "\n",
    "#外枠の削除\n",
    "plt.gca().spines['right'].set_visible(False)\n",
    "plt.gca().spines['top'].set_visible(False)\n",
    "plt.gca().spines['left'].set_visible(False)\n",
    "plt.gca().spines['bottom'].set_visible(True)\n",
    "\n",
    "plt.xlabel(\"volatility\", fontsize=14)\n",
    "plt.legend(fontsize=12)\n",
    "fig.savefig(\"Figures/generatedVolFromVol_40_{}.png\".format(sig_order), dpi=300, bbox_inches=\"tight\")\n",
    "plt.show();"
   ]
  },
  {
   "cell_type": "code",
   "execution_count": null,
   "id": "0937aa30-9973-46da-a839-18bbee285f44",
   "metadata": {},
   "outputs": [],
   "source": []
  }
 ],
 "metadata": {
  "kernelspec": {
   "display_name": "Python 3 (ipykernel)",
   "language": "python",
   "name": "python3"
  },
  "language_info": {
   "codemirror_mode": {
    "name": "ipython",
    "version": 3
   },
   "file_extension": ".py",
   "mimetype": "text/x-python",
   "name": "python",
   "nbconvert_exporter": "python",
   "pygments_lexer": "ipython3",
   "version": "3.9.6"
  }
 },
 "nbformat": 4,
 "nbformat_minor": 5
}
